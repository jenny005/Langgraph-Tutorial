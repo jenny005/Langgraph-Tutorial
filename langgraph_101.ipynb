{
  "cells": [
    {
      "cell_type": "markdown",
      "metadata": {
        "id": "view-in-github",
        "colab_type": "text"
      },
      "source": [
        "<a href=\"https://colab.research.google.com/github/jenny005/Langgraph-Tutorial/blob/main/langgraph_101.ipynb\" target=\"_parent\"><img src=\"https://colab.research.google.com/assets/colab-badge.svg\" alt=\"Open In Colab\"/></a>"
      ]
    },
    {
      "cell_type": "markdown",
      "id": "dc082433",
      "metadata": {
        "id": "dc082433"
      },
      "source": [
        "# LangGraph 101\n",
        "\n",
        "[LLMs](https://python.langchain.com/docs/concepts/chat_models/) make it possible to embed intelligence into a new class of applications. [LangGraph](https://langchain-ai.github.io/langgraph/) is a framework to help build applications with LLMs. Here, we will overview the basics of LangGraph, explain its benefits, show how to use it to build workflows / agents, and show how it works with [LangChain](https://www.langchain.com/) / [LangSmith](https://docs.smith.langchain.com/).\n",
        "\n",
        "![ecosystem](https://github.com/langchain-ai/agents-from-scratch/blob/main/notebooks/img/ecosystem.png?raw=1)\n",
        "\n",
        "## Chat models\n",
        "\n",
        "[Chat models](https://python.langchain.com/docs/concepts/chat_models/) are the foundation of LLM applications. They are typically accessed through a chat interface that takes a list of [messages](https://python.langchain.com/docs/concepts/messages/) as input and returns a [message](https://python.langchain.com/docs/concepts/messages/) as output. LangChain provides [a standardized interface for chat models](https://python.langchain.com/api_reference/langchain/chat_models/langchain.chat_models.base.init_chat_model.html), making it easy to [access many different providers](https://python.langchain.com/docs/integrations/chat/)."
      ]
    },
    {
      "cell_type": "code",
      "source": [
        "pip install -r /content/requirements.txt"
      ],
      "metadata": {
        "colab": {
          "base_uri": "https://localhost:8080/"
        },
        "id": "AaHEpkh8oo6I",
        "outputId": "987ff1b7-c820-42af-c61c-0c1b893bd364"
      },
      "id": "AaHEpkh8oo6I",
      "execution_count": null,
      "outputs": [
        {
          "output_type": "stream",
          "name": "stdout",
          "text": [
            "Requirement already satisfied: typing_extensions in /usr/local/lib/python3.11/dist-packages (from -r /content/requirements.txt (line 1)) (4.14.1)\n",
            "Collecting langgraph (from -r /content/requirements.txt (line 2))\n",
            "  Downloading langgraph-0.6.4-py3-none-any.whl.metadata (6.8 kB)\n",
            "Requirement already satisfied: langchain_openai in /usr/local/lib/python3.11/dist-packages (from -r /content/requirements.txt (line 3)) (0.3.30)\n",
            "Requirement already satisfied: langchain_core in /usr/local/lib/python3.11/dist-packages (from -r /content/requirements.txt (line 4)) (0.3.74)\n",
            "Collecting langgraph-checkpoint-mongodb (from -r /content/requirements.txt (line 5))\n",
            "  Downloading langgraph_checkpoint_mongodb-0.1.4-py3-none-any.whl.metadata (2.6 kB)\n",
            "Collecting langchain_community (from -r /content/requirements.txt (line 6))\n",
            "  Downloading langchain_community-0.3.27-py3-none-any.whl.metadata (2.9 kB)\n",
            "Requirement already satisfied: python-dotenv in /usr/local/lib/python3.11/dist-packages (from -r /content/requirements.txt (line 7)) (1.1.1)\n",
            "Requirement already satisfied: yfinance in /usr/local/lib/python3.11/dist-packages (from -r /content/requirements.txt (line 8)) (0.2.65)\n",
            "Collecting pymongo (from -r /content/requirements.txt (line 9))\n",
            "  Downloading pymongo-4.14.0-cp311-cp311-manylinux_2_17_x86_64.manylinux2014_x86_64.whl.metadata (22 kB)\n",
            "Collecting wikipedia (from -r /content/requirements.txt (line 10))\n",
            "  Downloading wikipedia-1.4.0.tar.gz (27 kB)\n",
            "  Preparing metadata (setup.py) ... \u001b[?25l\u001b[?25hdone\n",
            "Collecting trustcall (from -r /content/requirements.txt (line 11))\n",
            "  Downloading trustcall-0.0.39-py3-none-any.whl.metadata (29 kB)\n",
            "Collecting langchain-mcp-adapters (from -r /content/requirements.txt (line 12))\n",
            "  Downloading langchain_mcp_adapters-0.1.9-py3-none-any.whl.metadata (10 kB)\n",
            "Collecting langgraph-checkpoint<3.0.0,>=2.1.0 (from langgraph->-r /content/requirements.txt (line 2))\n",
            "  Downloading langgraph_checkpoint-2.1.1-py3-none-any.whl.metadata (4.2 kB)\n",
            "Collecting langgraph-prebuilt<0.7.0,>=0.6.0 (from langgraph->-r /content/requirements.txt (line 2))\n",
            "  Downloading langgraph_prebuilt-0.6.4-py3-none-any.whl.metadata (4.5 kB)\n",
            "Collecting langgraph-sdk<0.3.0,>=0.2.0 (from langgraph->-r /content/requirements.txt (line 2))\n",
            "  Downloading langgraph_sdk-0.2.0-py3-none-any.whl.metadata (1.5 kB)\n",
            "Requirement already satisfied: pydantic>=2.7.4 in /usr/local/lib/python3.11/dist-packages (from langgraph->-r /content/requirements.txt (line 2)) (2.11.7)\n",
            "Requirement already satisfied: xxhash>=3.5.0 in /usr/local/lib/python3.11/dist-packages (from langgraph->-r /content/requirements.txt (line 2)) (3.5.0)\n",
            "Requirement already satisfied: openai<2.0.0,>=1.99.9 in /usr/local/lib/python3.11/dist-packages (from langchain_openai->-r /content/requirements.txt (line 3)) (1.99.9)\n",
            "Requirement already satisfied: tiktoken<1,>=0.7 in /usr/local/lib/python3.11/dist-packages (from langchain_openai->-r /content/requirements.txt (line 3)) (0.10.0)\n",
            "Requirement already satisfied: langsmith>=0.3.45 in /usr/local/lib/python3.11/dist-packages (from langchain_core->-r /content/requirements.txt (line 4)) (0.4.12)\n",
            "Requirement already satisfied: tenacity!=8.4.0,<10.0.0,>=8.1.0 in /usr/local/lib/python3.11/dist-packages (from langchain_core->-r /content/requirements.txt (line 4)) (8.5.0)\n",
            "Requirement already satisfied: jsonpatch<2.0,>=1.33 in /usr/local/lib/python3.11/dist-packages (from langchain_core->-r /content/requirements.txt (line 4)) (1.33)\n",
            "Requirement already satisfied: PyYAML>=5.3 in /usr/local/lib/python3.11/dist-packages (from langchain_core->-r /content/requirements.txt (line 4)) (6.0.2)\n",
            "Requirement already satisfied: packaging>=23.2 in /usr/local/lib/python3.11/dist-packages (from langchain_core->-r /content/requirements.txt (line 4)) (25.0)\n",
            "Collecting langchain-mongodb>=0.6.1 (from langgraph-checkpoint-mongodb->-r /content/requirements.txt (line 5))\n",
            "  Downloading langchain_mongodb-0.6.2-py3-none-any.whl.metadata (1.7 kB)\n",
            "Collecting motor>3.6.0 (from langgraph-checkpoint-mongodb->-r /content/requirements.txt (line 5))\n",
            "  Downloading motor-3.7.1-py3-none-any.whl.metadata (21 kB)\n",
            "Collecting pymongo (from -r /content/requirements.txt (line 9))\n",
            "  Downloading pymongo-4.12.1-cp311-cp311-manylinux_2_17_x86_64.manylinux2014_x86_64.whl.metadata (22 kB)\n",
            "Requirement already satisfied: langchain<1.0.0,>=0.3.26 in /usr/local/lib/python3.11/dist-packages (from langchain_community->-r /content/requirements.txt (line 6)) (0.3.27)\n",
            "Requirement already satisfied: SQLAlchemy<3,>=1.4 in /usr/local/lib/python3.11/dist-packages (from langchain_community->-r /content/requirements.txt (line 6)) (2.0.42)\n",
            "Requirement already satisfied: requests<3,>=2 in /usr/local/lib/python3.11/dist-packages (from langchain_community->-r /content/requirements.txt (line 6)) (2.32.3)\n",
            "Requirement already satisfied: aiohttp<4.0.0,>=3.8.3 in /usr/local/lib/python3.11/dist-packages (from langchain_community->-r /content/requirements.txt (line 6)) (3.12.15)\n",
            "Collecting dataclasses-json<0.7,>=0.5.7 (from langchain_community->-r /content/requirements.txt (line 6))\n",
            "  Downloading dataclasses_json-0.6.7-py3-none-any.whl.metadata (25 kB)\n",
            "Collecting pydantic-settings<3.0.0,>=2.4.0 (from langchain_community->-r /content/requirements.txt (line 6))\n",
            "  Downloading pydantic_settings-2.10.1-py3-none-any.whl.metadata (3.4 kB)\n",
            "Collecting httpx-sse<1.0.0,>=0.4.0 (from langchain_community->-r /content/requirements.txt (line 6))\n",
            "  Downloading httpx_sse-0.4.1-py3-none-any.whl.metadata (9.4 kB)\n",
            "Requirement already satisfied: numpy>=1.26.2 in /usr/local/lib/python3.11/dist-packages (from langchain_community->-r /content/requirements.txt (line 6)) (2.0.2)\n",
            "Requirement already satisfied: pandas>=1.3.0 in /usr/local/lib/python3.11/dist-packages (from yfinance->-r /content/requirements.txt (line 8)) (2.2.2)\n",
            "Requirement already satisfied: multitasking>=0.0.7 in /usr/local/lib/python3.11/dist-packages (from yfinance->-r /content/requirements.txt (line 8)) (0.0.12)\n",
            "Requirement already satisfied: platformdirs>=2.0.0 in /usr/local/lib/python3.11/dist-packages (from yfinance->-r /content/requirements.txt (line 8)) (4.3.8)\n",
            "Requirement already satisfied: pytz>=2022.5 in /usr/local/lib/python3.11/dist-packages (from yfinance->-r /content/requirements.txt (line 8)) (2025.2)\n",
            "Requirement already satisfied: frozendict>=2.3.4 in /usr/local/lib/python3.11/dist-packages (from yfinance->-r /content/requirements.txt (line 8)) (2.4.6)\n",
            "Requirement already satisfied: peewee>=3.16.2 in /usr/local/lib/python3.11/dist-packages (from yfinance->-r /content/requirements.txt (line 8)) (3.18.2)\n",
            "Requirement already satisfied: beautifulsoup4>=4.11.1 in /usr/local/lib/python3.11/dist-packages (from yfinance->-r /content/requirements.txt (line 8)) (4.13.4)\n",
            "Requirement already satisfied: curl_cffi>=0.7 in /usr/local/lib/python3.11/dist-packages (from yfinance->-r /content/requirements.txt (line 8)) (0.13.0)\n",
            "Requirement already satisfied: protobuf>=3.19.0 in /usr/local/lib/python3.11/dist-packages (from yfinance->-r /content/requirements.txt (line 8)) (5.29.5)\n",
            "Requirement already satisfied: websockets>=13.0 in /usr/local/lib/python3.11/dist-packages (from yfinance->-r /content/requirements.txt (line 8)) (15.0.1)\n",
            "Collecting dnspython<3.0.0,>=1.16.0 (from pymongo->-r /content/requirements.txt (line 9))\n",
            "  Downloading dnspython-2.7.0-py3-none-any.whl.metadata (5.8 kB)\n",
            "Collecting dydantic<1.0.0,>=0.0.8 (from trustcall->-r /content/requirements.txt (line 11))\n",
            "  Downloading dydantic-0.0.8-py3-none-any.whl.metadata (3.6 kB)\n",
            "Collecting mcp>=1.9.2 (from langchain-mcp-adapters->-r /content/requirements.txt (line 12))\n",
            "  Downloading mcp-1.12.4-py3-none-any.whl.metadata (68 kB)\n",
            "\u001b[2K     \u001b[90m━━━━━━━━━━━━━━━━━━━━━━━━━━━━━━━━━━━━━━━━\u001b[0m \u001b[32m68.2/68.2 kB\u001b[0m \u001b[31m3.0 MB/s\u001b[0m eta \u001b[36m0:00:00\u001b[0m\n",
            "\u001b[?25hRequirement already satisfied: aiohappyeyeballs>=2.5.0 in /usr/local/lib/python3.11/dist-packages (from aiohttp<4.0.0,>=3.8.3->langchain_community->-r /content/requirements.txt (line 6)) (2.6.1)\n",
            "Requirement already satisfied: aiosignal>=1.4.0 in /usr/local/lib/python3.11/dist-packages (from aiohttp<4.0.0,>=3.8.3->langchain_community->-r /content/requirements.txt (line 6)) (1.4.0)\n",
            "Requirement already satisfied: attrs>=17.3.0 in /usr/local/lib/python3.11/dist-packages (from aiohttp<4.0.0,>=3.8.3->langchain_community->-r /content/requirements.txt (line 6)) (25.3.0)\n",
            "Requirement already satisfied: frozenlist>=1.1.1 in /usr/local/lib/python3.11/dist-packages (from aiohttp<4.0.0,>=3.8.3->langchain_community->-r /content/requirements.txt (line 6)) (1.7.0)\n",
            "Requirement already satisfied: multidict<7.0,>=4.5 in /usr/local/lib/python3.11/dist-packages (from aiohttp<4.0.0,>=3.8.3->langchain_community->-r /content/requirements.txt (line 6)) (6.6.3)\n",
            "Requirement already satisfied: propcache>=0.2.0 in /usr/local/lib/python3.11/dist-packages (from aiohttp<4.0.0,>=3.8.3->langchain_community->-r /content/requirements.txt (line 6)) (0.3.2)\n",
            "Requirement already satisfied: yarl<2.0,>=1.17.0 in /usr/local/lib/python3.11/dist-packages (from aiohttp<4.0.0,>=3.8.3->langchain_community->-r /content/requirements.txt (line 6)) (1.20.1)\n",
            "Requirement already satisfied: soupsieve>1.2 in /usr/local/lib/python3.11/dist-packages (from beautifulsoup4>=4.11.1->yfinance->-r /content/requirements.txt (line 8)) (2.7)\n",
            "Requirement already satisfied: cffi>=1.12.0 in /usr/local/lib/python3.11/dist-packages (from curl_cffi>=0.7->yfinance->-r /content/requirements.txt (line 8)) (1.17.1)\n",
            "Requirement already satisfied: certifi>=2024.2.2 in /usr/local/lib/python3.11/dist-packages (from curl_cffi>=0.7->yfinance->-r /content/requirements.txt (line 8)) (2025.8.3)\n",
            "Collecting marshmallow<4.0.0,>=3.18.0 (from dataclasses-json<0.7,>=0.5.7->langchain_community->-r /content/requirements.txt (line 6))\n",
            "  Downloading marshmallow-3.26.1-py3-none-any.whl.metadata (7.3 kB)\n",
            "Collecting typing-inspect<1,>=0.4.0 (from dataclasses-json<0.7,>=0.5.7->langchain_community->-r /content/requirements.txt (line 6))\n",
            "  Downloading typing_inspect-0.9.0-py3-none-any.whl.metadata (1.5 kB)\n",
            "Requirement already satisfied: jsonpointer>=1.9 in /usr/local/lib/python3.11/dist-packages (from jsonpatch<2.0,>=1.33->langchain_core->-r /content/requirements.txt (line 4)) (3.0.0)\n",
            "Requirement already satisfied: langchain-text-splitters<1.0.0,>=0.3.9 in /usr/local/lib/python3.11/dist-packages (from langchain<1.0.0,>=0.3.26->langchain_community->-r /content/requirements.txt (line 6)) (0.3.9)\n",
            "Collecting lark<2.0.0,>=1.1.9 (from langchain-mongodb>=0.6.1->langgraph-checkpoint-mongodb->-r /content/requirements.txt (line 5))\n",
            "  Downloading lark-1.2.2-py3-none-any.whl.metadata (1.8 kB)\n",
            "Collecting ormsgpack>=1.10.0 (from langgraph-checkpoint<3.0.0,>=2.1.0->langgraph->-r /content/requirements.txt (line 2))\n",
            "  Downloading ormsgpack-1.10.0-cp311-cp311-manylinux_2_17_x86_64.manylinux2014_x86_64.whl.metadata (43 kB)\n",
            "\u001b[2K     \u001b[90m━━━━━━━━━━━━━━━━━━━━━━━━━━━━━━━━━━━━━━━━\u001b[0m \u001b[32m43.7/43.7 kB\u001b[0m \u001b[31m3.2 MB/s\u001b[0m eta \u001b[36m0:00:00\u001b[0m\n",
            "\u001b[?25hRequirement already satisfied: httpx>=0.25.2 in /usr/local/lib/python3.11/dist-packages (from langgraph-sdk<0.3.0,>=0.2.0->langgraph->-r /content/requirements.txt (line 2)) (0.28.1)\n",
            "Requirement already satisfied: orjson>=3.10.1 in /usr/local/lib/python3.11/dist-packages (from langgraph-sdk<0.3.0,>=0.2.0->langgraph->-r /content/requirements.txt (line 2)) (3.11.1)\n",
            "Requirement already satisfied: requests-toolbelt>=1.0.0 in /usr/local/lib/python3.11/dist-packages (from langsmith>=0.3.45->langchain_core->-r /content/requirements.txt (line 4)) (1.0.0)\n",
            "Requirement already satisfied: zstandard>=0.23.0 in /usr/local/lib/python3.11/dist-packages (from langsmith>=0.3.45->langchain_core->-r /content/requirements.txt (line 4)) (0.23.0)\n",
            "Requirement already satisfied: anyio>=4.5 in /usr/local/lib/python3.11/dist-packages (from mcp>=1.9.2->langchain-mcp-adapters->-r /content/requirements.txt (line 12)) (4.10.0)\n",
            "Requirement already satisfied: jsonschema>=4.20.0 in /usr/local/lib/python3.11/dist-packages (from mcp>=1.9.2->langchain-mcp-adapters->-r /content/requirements.txt (line 12)) (4.25.0)\n",
            "Requirement already satisfied: python-multipart>=0.0.9 in /usr/local/lib/python3.11/dist-packages (from mcp>=1.9.2->langchain-mcp-adapters->-r /content/requirements.txt (line 12)) (0.0.20)\n",
            "Collecting sse-starlette>=1.6.1 (from mcp>=1.9.2->langchain-mcp-adapters->-r /content/requirements.txt (line 12))\n",
            "  Downloading sse_starlette-3.0.2-py3-none-any.whl.metadata (11 kB)\n",
            "Requirement already satisfied: starlette>=0.27 in /usr/local/lib/python3.11/dist-packages (from mcp>=1.9.2->langchain-mcp-adapters->-r /content/requirements.txt (line 12)) (0.47.2)\n",
            "Requirement already satisfied: uvicorn>=0.23.1 in /usr/local/lib/python3.11/dist-packages (from mcp>=1.9.2->langchain-mcp-adapters->-r /content/requirements.txt (line 12)) (0.35.0)\n",
            "Requirement already satisfied: distro<2,>=1.7.0 in /usr/local/lib/python3.11/dist-packages (from openai<2.0.0,>=1.99.9->langchain_openai->-r /content/requirements.txt (line 3)) (1.9.0)\n",
            "Requirement already satisfied: jiter<1,>=0.4.0 in /usr/local/lib/python3.11/dist-packages (from openai<2.0.0,>=1.99.9->langchain_openai->-r /content/requirements.txt (line 3)) (0.10.0)\n",
            "Requirement already satisfied: sniffio in /usr/local/lib/python3.11/dist-packages (from openai<2.0.0,>=1.99.9->langchain_openai->-r /content/requirements.txt (line 3)) (1.3.1)\n",
            "Requirement already satisfied: tqdm>4 in /usr/local/lib/python3.11/dist-packages (from openai<2.0.0,>=1.99.9->langchain_openai->-r /content/requirements.txt (line 3)) (4.67.1)\n",
            "Requirement already satisfied: python-dateutil>=2.8.2 in /usr/local/lib/python3.11/dist-packages (from pandas>=1.3.0->yfinance->-r /content/requirements.txt (line 8)) (2.9.0.post0)\n",
            "Requirement already satisfied: tzdata>=2022.7 in /usr/local/lib/python3.11/dist-packages (from pandas>=1.3.0->yfinance->-r /content/requirements.txt (line 8)) (2025.2)\n",
            "Requirement already satisfied: annotated-types>=0.6.0 in /usr/local/lib/python3.11/dist-packages (from pydantic>=2.7.4->langgraph->-r /content/requirements.txt (line 2)) (0.7.0)\n",
            "Requirement already satisfied: pydantic-core==2.33.2 in /usr/local/lib/python3.11/dist-packages (from pydantic>=2.7.4->langgraph->-r /content/requirements.txt (line 2)) (2.33.2)\n",
            "Requirement already satisfied: typing-inspection>=0.4.0 in /usr/local/lib/python3.11/dist-packages (from pydantic>=2.7.4->langgraph->-r /content/requirements.txt (line 2)) (0.4.1)\n",
            "Requirement already satisfied: charset-normalizer<4,>=2 in /usr/local/lib/python3.11/dist-packages (from requests<3,>=2->langchain_community->-r /content/requirements.txt (line 6)) (3.4.2)\n",
            "Requirement already satisfied: idna<4,>=2.5 in /usr/local/lib/python3.11/dist-packages (from requests<3,>=2->langchain_community->-r /content/requirements.txt (line 6)) (3.10)\n",
            "Requirement already satisfied: urllib3<3,>=1.21.1 in /usr/local/lib/python3.11/dist-packages (from requests<3,>=2->langchain_community->-r /content/requirements.txt (line 6)) (2.5.0)\n",
            "Requirement already satisfied: greenlet>=1 in /usr/local/lib/python3.11/dist-packages (from SQLAlchemy<3,>=1.4->langchain_community->-r /content/requirements.txt (line 6)) (3.2.3)\n",
            "Requirement already satisfied: regex>=2022.1.18 in /usr/local/lib/python3.11/dist-packages (from tiktoken<1,>=0.7->langchain_openai->-r /content/requirements.txt (line 3)) (2024.11.6)\n",
            "Requirement already satisfied: pycparser in /usr/local/lib/python3.11/dist-packages (from cffi>=1.12.0->curl_cffi>=0.7->yfinance->-r /content/requirements.txt (line 8)) (2.22)\n",
            "Requirement already satisfied: httpcore==1.* in /usr/local/lib/python3.11/dist-packages (from httpx>=0.25.2->langgraph-sdk<0.3.0,>=0.2.0->langgraph->-r /content/requirements.txt (line 2)) (1.0.9)\n",
            "Requirement already satisfied: h11>=0.16 in /usr/local/lib/python3.11/dist-packages (from httpcore==1.*->httpx>=0.25.2->langgraph-sdk<0.3.0,>=0.2.0->langgraph->-r /content/requirements.txt (line 2)) (0.16.0)\n",
            "Requirement already satisfied: jsonschema-specifications>=2023.03.6 in /usr/local/lib/python3.11/dist-packages (from jsonschema>=4.20.0->mcp>=1.9.2->langchain-mcp-adapters->-r /content/requirements.txt (line 12)) (2025.4.1)\n",
            "Requirement already satisfied: referencing>=0.28.4 in /usr/local/lib/python3.11/dist-packages (from jsonschema>=4.20.0->mcp>=1.9.2->langchain-mcp-adapters->-r /content/requirements.txt (line 12)) (0.36.2)\n",
            "Requirement already satisfied: rpds-py>=0.7.1 in /usr/local/lib/python3.11/dist-packages (from jsonschema>=4.20.0->mcp>=1.9.2->langchain-mcp-adapters->-r /content/requirements.txt (line 12)) (0.26.0)\n",
            "Requirement already satisfied: six>=1.5 in /usr/local/lib/python3.11/dist-packages (from python-dateutil>=2.8.2->pandas>=1.3.0->yfinance->-r /content/requirements.txt (line 8)) (1.17.0)\n",
            "Collecting mypy-extensions>=0.3.0 (from typing-inspect<1,>=0.4.0->dataclasses-json<0.7,>=0.5.7->langchain_community->-r /content/requirements.txt (line 6))\n",
            "  Downloading mypy_extensions-1.1.0-py3-none-any.whl.metadata (1.1 kB)\n",
            "Requirement already satisfied: click>=7.0 in /usr/local/lib/python3.11/dist-packages (from uvicorn>=0.23.1->mcp>=1.9.2->langchain-mcp-adapters->-r /content/requirements.txt (line 12)) (8.2.1)\n",
            "Downloading langgraph-0.6.4-py3-none-any.whl (153 kB)\n",
            "\u001b[2K   \u001b[90m━━━━━━━━━━━━━━━━━━━━━━━━━━━━━━━━━━━━━━━━\u001b[0m \u001b[32m153.2/153.2 kB\u001b[0m \u001b[31m6.3 MB/s\u001b[0m eta \u001b[36m0:00:00\u001b[0m\n",
            "\u001b[?25hDownloading langgraph_checkpoint_mongodb-0.1.4-py3-none-any.whl (11 kB)\n",
            "Downloading langchain_community-0.3.27-py3-none-any.whl (2.5 MB)\n",
            "\u001b[2K   \u001b[90m━━━━━━━━━━━━━━━━━━━━━━━━━━━━━━━━━━━━━━━━\u001b[0m \u001b[32m2.5/2.5 MB\u001b[0m \u001b[31m37.4 MB/s\u001b[0m eta \u001b[36m0:00:00\u001b[0m\n",
            "\u001b[?25hDownloading pymongo-4.12.1-cp311-cp311-manylinux_2_17_x86_64.manylinux2014_x86_64.whl (1.4 MB)\n",
            "\u001b[2K   \u001b[90m━━━━━━━━━━━━━━━━━━━━━━━━━━━━━━━━━━━━━━━━\u001b[0m \u001b[32m1.4/1.4 MB\u001b[0m \u001b[31m59.4 MB/s\u001b[0m eta \u001b[36m0:00:00\u001b[0m\n",
            "\u001b[?25hDownloading trustcall-0.0.39-py3-none-any.whl (30 kB)\n",
            "Downloading langchain_mcp_adapters-0.1.9-py3-none-any.whl (15 kB)\n",
            "Downloading dataclasses_json-0.6.7-py3-none-any.whl (28 kB)\n",
            "Downloading dnspython-2.7.0-py3-none-any.whl (313 kB)\n",
            "\u001b[2K   \u001b[90m━━━━━━━━━━━━━━━━━━━━━━━━━━━━━━━━━━━━━━━━\u001b[0m \u001b[32m313.6/313.6 kB\u001b[0m \u001b[31m21.3 MB/s\u001b[0m eta \u001b[36m0:00:00\u001b[0m\n",
            "\u001b[?25hDownloading dydantic-0.0.8-py3-none-any.whl (8.6 kB)\n",
            "Downloading httpx_sse-0.4.1-py3-none-any.whl (8.1 kB)\n",
            "Downloading langchain_mongodb-0.6.2-py3-none-any.whl (59 kB)\n",
            "\u001b[2K   \u001b[90m━━━━━━━━━━━━━━━━━━━━━━━━━━━━━━━━━━━━━━━━\u001b[0m \u001b[32m59.1/59.1 kB\u001b[0m \u001b[31m4.2 MB/s\u001b[0m eta \u001b[36m0:00:00\u001b[0m\n",
            "\u001b[?25hDownloading langgraph_checkpoint-2.1.1-py3-none-any.whl (43 kB)\n",
            "\u001b[2K   \u001b[90m━━━━━━━━━━━━━━━━━━━━━━━━━━━━━━━━━━━━━━━━\u001b[0m \u001b[32m43.9/43.9 kB\u001b[0m \u001b[31m3.2 MB/s\u001b[0m eta \u001b[36m0:00:00\u001b[0m\n",
            "\u001b[?25hDownloading langgraph_prebuilt-0.6.4-py3-none-any.whl (28 kB)\n",
            "Downloading langgraph_sdk-0.2.0-py3-none-any.whl (50 kB)\n",
            "\u001b[2K   \u001b[90m━━━━━━━━━━━━━━━━━━━━━━━━━━━━━━━━━━━━━━━━\u001b[0m \u001b[32m50.6/50.6 kB\u001b[0m \u001b[31m4.2 MB/s\u001b[0m eta \u001b[36m0:00:00\u001b[0m\n",
            "\u001b[?25hDownloading mcp-1.12.4-py3-none-any.whl (160 kB)\n",
            "\u001b[2K   \u001b[90m━━━━━━━━━━━━━━━━━━━━━━━━━━━━━━━━━━━━━━━━\u001b[0m \u001b[32m160.1/160.1 kB\u001b[0m \u001b[31m12.1 MB/s\u001b[0m eta \u001b[36m0:00:00\u001b[0m\n",
            "\u001b[?25hDownloading motor-3.7.1-py3-none-any.whl (74 kB)\n",
            "\u001b[2K   \u001b[90m━━━━━━━━━━━━━━━━━━━━━━━━━━━━━━━━━━━━━━━━\u001b[0m \u001b[32m75.0/75.0 kB\u001b[0m \u001b[31m6.1 MB/s\u001b[0m eta \u001b[36m0:00:00\u001b[0m\n",
            "\u001b[?25hDownloading pydantic_settings-2.10.1-py3-none-any.whl (45 kB)\n",
            "\u001b[2K   \u001b[90m━━━━━━━━━━━━━━━━━━━━━━━━━━━━━━━━━━━━━━━━\u001b[0m \u001b[32m45.2/45.2 kB\u001b[0m \u001b[31m3.2 MB/s\u001b[0m eta \u001b[36m0:00:00\u001b[0m\n",
            "\u001b[?25hDownloading lark-1.2.2-py3-none-any.whl (111 kB)\n",
            "\u001b[2K   \u001b[90m━━━━━━━━━━━━━━━━━━━━━━━━━━━━━━━━━━━━━━━━\u001b[0m \u001b[32m111.0/111.0 kB\u001b[0m \u001b[31m9.2 MB/s\u001b[0m eta \u001b[36m0:00:00\u001b[0m\n",
            "\u001b[?25hDownloading marshmallow-3.26.1-py3-none-any.whl (50 kB)\n",
            "\u001b[2K   \u001b[90m━━━━━━━━━━━━━━━━━━━━━━━━━━━━━━━━━━━━━━━━\u001b[0m \u001b[32m50.9/50.9 kB\u001b[0m \u001b[31m3.9 MB/s\u001b[0m eta \u001b[36m0:00:00\u001b[0m\n",
            "\u001b[?25hDownloading ormsgpack-1.10.0-cp311-cp311-manylinux_2_17_x86_64.manylinux2014_x86_64.whl (216 kB)\n",
            "\u001b[2K   \u001b[90m━━━━━━━━━━━━━━━━━━━━━━━━━━━━━━━━━━━━━━━━\u001b[0m \u001b[32m216.5/216.5 kB\u001b[0m \u001b[31m18.0 MB/s\u001b[0m eta \u001b[36m0:00:00\u001b[0m\n",
            "\u001b[?25hDownloading sse_starlette-3.0.2-py3-none-any.whl (11 kB)\n",
            "Downloading typing_inspect-0.9.0-py3-none-any.whl (8.8 kB)\n",
            "Downloading mypy_extensions-1.1.0-py3-none-any.whl (5.0 kB)\n",
            "Building wheels for collected packages: wikipedia\n",
            "  Building wheel for wikipedia (setup.py) ... \u001b[?25l\u001b[?25hdone\n",
            "  Created wheel for wikipedia: filename=wikipedia-1.4.0-py3-none-any.whl size=11678 sha256=7112469bd2a3e5b1826ad08a58ab5071190f2427d7400a61c8c02a0482f0e3dc\n",
            "  Stored in directory: /root/.cache/pip/wheels/8f/ab/cb/45ccc40522d3a1c41e1d2ad53b8f33a62f394011ec38cd71c6\n",
            "Successfully built wikipedia\n",
            "Installing collected packages: ormsgpack, mypy-extensions, marshmallow, lark, httpx-sse, dnspython, wikipedia, typing-inspect, sse-starlette, pymongo, pydantic-settings, motor, langgraph-sdk, dydantic, dataclasses-json, mcp, langgraph-checkpoint, langchain-mcp-adapters, langgraph-prebuilt, langgraph, langchain-mongodb, langchain_community, trustcall, langgraph-checkpoint-mongodb\n",
            "Successfully installed dataclasses-json-0.6.7 dnspython-2.7.0 dydantic-0.0.8 httpx-sse-0.4.1 langchain-mcp-adapters-0.1.9 langchain-mongodb-0.6.2 langchain_community-0.3.27 langgraph-0.6.4 langgraph-checkpoint-2.1.1 langgraph-checkpoint-mongodb-0.1.4 langgraph-prebuilt-0.6.4 langgraph-sdk-0.2.0 lark-1.2.2 marshmallow-3.26.1 mcp-1.12.4 motor-3.7.1 mypy-extensions-1.1.0 ormsgpack-1.10.0 pydantic-settings-2.10.1 pymongo-4.12.1 sse-starlette-3.0.2 trustcall-0.0.39 typing-inspect-0.9.0 wikipedia-1.4.0\n"
          ]
        }
      ]
    },
    {
      "cell_type": "code",
      "execution_count": null,
      "id": "cecc2b24",
      "metadata": {
        "colab": {
          "base_uri": "https://localhost:8080/"
        },
        "id": "cecc2b24",
        "outputId": "7b60f54a-31af-4d90-e776-2836ab8bc4e5"
      },
      "outputs": [
        {
          "output_type": "execute_result",
          "data": {
            "text/plain": [
              "True"
            ]
          },
          "metadata": {},
          "execution_count": 7
        }
      ],
      "source": [
        "from dotenv import load_dotenv  # load environment variables from a .env file into your program’s os.environ dictionary\n",
        "load_dotenv(\"/content/sample_data/.env\", override=True)"
      ]
    },
    {
      "cell_type": "code",
      "execution_count": null,
      "id": "e0ee8f6c",
      "metadata": {
        "id": "e0ee8f6c"
      },
      "outputs": [],
      "source": [
        "from langchain.chat_models import init_chat_model\n",
        "llm = init_chat_model(\"openai:gpt-4.1\", temperature=0)"
      ]
    },
    {
      "cell_type": "markdown",
      "id": "50777b0b",
      "metadata": {
        "id": "50777b0b"
      },
      "source": [
        "## Running the model\n",
        "\n",
        "The `init_chat_model` interface provides [standardized](https://python.langchain.com/docs/concepts/runnables/) methods for using chat models, which include:\n",
        "- `invoke()`: A single input is transformed into an output.\n",
        "- `stream()`: Outputs are [streamed](https://python.langchain.com/docs/concepts/streaming/#stream-and-astream) as they are produced."
      ]
    },
    {
      "cell_type": "code",
      "execution_count": null,
      "id": "a28159d5",
      "metadata": {
        "id": "a28159d5"
      },
      "outputs": [],
      "source": [
        "result = llm.invoke(\"What is an agent?\")"
      ]
    },
    {
      "cell_type": "code",
      "execution_count": null,
      "id": "41137023",
      "metadata": {
        "colab": {
          "base_uri": "https://localhost:8080/"
        },
        "id": "41137023",
        "outputId": "a26ffe0c-12cf-4dca-b5e7-4437b43d050d"
      },
      "outputs": [
        {
          "output_type": "execute_result",
          "data": {
            "text/plain": [
              "langchain_core.messages.ai.AIMessage"
            ]
          },
          "metadata": {},
          "execution_count": 4
        }
      ],
      "source": [
        "type(result)"
      ]
    },
    {
      "cell_type": "code",
      "execution_count": null,
      "id": "dc1d00eb",
      "metadata": {
        "colab": {
          "base_uri": "https://localhost:8080/",
          "height": 641
        },
        "id": "dc1d00eb",
        "outputId": "cad91269-941f-4737-d824-2963ef97a538"
      },
      "outputs": [
        {
          "output_type": "execute_result",
          "data": {
            "text/plain": [
              "The term \u001b[1m\"agent\"\u001b[0m can have different meanings depending on the context. Here are some common definitions:           \n",
              "\n",
              "\u001b[33m───────────────────────────────────────────────────────────────────────────────────────────────────────────────────\u001b[0m\n",
              "                                               \u001b[1m1. \u001b[0m\u001b[1mGeneral Definition\u001b[0m                                               \n",
              "\n",
              "An \u001b[1magent\u001b[0m is \u001b[1msomeone or something that acts on behalf of another\u001b[0m or \u001b[1mcauses an effect\u001b[0m.                               \n",
              "\n",
              "\u001b[33m───────────────────────────────────────────────────────────────────────────────────────────────────────────────────\u001b[0m\n",
              "                              \u001b[1m2. \u001b[0m\u001b[1mIn Artificial Intelligence (AI) and Computer Science\u001b[0m                              \n",
              "\n",
              "An \u001b[1magent\u001b[0m is a \u001b[1msystem or entity that perceives its environment through sensors and acts upon that environment \u001b[0m      \n",
              "\u001b[1mthrough actuators\u001b[0m to achieve specific goals.                                                                       \n",
              "\n",
              "\u001b[1;33m • \u001b[0m\u001b[1mExample:\u001b[0m A robot vacuum cleaner is an agent: it senses dirt and obstacles, and moves to clean the floor.        \n",
              "\n",
              "\u001b[33m───────────────────────────────────────────────────────────────────────────────────────────────────────────────────\u001b[0m\n",
              "                                              \u001b[1m3. \u001b[0m\u001b[1mIn Business and Law\u001b[0m                                               \n",
              "\n",
              "An \u001b[1magent\u001b[0m is a \u001b[1mperson authorized to act on behalf of another (the principal)\u001b[0m in business transactions.              \n",
              "\n",
              "\u001b[1;33m • \u001b[0m\u001b[1mExample:\u001b[0m A real estate agent sells houses for clients.                                                          \n",
              "\n",
              "\u001b[33m───────────────────────────────────────────────────────────────────────────────────────────────────────────────────\u001b[0m\n",
              "                                            \u001b[1m4. \u001b[0m\u001b[1mIn Chemistry and Biology\u001b[0m                                            \n",
              "\n",
              "An \u001b[1magent\u001b[0m is a \u001b[1msubstance that brings about a chemical or biological effect\u001b[0m.                                         \n",
              "\n",
              "\u001b[1;33m • \u001b[0m\u001b[1mExample:\u001b[0m An antibacterial agent kills bacteria.                                                                 \n",
              "\n",
              "\u001b[33m───────────────────────────────────────────────────────────────────────────────────────────────────────────────────\u001b[0m\n",
              "                                            \u001b[1m5. \u001b[0m\u001b[1mIn Literature and Media\u001b[0m                                             \n",
              "\n",
              "An \u001b[1magent\u001b[0m can refer to a \u001b[1mrepresentative\u001b[0m, such as a literary agent who helps authors publish their work, or a secret \n",
              "agent (spy).                                                                                                       \n",
              "\n",
              "\u001b[33m───────────────────────────────────────────────────────────────────────────────────────────────────────────────────\u001b[0m\n",
              "\u001b[1mSummary:\u001b[0m                                                                                                           \n",
              "An \u001b[1magent\u001b[0m is generally \u001b[1man entity that acts, does something, or causes change—often on behalf of someone or something\u001b[0m\n",
              "\u001b[1melse\u001b[0m. The specific meaning depends on the field or context.                                                        \n"
            ],
            "text/html": [
              "<pre style=\"white-space:pre;overflow-x:auto;line-height:normal;font-family:Menlo,'DejaVu Sans Mono',consolas,'Courier New',monospace\">The term <span style=\"font-weight: bold\">\"agent\"</span> can have different meanings depending on the context. Here are some common definitions:           \n",
              "\n",
              "<span style=\"color: #808000; text-decoration-color: #808000\">───────────────────────────────────────────────────────────────────────────────────────────────────────────────────</span>\n",
              "                                               <span style=\"font-weight: bold\">1. General Definition</span>                                               \n",
              "\n",
              "An <span style=\"font-weight: bold\">agent</span> is <span style=\"font-weight: bold\">someone or something that acts on behalf of another</span> or <span style=\"font-weight: bold\">causes an effect</span>.                               \n",
              "\n",
              "<span style=\"color: #808000; text-decoration-color: #808000\">───────────────────────────────────────────────────────────────────────────────────────────────────────────────────</span>\n",
              "                              <span style=\"font-weight: bold\">2. In Artificial Intelligence (AI) and Computer Science</span>                              \n",
              "\n",
              "An <span style=\"font-weight: bold\">agent</span> is a <span style=\"font-weight: bold\">system or entity that perceives its environment through sensors and acts upon that environment </span>      \n",
              "<span style=\"font-weight: bold\">through actuators</span> to achieve specific goals.                                                                       \n",
              "\n",
              "<span style=\"color: #808000; text-decoration-color: #808000; font-weight: bold\"> • </span><span style=\"font-weight: bold\">Example:</span> A robot vacuum cleaner is an agent: it senses dirt and obstacles, and moves to clean the floor.        \n",
              "\n",
              "<span style=\"color: #808000; text-decoration-color: #808000\">───────────────────────────────────────────────────────────────────────────────────────────────────────────────────</span>\n",
              "                                              <span style=\"font-weight: bold\">3. In Business and Law</span>                                               \n",
              "\n",
              "An <span style=\"font-weight: bold\">agent</span> is a <span style=\"font-weight: bold\">person authorized to act on behalf of another (the principal)</span> in business transactions.              \n",
              "\n",
              "<span style=\"color: #808000; text-decoration-color: #808000; font-weight: bold\"> • </span><span style=\"font-weight: bold\">Example:</span> A real estate agent sells houses for clients.                                                          \n",
              "\n",
              "<span style=\"color: #808000; text-decoration-color: #808000\">───────────────────────────────────────────────────────────────────────────────────────────────────────────────────</span>\n",
              "                                            <span style=\"font-weight: bold\">4. In Chemistry and Biology</span>                                            \n",
              "\n",
              "An <span style=\"font-weight: bold\">agent</span> is a <span style=\"font-weight: bold\">substance that brings about a chemical or biological effect</span>.                                         \n",
              "\n",
              "<span style=\"color: #808000; text-decoration-color: #808000; font-weight: bold\"> • </span><span style=\"font-weight: bold\">Example:</span> An antibacterial agent kills bacteria.                                                                 \n",
              "\n",
              "<span style=\"color: #808000; text-decoration-color: #808000\">───────────────────────────────────────────────────────────────────────────────────────────────────────────────────</span>\n",
              "                                            <span style=\"font-weight: bold\">5. In Literature and Media</span>                                             \n",
              "\n",
              "An <span style=\"font-weight: bold\">agent</span> can refer to a <span style=\"font-weight: bold\">representative</span>, such as a literary agent who helps authors publish their work, or a secret \n",
              "agent (spy).                                                                                                       \n",
              "\n",
              "<span style=\"color: #808000; text-decoration-color: #808000\">───────────────────────────────────────────────────────────────────────────────────────────────────────────────────</span>\n",
              "<span style=\"font-weight: bold\">Summary:</span>                                                                                                           \n",
              "An <span style=\"font-weight: bold\">agent</span> is generally <span style=\"font-weight: bold\">an entity that acts, does something, or causes change—often on behalf of someone or something</span>\n",
              "<span style=\"font-weight: bold\">else</span>. The specific meaning depends on the field or context.                                                        \n",
              "</pre>\n"
            ]
          },
          "metadata": {},
          "execution_count": 5
        }
      ],
      "source": [
        "from rich.markdown import Markdown\n",
        "Markdown(result.content)"
      ]
    },
    {
      "cell_type": "markdown",
      "id": "9a24d8ef",
      "metadata": {
        "id": "9a24d8ef"
      },
      "source": [
        "## Tools\n",
        "\n",
        "[Tools](https://python.langchain.com/docs/concepts/tools/) are utilities that can be called by a chat model. In LangChain, creating tools can be done using the `@tool` decorator, which transforms Python functions into callable tools. It will automatically infer the tool's name, description, and expected arguments from the function definition. You can also use [Model Context Protocol (MCP) servers](https://github.com/langchain-ai/langchain-mcp-adapters) as LangChain-compatible tools."
      ]
    },
    {
      "cell_type": "code",
      "execution_count": null,
      "id": "afdff275",
      "metadata": {
        "id": "afdff275"
      },
      "outputs": [],
      "source": [
        "from langchain.tools import tool\n",
        "\n",
        "@tool\n",
        "def write_email(to: str, subject: str, content: str) -> str:\n",
        "    \"\"\"Write and send an email.\"\"\"\n",
        "    # Placeholder response - in real app would send email\n",
        "    return f\"Email sent to {to} with subject '{subject}' and content: {content}\""
      ]
    },
    {
      "cell_type": "code",
      "execution_count": null,
      "id": "c52ec55b-0b60-4b0c-95d4-ff528a64694e",
      "metadata": {
        "id": "c52ec55b-0b60-4b0c-95d4-ff528a64694e"
      },
      "outputs": [],
      "source": [
        "type(write_email)"
      ]
    },
    {
      "cell_type": "code",
      "execution_count": null,
      "id": "23a40647-3d48-4760-aabe-144d627de110",
      "metadata": {
        "id": "23a40647-3d48-4760-aabe-144d627de110"
      },
      "outputs": [],
      "source": [
        "write_email.args"
      ]
    },
    {
      "cell_type": "code",
      "execution_count": null,
      "id": "abd85ae4-9d4c-4efa-9577-aca96e9f22cd",
      "metadata": {
        "id": "abd85ae4-9d4c-4efa-9577-aca96e9f22cd"
      },
      "outputs": [],
      "source": [
        "Markdown(write_email.description)"
      ]
    },
    {
      "cell_type": "markdown",
      "id": "c8a6b427",
      "metadata": {
        "id": "c8a6b427"
      },
      "source": [
        "## Tool Calling\n",
        "\n",
        "Tools can be [called](https://python.langchain.com/docs/concepts/tool_calling/) by LLMs. When a tool is bound to the model, the model can choose to call the tool by returning a structured output with tool arguments. We use the `bind_tools` method to augment an LLM with tools.\n",
        "\n",
        "![tool-img](https://github.com/langchain-ai/agents-from-scratch/blob/main/notebooks/img/tool_call_detail.png?raw=1)\n",
        "\n",
        "Providers often have [parameters such as `tool_choice`](https://python.langchain.com/docs/how_to/tool_choice/) to enforce calling specific tools. `any` will select at least one of the tools.\n",
        "\n",
        "In addition, we can [set `parallel_tool_calls=False`](https://python.langchain.com/docs/how_to/tool_calling_parallel/) to ensure the model will only call one tool at a time."
      ]
    },
    {
      "cell_type": "code",
      "execution_count": null,
      "id": "bfa57bc4",
      "metadata": {
        "id": "bfa57bc4"
      },
      "outputs": [],
      "source": [
        "# Connect tools to a chat model\n",
        "model_with_tools = llm.bind_tools([write_email], tool_choice=\"any\", parallel_tool_calls=False)\n",
        "\n",
        "# The model will now be able to call tools\n",
        "output = model_with_tools.invoke(\"Draft a response to my boss (boss@company.ai) about tomorrow's meeting\")"
      ]
    },
    {
      "cell_type": "code",
      "execution_count": null,
      "id": "7985eab6-9e6b-4fa5-8027-52d32886b97e",
      "metadata": {
        "id": "7985eab6-9e6b-4fa5-8027-52d32886b97e"
      },
      "outputs": [],
      "source": [
        "type(output)"
      ]
    },
    {
      "cell_type": "code",
      "execution_count": null,
      "id": "ea0ce030-e760-4679-838f-d88d1480664e",
      "metadata": {
        "id": "ea0ce030-e760-4679-838f-d88d1480664e"
      },
      "outputs": [],
      "source": [
        "output"
      ]
    },
    {
      "cell_type": "code",
      "execution_count": null,
      "id": "717779cb",
      "metadata": {
        "id": "717779cb"
      },
      "outputs": [],
      "source": [
        "# Extract tool calls and execute them\n",
        "args = output.tool_calls[0]['args']\n",
        "args"
      ]
    },
    {
      "cell_type": "code",
      "execution_count": null,
      "id": "09f85694",
      "metadata": {
        "id": "09f85694"
      },
      "outputs": [],
      "source": [
        "# Call the tool\n",
        "result = write_email.invoke(args)\n",
        "Markdown(result)"
      ]
    },
    {
      "cell_type": "markdown",
      "id": "b6f9c52a",
      "metadata": {
        "id": "b6f9c52a"
      },
      "source": [
        "![basic_prompt](https://github.com/langchain-ai/agents-from-scratch/blob/main/notebooks/img/tool_call.png?raw=1)\n",
        "\n",
        "## Workflows\n",
        "\n",
        "There are many patterns for building applications with LLMs.\n",
        "\n",
        "[We can embed LLM calls into pre-defined workflows](https://langchain-ai.github.io/langgraph/tutorials/workflows/), giving the system more agency to make decisions.\n",
        "\n",
        "As an example, we could add a router step to determine whether to write an email or not.\n",
        "\n",
        "![workflow_example](https://github.com/langchain-ai/agents-from-scratch/blob/main/notebooks/img/workflow_example.png?raw=1)\n",
        "\n",
        "## Agents\n",
        "\n",
        "We can further increase agency, allowing the LLM to dynamically direct its own tool usage.\n",
        "\n",
        "[Agents](https://langchain-ai.github.io/langgraph/tutorials/workflows/#agent) are typically implemented as tool calling in a loop, where the output of each tool call is used to inform the next action.\n",
        "\n",
        "![agent_example](https://github.com/langchain-ai/agents-from-scratch/blob/main/notebooks/img/agent_example.png?raw=1)\n",
        "\n",
        "Agents are well suited to open-ended problems where it's difficult to predict the *exact* steps needed in advance.\n",
        "\n",
        "Workflows are often appropriate when the control flow can easily be defined in advance.\n",
        "\n",
        "![workflow_v_agent](https://github.com/langchain-ai/agents-from-scratch/blob/main/notebooks/img/workflow_v_agent.png?raw=1)\n",
        "\n",
        "## What is LangGraph?\n",
        "\n",
        "[LangGraph](https://langchain-ai.github.io/langgraph/concepts/high_level/) provides low-level supporting infrastructure that sits underneath *any* workflow or agent.\n",
        "\n",
        "It does not abstract prompts or architecture, and provides a few benefits:\n",
        "\n",
        "- **Control**: Make it easy to define and / or combine agents and workflows.\n",
        "- **Persistence**: Provide a way to persist the state of a graph, which enables both memory and human-in-the-loop.\n",
        "- **Testing, Debugging, and Deployment**: Provide an easy onramp for testing, debugging, and deploying applications.\n",
        "\n",
        "### Control\n",
        "\n",
        "LangGraph lets you define your application as a graph with:\n",
        "\n",
        "1. *State*: What information do we need to track over the course of the application?\n",
        "2. *Nodes*: How do we want to update this information over the course of the application?\n",
        "3. *Edges*: How do we want to connect these nodes together?\n",
        "\n",
        "We can use the [`StateGraph` class](https://langchain-ai.github.io/langgraph/concepts/low_level/#graphs) to initialize a LangGraph graph with a [`State` object](https://langchain-ai.github.io/langgraph/concepts/low_level/#state).\n",
        "\n",
        "`State` defines the schema for information we want to track over the course of the application.\n",
        "\n",
        "This can be any object with `getattr()` in python, such as a dictionary, dataclass, or Pydantic object:\n",
        "\n",
        "- TypeDict is fastest but doesn’t support defaults\n",
        "- Dataclass is basically as fast, supports dot syntax `state.foo`, and has defaults.\n",
        "- Pydantic is slower (especially with custom validators) but gives type validation."
      ]
    },
    {
      "cell_type": "code",
      "execution_count": null,
      "id": "3319290a",
      "metadata": {
        "id": "3319290a"
      },
      "outputs": [],
      "source": [
        "from typing import TypedDict\n",
        "from langgraph.graph import StateGraph, START, END\n",
        "\n",
        "class StateSchema(TypedDict):\n",
        "    request: str\n",
        "    email: str\n",
        "\n",
        "workflow = StateGraph(StateSchema)"
      ]
    },
    {
      "cell_type": "markdown",
      "id": "b84bedb9",
      "metadata": {
        "id": "b84bedb9"
      },
      "source": [
        "Each node is simply a python function or typescript code. This gives us full control over the logic inside each node.\n",
        "\n",
        "They receive the current state, and return a dictionary to update the state.\n",
        "\n",
        "By default, [state keys are overwritten](https://langchain-ai.github.io/langgraph/how-tos/state-reducers/).\n",
        "\n",
        "However, you can [define custom update logic](https://langchain-ai.github.io/langgraph/concepts/low_level/#reducers).\n",
        "\n",
        "![nodes_edges](https://github.com/langchain-ai/agents-from-scratch/blob/main/notebooks/img/nodes_edges.png?raw=1)"
      ]
    },
    {
      "cell_type": "code",
      "execution_count": null,
      "id": "d5e79c1f",
      "metadata": {
        "id": "d5e79c1f"
      },
      "outputs": [],
      "source": [
        "def write_email_node(state: StateSchema) -> StateSchema:\n",
        "    # Imperative code that processes the request\n",
        "    output = model_with_tools.invoke(state[\"request\"])\n",
        "    args = output.tool_calls[0]['args']\n",
        "    email = write_email.invoke(args)\n",
        "    return {\"email\": email}"
      ]
    },
    {
      "cell_type": "markdown",
      "id": "737c8040",
      "metadata": {
        "id": "737c8040"
      },
      "source": [
        "Edges connect nodes together.\n",
        "\n",
        "We specify the control flow by adding edges and nodes to our state graph."
      ]
    },
    {
      "cell_type": "code",
      "execution_count": null,
      "id": "554e0d8b",
      "metadata": {
        "id": "554e0d8b"
      },
      "outputs": [],
      "source": [
        "workflow = StateGraph(StateSchema)\n",
        "workflow.add_node(\"write_email_node\", write_email_node)\n",
        "workflow.add_edge(START, \"write_email_node\")\n",
        "workflow.add_edge(\"write_email_node\", END)\n",
        "\n",
        "app = workflow.compile()"
      ]
    },
    {
      "cell_type": "code",
      "execution_count": null,
      "id": "7cc79b40",
      "metadata": {
        "id": "7cc79b40"
      },
      "outputs": [],
      "source": [
        "app.invoke({\"request\": \"Draft a response to my boss (boss@company.ai) about tomorrow's meeting\"})"
      ]
    },
    {
      "cell_type": "markdown",
      "id": "2446dea9",
      "metadata": {
        "id": "2446dea9"
      },
      "source": [
        "Routing between nodes can be done [conditionally](https://langchain-ai.github.io/langgraph/concepts/low_level/#conditional-edges) using a simple function.\n",
        "\n",
        "The return value of this function is used as the name of the node (or list of nodes) to send the state to next.\n",
        "\n",
        "You can optionally provide a dictionary that maps the `should_continue` output to the name of the next node."
      ]
    },
    {
      "cell_type": "code",
      "execution_count": null,
      "id": "f29b05bf",
      "metadata": {
        "id": "f29b05bf"
      },
      "outputs": [],
      "source": [
        "from typing import Literal\n",
        "from langgraph.graph import MessagesState\n",
        "from email_assistant.utils import show_graph\n",
        "\n",
        "def call_llm(state: MessagesState) -> MessagesState:\n",
        "    \"\"\"Run LLM\"\"\"\n",
        "\n",
        "    output = model_with_tools.invoke(state[\"messages\"])\n",
        "    return {\"messages\": [output]}\n",
        "\n",
        "def run_tool(state: MessagesState):\n",
        "    \"\"\"Performs the tool call\"\"\"\n",
        "\n",
        "    result = []\n",
        "    for tool_call in state[\"messages\"][-1].tool_calls:\n",
        "        observation = write_email.invoke(tool_call[\"args\"])\n",
        "        result.append({\"role\": \"tool\", \"content\": observation, \"tool_call_id\": tool_call[\"id\"]})\n",
        "    return {\"messages\": result}\n",
        "\n",
        "def should_continue(state: MessagesState) -> Literal[\"run_tool\", \"__end__\"]:\n",
        "    \"\"\"Route to tool handler, or end if Done tool called\"\"\"\n",
        "\n",
        "    # Get the last message\n",
        "    messages = state[\"messages\"]\n",
        "    last_message = messages[-1]\n",
        "\n",
        "    # If the last message is a tool call, check if it's a Done tool call\n",
        "    if last_message.tool_calls:\n",
        "        return \"run_tool\"\n",
        "    # Otherwise, we stop (reply to the user)\n",
        "    return END\n",
        "\n",
        "workflow = StateGraph(MessagesState)\n",
        "workflow.add_node(\"call_llm\", call_llm)\n",
        "workflow.add_node(\"run_tool\", run_tool)\n",
        "workflow.add_edge(START, \"call_llm\")\n",
        "workflow.add_conditional_edges(\"call_llm\", should_continue, {\"run_tool\": \"run_tool\", END: END})\n",
        "workflow.add_edge(\"run_tool\", END)\n",
        "\n",
        "# Run the workflow\n",
        "app = workflow.compile()"
      ]
    },
    {
      "cell_type": "code",
      "execution_count": null,
      "id": "fd9f07af-c633-4527-b2d9-52c6451dc9c5",
      "metadata": {
        "id": "fd9f07af-c633-4527-b2d9-52c6451dc9c5"
      },
      "outputs": [],
      "source": [
        "show_graph(app)"
      ]
    },
    {
      "cell_type": "code",
      "execution_count": null,
      "id": "dadbafde",
      "metadata": {
        "id": "dadbafde"
      },
      "outputs": [],
      "source": [
        "result = app.invoke({\"messages\": [{\"role\": \"user\", \"content\": \"Draft a response to my boss (boss@company.ai) confirming that I want to attend Interrupt!\"}]})\n",
        "for m in result[\"messages\"]:\n",
        "    m.pretty_print()"
      ]
    },
    {
      "cell_type": "markdown",
      "id": "a78b232d",
      "metadata": {
        "id": "a78b232d"
      },
      "source": [
        "With these low level components, you can build many many different workflows and agents. See [this tutorial](https://langchain-ai.github.io/langgraph/tutorials/workflows/)!\n",
        "\n",
        "Because agents are such a common pattern, [LangGraph](https://langchain-ai.github.io/langgraph/tutorials/workflows/#pre-built) has [a pre-built agent](https://langchain-ai.github.io/langgraph/agents/overview/?ref=blog.langchain.dev#what-is-an-agent) abstraction.\n",
        "\n",
        "With LangGraph's [pre-built method](https://langchain-ai.github.io/langgraph/tutorials/workflows/#pre-built), we just pass in the LLM, tools, and prompt."
      ]
    },
    {
      "cell_type": "code",
      "execution_count": null,
      "id": "5a317ad8",
      "metadata": {
        "id": "5a317ad8"
      },
      "outputs": [],
      "source": [
        "from langgraph.prebuilt import create_react_agent\n",
        "\n",
        "agent = create_react_agent(\n",
        "    model=llm,\n",
        "    tools=[write_email],\n",
        "    prompt=\"Respond to the user's request using the tools provided.\"\n",
        ")\n",
        "\n",
        "# Run the agent\n",
        "result = agent.invoke(\n",
        "    {\"messages\": [{\"role\": \"user\", \"content\": \"Draft a response to my boss (boss@company.ai) confirming that I want to attend Interrupt!\"}]}\n",
        ")\n",
        "\n",
        "for m in result[\"messages\"]:\n",
        "    m.pretty_print()"
      ]
    },
    {
      "cell_type": "markdown",
      "id": "3c6e506f",
      "metadata": {
        "id": "3c6e506f"
      },
      "source": [
        "### Persistence\n",
        "\n",
        "#### Threads\n",
        "\n",
        "It can be very useful to allow agents to pause during long running tasks.\n",
        "\n",
        "LangGraph has a built-in persistence layer, implemented through checkpointers, to enable this.\n",
        "\n",
        "When you compile graph with a checkpointer, the checkpointer saves a [checkpoint](https://langchain-ai.github.io/langgraph/concepts/persistence/#checkpoints) of the graph state at every step.\n",
        "\n",
        "Checkpoints are saved to a thread, which can be accessed after graph execution completes.\n",
        "\n",
        "![checkpointer](https://github.com/langchain-ai/agents-from-scratch/blob/main/notebooks/img/checkpoints.png?raw=1)\n",
        "\n",
        "We compile the graph with a [checkpointer](https://langchain-ai.github.io/langgraph/concepts/persistence/#checkpointer-libraries).\n"
      ]
    },
    {
      "cell_type": "code",
      "execution_count": null,
      "id": "9a72377e",
      "metadata": {
        "id": "9a72377e"
      },
      "outputs": [],
      "source": [
        "from langgraph.checkpoint.memory import InMemorySaver\n",
        "\n",
        "agent = create_react_agent(\n",
        "    model=llm,\n",
        "    tools=[write_email],\n",
        "    prompt=\"Respond to the user's request using the tools provided.\",\n",
        "    checkpointer=InMemorySaver()\n",
        ")\n",
        "\n",
        "config = {\"configurable\": {\"thread_id\": \"1\"}}\n",
        "result = agent.invoke({\"messages\": [{\"role\": \"user\", \"content\": \"What are some good practices for writing emails?\"}]}, config)\n"
      ]
    },
    {
      "cell_type": "code",
      "execution_count": null,
      "id": "10984007",
      "metadata": {
        "id": "10984007"
      },
      "outputs": [],
      "source": [
        "# Get the latest state snapshot\n",
        "config = {\"configurable\": {\"thread_id\": \"1\"}}\n",
        "state = agent.get_state(config)\n",
        "for message in state.values['messages']:\n",
        "    message.pretty_print()"
      ]
    },
    {
      "cell_type": "code",
      "execution_count": null,
      "id": "7f23ac58",
      "metadata": {
        "id": "7f23ac58"
      },
      "outputs": [],
      "source": [
        "# Continue the conversation\n",
        "result = agent.invoke({\"messages\": [{\"role\": \"user\", \"content\": \"Good, let's use lesson 3 to craft a response to my boss confirming that I want to attend Interrupt\"}]}, config)\n",
        "for m in result['messages']:\n",
        "    m.pretty_print()"
      ]
    },
    {
      "cell_type": "code",
      "execution_count": null,
      "id": "5f09fe50",
      "metadata": {
        "id": "5f09fe50"
      },
      "outputs": [],
      "source": [
        "# Continue the conversation\n",
        "result = agent.invoke({\"messages\": [{\"role\": \"user\", \"content\": \"I like this, let's write the email to boss@company.ai\"}]}, config)\n",
        "for m in result['messages']:\n",
        "    m.pretty_print()"
      ]
    },
    {
      "cell_type": "markdown",
      "id": "4ae8a5d2-cf8a-4465-8d1b-96bb6c6276cf",
      "metadata": {
        "id": "4ae8a5d2-cf8a-4465-8d1b-96bb6c6276cf"
      },
      "source": [
        "#### Interrupts\n",
        "\n",
        "In LangGraph, we can also use [interrupts](https://langchain-ai.github.io/langgraph/how-tos/human_in_the_loop/wait-user-input/) to stop graph execution at specific points.\n",
        "\n",
        "Often this is used to collect input from a user and continue execution with collected input."
      ]
    },
    {
      "cell_type": "code",
      "execution_count": null,
      "id": "52c17b60-9474-49a5-b4a1-583b0dc8bba7",
      "metadata": {
        "id": "52c17b60-9474-49a5-b4a1-583b0dc8bba7"
      },
      "outputs": [],
      "source": [
        "from typing_extensions import TypedDict\n",
        "from langgraph.graph import StateGraph, START, END\n",
        "\n",
        "from langgraph.types import Command, interrupt\n",
        "from langgraph.checkpoint.memory import InMemorySaver\n",
        "\n",
        "class State(TypedDict):\n",
        "    input: str\n",
        "    user_feedback: str\n",
        "\n",
        "def step_1(state):\n",
        "    print(\"---Step 1---\")\n",
        "    pass\n",
        "\n",
        "def human_feedback(state):\n",
        "    print(\"---human_feedback---\")\n",
        "    feedback = interrupt(\"Please provide feedback:\")\n",
        "    return {\"user_feedback\": feedback}\n",
        "\n",
        "def step_3(state):\n",
        "    print(\"---Step 3---\")\n",
        "    pass\n",
        "\n",
        "builder = StateGraph(State)\n",
        "builder.add_node(\"step_1\", step_1)\n",
        "builder.add_node(\"human_feedback\", human_feedback)\n",
        "builder.add_node(\"step_3\", step_3)\n",
        "builder.add_edge(START, \"step_1\")\n",
        "builder.add_edge(\"step_1\", \"human_feedback\")\n",
        "builder.add_edge(\"human_feedback\", \"step_3\")\n",
        "builder.add_edge(\"step_3\", END)\n",
        "\n",
        "# Set up memory\n",
        "memory = InMemorySaver()\n",
        "\n",
        "# Add\n",
        "graph = builder.compile(checkpointer=memory)"
      ]
    },
    {
      "cell_type": "code",
      "execution_count": null,
      "id": "57c94cb7-067c-4bc5-be33-b615d8e5775e",
      "metadata": {
        "scrolled": true,
        "id": "57c94cb7-067c-4bc5-be33-b615d8e5775e"
      },
      "outputs": [],
      "source": [
        "show_graph(graph)"
      ]
    },
    {
      "cell_type": "code",
      "execution_count": null,
      "id": "028372b5-88ae-4f13-813d-22430a697f07",
      "metadata": {
        "id": "028372b5-88ae-4f13-813d-22430a697f07"
      },
      "outputs": [],
      "source": [
        "# Input\n",
        "initial_input = {\"input\": \"hello world\"}\n",
        "\n",
        "# Thread\n",
        "thread = {\"configurable\": {\"thread_id\": \"1\"}}\n",
        "\n",
        "# Run the graph until the first interruption\n",
        "for event in graph.stream(initial_input, thread, stream_mode=\"updates\"):\n",
        "    print(event)\n",
        "    print(\"\\n\")"
      ]
    },
    {
      "cell_type": "markdown",
      "id": "f142d467-7b4c-4a04-bad5-bf3fbe953b84",
      "metadata": {
        "id": "f142d467-7b4c-4a04-bad5-bf3fbe953b84"
      },
      "source": [
        "To resume from an interrupt, we can use [the `Command` object](https://langchain-ai.github.io/langgraph/how-tos/command/).\n",
        "\n",
        "We'll use it to resume the graph from the interrupted state, passing the value to return from the interrupt call to `resume`."
      ]
    },
    {
      "cell_type": "code",
      "execution_count": null,
      "id": "d90374d3-65a1-4658-82ee-a16cc2835cf4",
      "metadata": {
        "id": "d90374d3-65a1-4658-82ee-a16cc2835cf4"
      },
      "outputs": [],
      "source": [
        "# Continue the graph execution\n",
        "for event in graph.stream(\n",
        "    Command(resume=\"go to step 3!\"),\n",
        "    thread,\n",
        "    stream_mode=\"updates\",\n",
        "):\n",
        "    print(event)\n",
        "    print(\"\\n\")"
      ]
    },
    {
      "cell_type": "markdown",
      "id": "8639a518",
      "metadata": {
        "id": "8639a518"
      },
      "source": [
        "### Tracing\n",
        "\n",
        "When we are using LangChain or LangGraph, LangSmith logging [will work out of the box](https://docs.smith.langchain.com/observability/how_to_guides/trace_with_langgraph) with the following environment variables set:\n",
        "\n",
        "```\n",
        "export LANGSMITH_TRACING=true\n",
        "export LANGSMITH_API_KEY=\"<your-langsmith-api-key>\"\n",
        "```"
      ]
    },
    {
      "cell_type": "markdown",
      "id": "9cb2a3e5",
      "metadata": {
        "id": "9cb2a3e5"
      },
      "source": [
        "Here is the LangSmith trace from above agent execution:\n",
        "\n",
        "https://smith.langchain.com/public/6f77014f-d054-44ed-aa2c-8b06ceab689f/r\n",
        "\n",
        "We can see that the agent is able to continue the conversation from the previous state because we used a checkpointer."
      ]
    },
    {
      "cell_type": "markdown",
      "id": "f0269214",
      "metadata": {
        "id": "f0269214"
      },
      "source": [
        "### Deployment\n",
        "\n",
        "We can also deploy our graph using [LangGraph Platform](https://langchain-ai.github.io/langgraph/concepts/langgraph_platform/).\n",
        "\n",
        "This creates a server [with an API](https://langchain-ai.github.io/langgraph/cloud/reference/api/api_ref.html) that we can use to interact with our graph and an interactive IDE, LangGraph [Studio](https://langchain-ai.github.io/langgraph/concepts/langgraph_studio/).\n",
        "\n",
        "We simply need to ensure our project has [a structure](https://langchain-ai.github.io/langgraph/concepts/application_structure/) like this:\n",
        "\n",
        "```\n",
        "my-app/\n",
        "├── src/email_assistant # all project code lies within here\n",
        "│   └── langgraph101.py # code for constructing your graph\n",
        "├── .env # environment variables\n",
        "├── langgraph.json  # configuration file for LangGraph\n",
        "└── pyproject.toml # dependencies for your project\n",
        "```\n",
        "\n",
        "The `langgraph.json` file specifies the dependencies, graphs, environment variables, and other settings required to start a LangGraph server.\n",
        "\n",
        "To test this, let's deploy `langgraph_101.py`. We have it in our `langgraph.json` file in this repo:\n",
        "\n",
        "```\n",
        " \"langgraph101\": \"./src/email_assistant/langgraph_101.py:app\",\n",
        "```\n",
        "\n",
        "For LangGraph Platform, there are a range of [deployment options](https://langchain-ai.github.io/langgraph/tutorials/deployment/):\n",
        "\n",
        "* Local deployments can be started with `langgraph dev` from the root directory of the repo. Checkpoints are saved to the local filesystem.\n",
        "* There are also various [self-hosted options](https://langchain-ai.github.io/langgraph/tutorials/deployment/#other-deployment-options).\n",
        "* For hosted deployments, checkpoints are saved to Postgres using a postgres [checkpointer](https://langchain-ai.github.io/langgraph/concepts/persistence/#checkpointer-libraries).\n",
        "\n",
        "Test:\n",
        "```\n",
        "Draft a response to my boss (boss@company.ai) confirming that I want to attent Interrupt!\n",
        "```"
      ]
    },
    {
      "cell_type": "markdown",
      "id": "f3644093",
      "metadata": {
        "id": "f3644093"
      },
      "source": [
        "Here we can see a visualization of the graph as well as the graph state in Studio.\n",
        "\n",
        "![langgraph_studio](https://github.com/langchain-ai/agents-from-scratch/blob/main/notebooks/img/langgraph_studio.png?raw=1)\n",
        "\n",
        "Also, you can see API docs for the local deployment here:\n",
        "\n",
        "http://127.0.0.1:2024/docs"
      ]
    }
  ],
  "metadata": {
    "jupytext": {
      "cell_metadata_filter": "-all",
      "main_language": "python",
      "notebook_metadata_filter": "-all"
    },
    "kernelspec": {
      "display_name": ".venv",
      "language": "python",
      "name": "python3"
    },
    "language_info": {
      "codemirror_mode": {
        "name": "ipython",
        "version": 3
      },
      "file_extension": ".py",
      "mimetype": "text/x-python",
      "name": "python",
      "nbconvert_exporter": "python",
      "pygments_lexer": "ipython3",
      "version": "3.11.6"
    },
    "colab": {
      "provenance": [],
      "include_colab_link": true
    }
  },
  "nbformat": 4,
  "nbformat_minor": 5
}