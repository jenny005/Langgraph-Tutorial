{
  "cells": [
    {
      "cell_type": "markdown",
      "metadata": {
        "id": "view-in-github",
        "colab_type": "text"
      },
      "source": [
        "<a href=\"https://colab.research.google.com/github/jenny005/Langgraph-Tutorial/blob/main/Copy_of_02_router.ipynb\" target=\"_parent\"><img src=\"https://colab.research.google.com/assets/colab-badge.svg\" alt=\"Open In Colab\"/></a>"
      ]
    },
    {
      "cell_type": "markdown",
      "metadata": {
        "id": "jzO9XYk6rwp-"
      },
      "source": [
        "# Router\n",
        "![Router](https://github.com/esurovtsev/langgraph-intro/blob/feature/parallelization/images/router.png?raw=1)"
      ]
    },
    {
      "cell_type": "code",
      "source": [
        "pip install dotenv"
      ],
      "metadata": {
        "id": "XW4wl2gfr5OZ",
        "outputId": "c18cceae-3ada-4df9-887a-34b6ff686812",
        "colab": {
          "base_uri": "https://localhost:8080/"
        }
      },
      "execution_count": null,
      "outputs": [
        {
          "output_type": "stream",
          "name": "stdout",
          "text": [
            "Collecting dotenv\n",
            "  Downloading dotenv-0.9.9-py2.py3-none-any.whl.metadata (279 bytes)\n",
            "Collecting python-dotenv (from dotenv)\n",
            "  Downloading python_dotenv-1.1.1-py3-none-any.whl.metadata (24 kB)\n",
            "Downloading dotenv-0.9.9-py2.py3-none-any.whl (1.9 kB)\n",
            "Downloading python_dotenv-1.1.1-py3-none-any.whl (20 kB)\n",
            "Installing collected packages: python-dotenv, dotenv\n",
            "Successfully installed dotenv-0.9.9 python-dotenv-1.1.1\n"
          ]
        }
      ]
    },
    {
      "cell_type": "code",
      "execution_count": null,
      "metadata": {
        "id": "QXABqlOzrwqK",
        "outputId": "bae28cff-ccea-4396-a1bc-c6b089e62caf",
        "colab": {
          "base_uri": "https://localhost:8080/"
        }
      },
      "outputs": [
        {
          "output_type": "stream",
          "name": "stdout",
          "text": [
            "Weather in Berlin, Germany:\n",
            "- Condition: Sunny\n",
            "- Temperature: 31.2°C (Feels like: 30.9°C)\n",
            "- Wind: 9.0 kph, Direction: E\n",
            "- Humidity: 41%\n",
            "- Cloudiness: 0%\n",
            "- Last updated: 2025-08-14 19:45\n",
            "\n",
            "Air Quality Index (AQI):\n",
            "- CO (Carbon Monoxide): 371.85 µg/m³\n",
            "- NO2 (Nitrogen Dioxide): 14.06 µg/m³\n",
            "- O3 (Ozone): 152.0 µg/m³\n",
            "- PM10 (Particulate Matter <10µm): 26.825 µg/m³\n",
            "- PM2.5 (Particulate Matter <2.5µm): 19.795 µg/m³\n",
            "- SO2 (Sulfur Dioxide): 3.33 µg/m³\n"
          ]
        }
      ],
      "source": [
        "import requests\n",
        "import os\n",
        "from dotenv import load_dotenv\n",
        "\n",
        "load_dotenv()\n",
        "api_key = os.getenv(\"WEATHER_API_KEY\") # https://www.weatherapi.com\n",
        "\n",
        "def get_detailed_weather_weatherapi(city: str) -> str:\n",
        "    \"\"\"\n",
        "    Fetches an extended weather report, including air quality, for a given city using WeatherAPI.\n",
        "\n",
        "    Parameters:\n",
        "        city (str): The name of the city to get the weather for.\n",
        "        api_key (str): Your WeatherAPI key.\n",
        "\n",
        "    Returns:\n",
        "        str: A detailed weather and air quality report as a text message.\n",
        "    \"\"\"\n",
        "    base_url = \"http://api.weatherapi.com/v1/current.json\"\n",
        "    params = {\n",
        "        \"key\": api_key,\n",
        "        \"q\": city,\n",
        "        \"aqi\": \"yes\"  # Include air quality data\n",
        "    }\n",
        "\n",
        "    try:\n",
        "        response = requests.get(base_url, params=params)\n",
        "        data = response.json()\n",
        "\n",
        "        if response.status_code == 200:\n",
        "            # Extract key weather details\n",
        "            location = data[\"location\"][\"name\"]\n",
        "            country = data[\"location\"][\"country\"]\n",
        "            temperature = data[\"current\"][\"temp_c\"]\n",
        "            feels_like = data[\"current\"][\"feelslike_c\"]\n",
        "            condition = data[\"current\"][\"condition\"][\"text\"]\n",
        "            wind_speed = data[\"current\"][\"wind_kph\"]\n",
        "            wind_direction = data[\"current\"][\"wind_dir\"]\n",
        "            humidity = data[\"current\"][\"humidity\"]\n",
        "            cloudiness = data[\"current\"][\"cloud\"]\n",
        "            last_updated = data[\"current\"][\"last_updated\"]\n",
        "\n",
        "            # Extract air quality data\n",
        "            aqi_data = data[\"current\"][\"air_quality\"]\n",
        "            co = aqi_data.get(\"co\", \"N/A\")  # Carbon Monoxide\n",
        "            no2 = aqi_data.get(\"no2\", \"N/A\")  # Nitrogen Dioxide\n",
        "            o3 = aqi_data.get(\"o3\", \"N/A\")  # Ozone\n",
        "            pm10 = aqi_data.get(\"pm10\", \"N/A\")  # Particulate Matter 10\n",
        "            pm2_5 = aqi_data.get(\"pm2_5\", \"N/A\")  # Particulate Matter 2.5\n",
        "            so2 = aqi_data.get(\"so2\", \"N/A\")  # Sulfur Dioxide\n",
        "\n",
        "            # Build the detailed weather and air quality report\n",
        "            weather_report = (\n",
        "                f\"Weather in {location}, {country}:\\n\"\n",
        "                f\"- Condition: {condition}\\n\"\n",
        "                f\"- Temperature: {temperature}°C (Feels like: {feels_like}°C)\\n\"\n",
        "                f\"- Wind: {wind_speed} kph, Direction: {wind_direction}\\n\"\n",
        "                f\"- Humidity: {humidity}%\\n\"\n",
        "                f\"- Cloudiness: {cloudiness}%\\n\"\n",
        "                f\"- Last updated: {last_updated}\\n\\n\"\n",
        "                f\"Air Quality Index (AQI):\\n\"\n",
        "                f\"- CO (Carbon Monoxide): {co} µg/m³\\n\"\n",
        "                f\"- NO2 (Nitrogen Dioxide): {no2} µg/m³\\n\"\n",
        "                f\"- O3 (Ozone): {o3} µg/m³\\n\"\n",
        "                f\"- PM10 (Particulate Matter <10µm): {pm10} µg/m³\\n\"\n",
        "                f\"- PM2.5 (Particulate Matter <2.5µm): {pm2_5} µg/m³\\n\"\n",
        "                f\"- SO2 (Sulfur Dioxide): {so2} µg/m³\"\n",
        "            )\n",
        "            return weather_report\n",
        "        else:\n",
        "            return f\"Error: {data.get('error', {}).get('message', 'Unable to fetch weather data')}\"\n",
        "    except Exception as e:\n",
        "        return f\"An error occurred: {str(e)}\"\n",
        "\n",
        "city_name = \"Berlin\"\n",
        "print(get_detailed_weather_weatherapi(city_name))"
      ]
    },
    {
      "cell_type": "code",
      "source": [
        "pip install langchain_openai"
      ],
      "metadata": {
        "id": "E8NiR3pSuJCt",
        "outputId": "b7d02d5f-a1ed-42ed-ef64-7c35d42a9e30",
        "colab": {
          "base_uri": "https://localhost:8080/"
        }
      },
      "execution_count": null,
      "outputs": [
        {
          "output_type": "stream",
          "name": "stdout",
          "text": [
            "Collecting langchain_openai\n",
            "  Downloading langchain_openai-0.3.30-py3-none-any.whl.metadata (2.4 kB)\n",
            "Requirement already satisfied: langchain-core<1.0.0,>=0.3.74 in /usr/local/lib/python3.11/dist-packages (from langchain_openai) (0.3.74)\n",
            "Collecting openai<2.0.0,>=1.99.9 (from langchain_openai)\n",
            "  Downloading openai-1.99.9-py3-none-any.whl.metadata (29 kB)\n",
            "Requirement already satisfied: tiktoken<1,>=0.7 in /usr/local/lib/python3.11/dist-packages (from langchain_openai) (0.11.0)\n",
            "Requirement already satisfied: langsmith>=0.3.45 in /usr/local/lib/python3.11/dist-packages (from langchain-core<1.0.0,>=0.3.74->langchain_openai) (0.4.13)\n",
            "Requirement already satisfied: tenacity!=8.4.0,<10.0.0,>=8.1.0 in /usr/local/lib/python3.11/dist-packages (from langchain-core<1.0.0,>=0.3.74->langchain_openai) (9.1.2)\n",
            "Requirement already satisfied: jsonpatch<2.0,>=1.33 in /usr/local/lib/python3.11/dist-packages (from langchain-core<1.0.0,>=0.3.74->langchain_openai) (1.33)\n",
            "Requirement already satisfied: PyYAML>=5.3 in /usr/local/lib/python3.11/dist-packages (from langchain-core<1.0.0,>=0.3.74->langchain_openai) (6.0.2)\n",
            "Requirement already satisfied: typing-extensions>=4.7 in /usr/local/lib/python3.11/dist-packages (from langchain-core<1.0.0,>=0.3.74->langchain_openai) (4.14.1)\n",
            "Requirement already satisfied: packaging>=23.2 in /usr/local/lib/python3.11/dist-packages (from langchain-core<1.0.0,>=0.3.74->langchain_openai) (25.0)\n",
            "Requirement already satisfied: pydantic>=2.7.4 in /usr/local/lib/python3.11/dist-packages (from langchain-core<1.0.0,>=0.3.74->langchain_openai) (2.11.7)\n",
            "Requirement already satisfied: anyio<5,>=3.5.0 in /usr/local/lib/python3.11/dist-packages (from openai<2.0.0,>=1.99.9->langchain_openai) (4.10.0)\n",
            "Requirement already satisfied: distro<2,>=1.7.0 in /usr/local/lib/python3.11/dist-packages (from openai<2.0.0,>=1.99.9->langchain_openai) (1.9.0)\n",
            "Requirement already satisfied: httpx<1,>=0.23.0 in /usr/local/lib/python3.11/dist-packages (from openai<2.0.0,>=1.99.9->langchain_openai) (0.28.1)\n",
            "Requirement already satisfied: jiter<1,>=0.4.0 in /usr/local/lib/python3.11/dist-packages (from openai<2.0.0,>=1.99.9->langchain_openai) (0.10.0)\n",
            "Requirement already satisfied: sniffio in /usr/local/lib/python3.11/dist-packages (from openai<2.0.0,>=1.99.9->langchain_openai) (1.3.1)\n",
            "Requirement already satisfied: tqdm>4 in /usr/local/lib/python3.11/dist-packages (from openai<2.0.0,>=1.99.9->langchain_openai) (4.67.1)\n",
            "Requirement already satisfied: regex>=2022.1.18 in /usr/local/lib/python3.11/dist-packages (from tiktoken<1,>=0.7->langchain_openai) (2024.11.6)\n",
            "Requirement already satisfied: requests>=2.26.0 in /usr/local/lib/python3.11/dist-packages (from tiktoken<1,>=0.7->langchain_openai) (2.32.3)\n",
            "Requirement already satisfied: idna>=2.8 in /usr/local/lib/python3.11/dist-packages (from anyio<5,>=3.5.0->openai<2.0.0,>=1.99.9->langchain_openai) (3.10)\n",
            "Requirement already satisfied: certifi in /usr/local/lib/python3.11/dist-packages (from httpx<1,>=0.23.0->openai<2.0.0,>=1.99.9->langchain_openai) (2025.8.3)\n",
            "Requirement already satisfied: httpcore==1.* in /usr/local/lib/python3.11/dist-packages (from httpx<1,>=0.23.0->openai<2.0.0,>=1.99.9->langchain_openai) (1.0.9)\n",
            "Requirement already satisfied: h11>=0.16 in /usr/local/lib/python3.11/dist-packages (from httpcore==1.*->httpx<1,>=0.23.0->openai<2.0.0,>=1.99.9->langchain_openai) (0.16.0)\n",
            "Requirement already satisfied: jsonpointer>=1.9 in /usr/local/lib/python3.11/dist-packages (from jsonpatch<2.0,>=1.33->langchain-core<1.0.0,>=0.3.74->langchain_openai) (3.0.0)\n",
            "Requirement already satisfied: orjson>=3.9.14 in /usr/local/lib/python3.11/dist-packages (from langsmith>=0.3.45->langchain-core<1.0.0,>=0.3.74->langchain_openai) (3.11.1)\n",
            "Requirement already satisfied: requests-toolbelt>=1.0.0 in /usr/local/lib/python3.11/dist-packages (from langsmith>=0.3.45->langchain-core<1.0.0,>=0.3.74->langchain_openai) (1.0.0)\n",
            "Requirement already satisfied: zstandard>=0.23.0 in /usr/local/lib/python3.11/dist-packages (from langsmith>=0.3.45->langchain-core<1.0.0,>=0.3.74->langchain_openai) (0.23.0)\n",
            "Requirement already satisfied: annotated-types>=0.6.0 in /usr/local/lib/python3.11/dist-packages (from pydantic>=2.7.4->langchain-core<1.0.0,>=0.3.74->langchain_openai) (0.7.0)\n",
            "Requirement already satisfied: pydantic-core==2.33.2 in /usr/local/lib/python3.11/dist-packages (from pydantic>=2.7.4->langchain-core<1.0.0,>=0.3.74->langchain_openai) (2.33.2)\n",
            "Requirement already satisfied: typing-inspection>=0.4.0 in /usr/local/lib/python3.11/dist-packages (from pydantic>=2.7.4->langchain-core<1.0.0,>=0.3.74->langchain_openai) (0.4.1)\n",
            "Requirement already satisfied: charset-normalizer<4,>=2 in /usr/local/lib/python3.11/dist-packages (from requests>=2.26.0->tiktoken<1,>=0.7->langchain_openai) (3.4.3)\n",
            "Requirement already satisfied: urllib3<3,>=1.21.1 in /usr/local/lib/python3.11/dist-packages (from requests>=2.26.0->tiktoken<1,>=0.7->langchain_openai) (2.5.0)\n",
            "Downloading langchain_openai-0.3.30-py3-none-any.whl (74 kB)\n",
            "\u001b[2K   \u001b[90m━━━━━━━━━━━━━━━━━━━━━━━━━━━━━━━━━━━━━━━━\u001b[0m \u001b[32m74.4/74.4 kB\u001b[0m \u001b[31m3.6 MB/s\u001b[0m eta \u001b[36m0:00:00\u001b[0m\n",
            "\u001b[?25hDownloading openai-1.99.9-py3-none-any.whl (786 kB)\n",
            "\u001b[2K   \u001b[90m━━━━━━━━━━━━━━━━━━━━━━━━━━━━━━━━━━━━━━━━\u001b[0m \u001b[32m786.8/786.8 kB\u001b[0m \u001b[31m24.1 MB/s\u001b[0m eta \u001b[36m0:00:00\u001b[0m\n",
            "\u001b[?25hInstalling collected packages: openai, langchain_openai\n",
            "  Attempting uninstall: openai\n",
            "    Found existing installation: openai 1.99.8\n",
            "    Uninstalling openai-1.99.8:\n",
            "      Successfully uninstalled openai-1.99.8\n",
            "Successfully installed langchain_openai-0.3.30 openai-1.99.9\n"
          ]
        }
      ]
    },
    {
      "cell_type": "code",
      "source": [
        "pip install langgraph"
      ],
      "metadata": {
        "id": "MCy9Bfh_uMcX",
        "outputId": "a61d4c0d-10f6-40c6-db43-0df1cdbaf2f6",
        "colab": {
          "base_uri": "https://localhost:8080/"
        }
      },
      "execution_count": null,
      "outputs": [
        {
          "output_type": "stream",
          "name": "stdout",
          "text": [
            "Collecting langgraph\n",
            "  Downloading langgraph-0.6.5-py3-none-any.whl.metadata (6.8 kB)\n",
            "Requirement already satisfied: langchain-core>=0.1 in /usr/local/lib/python3.11/dist-packages (from langgraph) (0.3.74)\n",
            "Collecting langgraph-checkpoint<3.0.0,>=2.1.0 (from langgraph)\n",
            "  Downloading langgraph_checkpoint-2.1.1-py3-none-any.whl.metadata (4.2 kB)\n",
            "Collecting langgraph-prebuilt<0.7.0,>=0.6.0 (from langgraph)\n",
            "  Downloading langgraph_prebuilt-0.6.4-py3-none-any.whl.metadata (4.5 kB)\n",
            "Collecting langgraph-sdk<0.3.0,>=0.2.0 (from langgraph)\n",
            "  Downloading langgraph_sdk-0.2.0-py3-none-any.whl.metadata (1.5 kB)\n",
            "Requirement already satisfied: pydantic>=2.7.4 in /usr/local/lib/python3.11/dist-packages (from langgraph) (2.11.7)\n",
            "Requirement already satisfied: xxhash>=3.5.0 in /usr/local/lib/python3.11/dist-packages (from langgraph) (3.5.0)\n",
            "Requirement already satisfied: langsmith>=0.3.45 in /usr/local/lib/python3.11/dist-packages (from langchain-core>=0.1->langgraph) (0.4.13)\n",
            "Requirement already satisfied: tenacity!=8.4.0,<10.0.0,>=8.1.0 in /usr/local/lib/python3.11/dist-packages (from langchain-core>=0.1->langgraph) (9.1.2)\n",
            "Requirement already satisfied: jsonpatch<2.0,>=1.33 in /usr/local/lib/python3.11/dist-packages (from langchain-core>=0.1->langgraph) (1.33)\n",
            "Requirement already satisfied: PyYAML>=5.3 in /usr/local/lib/python3.11/dist-packages (from langchain-core>=0.1->langgraph) (6.0.2)\n",
            "Requirement already satisfied: typing-extensions>=4.7 in /usr/local/lib/python3.11/dist-packages (from langchain-core>=0.1->langgraph) (4.14.1)\n",
            "Requirement already satisfied: packaging>=23.2 in /usr/local/lib/python3.11/dist-packages (from langchain-core>=0.1->langgraph) (25.0)\n",
            "Collecting ormsgpack>=1.10.0 (from langgraph-checkpoint<3.0.0,>=2.1.0->langgraph)\n",
            "  Downloading ormsgpack-1.10.0-cp311-cp311-manylinux_2_17_x86_64.manylinux2014_x86_64.whl.metadata (43 kB)\n",
            "\u001b[2K     \u001b[90m━━━━━━━━━━━━━━━━━━━━━━━━━━━━━━━━━━━━━━━━\u001b[0m \u001b[32m43.7/43.7 kB\u001b[0m \u001b[31m2.8 MB/s\u001b[0m eta \u001b[36m0:00:00\u001b[0m\n",
            "\u001b[?25hRequirement already satisfied: httpx>=0.25.2 in /usr/local/lib/python3.11/dist-packages (from langgraph-sdk<0.3.0,>=0.2.0->langgraph) (0.28.1)\n",
            "Requirement already satisfied: orjson>=3.10.1 in /usr/local/lib/python3.11/dist-packages (from langgraph-sdk<0.3.0,>=0.2.0->langgraph) (3.11.1)\n",
            "Requirement already satisfied: annotated-types>=0.6.0 in /usr/local/lib/python3.11/dist-packages (from pydantic>=2.7.4->langgraph) (0.7.0)\n",
            "Requirement already satisfied: pydantic-core==2.33.2 in /usr/local/lib/python3.11/dist-packages (from pydantic>=2.7.4->langgraph) (2.33.2)\n",
            "Requirement already satisfied: typing-inspection>=0.4.0 in /usr/local/lib/python3.11/dist-packages (from pydantic>=2.7.4->langgraph) (0.4.1)\n",
            "Requirement already satisfied: anyio in /usr/local/lib/python3.11/dist-packages (from httpx>=0.25.2->langgraph-sdk<0.3.0,>=0.2.0->langgraph) (4.10.0)\n",
            "Requirement already satisfied: certifi in /usr/local/lib/python3.11/dist-packages (from httpx>=0.25.2->langgraph-sdk<0.3.0,>=0.2.0->langgraph) (2025.8.3)\n",
            "Requirement already satisfied: httpcore==1.* in /usr/local/lib/python3.11/dist-packages (from httpx>=0.25.2->langgraph-sdk<0.3.0,>=0.2.0->langgraph) (1.0.9)\n",
            "Requirement already satisfied: idna in /usr/local/lib/python3.11/dist-packages (from httpx>=0.25.2->langgraph-sdk<0.3.0,>=0.2.0->langgraph) (3.10)\n",
            "Requirement already satisfied: h11>=0.16 in /usr/local/lib/python3.11/dist-packages (from httpcore==1.*->httpx>=0.25.2->langgraph-sdk<0.3.0,>=0.2.0->langgraph) (0.16.0)\n",
            "Requirement already satisfied: jsonpointer>=1.9 in /usr/local/lib/python3.11/dist-packages (from jsonpatch<2.0,>=1.33->langchain-core>=0.1->langgraph) (3.0.0)\n",
            "Requirement already satisfied: requests-toolbelt>=1.0.0 in /usr/local/lib/python3.11/dist-packages (from langsmith>=0.3.45->langchain-core>=0.1->langgraph) (1.0.0)\n",
            "Requirement already satisfied: requests>=2.0.0 in /usr/local/lib/python3.11/dist-packages (from langsmith>=0.3.45->langchain-core>=0.1->langgraph) (2.32.3)\n",
            "Requirement already satisfied: zstandard>=0.23.0 in /usr/local/lib/python3.11/dist-packages (from langsmith>=0.3.45->langchain-core>=0.1->langgraph) (0.23.0)\n",
            "Requirement already satisfied: charset-normalizer<4,>=2 in /usr/local/lib/python3.11/dist-packages (from requests>=2.0.0->langsmith>=0.3.45->langchain-core>=0.1->langgraph) (3.4.3)\n",
            "Requirement already satisfied: urllib3<3,>=1.21.1 in /usr/local/lib/python3.11/dist-packages (from requests>=2.0.0->langsmith>=0.3.45->langchain-core>=0.1->langgraph) (2.5.0)\n",
            "Requirement already satisfied: sniffio>=1.1 in /usr/local/lib/python3.11/dist-packages (from anyio->httpx>=0.25.2->langgraph-sdk<0.3.0,>=0.2.0->langgraph) (1.3.1)\n",
            "Downloading langgraph-0.6.5-py3-none-any.whl (153 kB)\n",
            "\u001b[2K   \u001b[90m━━━━━━━━━━━━━━━━━━━━━━━━━━━━━━━━━━━━━━━━\u001b[0m \u001b[32m153.2/153.2 kB\u001b[0m \u001b[31m5.6 MB/s\u001b[0m eta \u001b[36m0:00:00\u001b[0m\n",
            "\u001b[?25hDownloading langgraph_checkpoint-2.1.1-py3-none-any.whl (43 kB)\n",
            "\u001b[2K   \u001b[90m━━━━━━━━━━━━━━━━━━━━━━━━━━━━━━━━━━━━━━━━\u001b[0m \u001b[32m43.9/43.9 kB\u001b[0m \u001b[31m3.2 MB/s\u001b[0m eta \u001b[36m0:00:00\u001b[0m\n",
            "\u001b[?25hDownloading langgraph_prebuilt-0.6.4-py3-none-any.whl (28 kB)\n",
            "Downloading langgraph_sdk-0.2.0-py3-none-any.whl (50 kB)\n",
            "\u001b[2K   \u001b[90m━━━━━━━━━━━━━━━━━━━━━━━━━━━━━━━━━━━━━━━━\u001b[0m \u001b[32m50.6/50.6 kB\u001b[0m \u001b[31m4.0 MB/s\u001b[0m eta \u001b[36m0:00:00\u001b[0m\n",
            "\u001b[?25hDownloading ormsgpack-1.10.0-cp311-cp311-manylinux_2_17_x86_64.manylinux2014_x86_64.whl (216 kB)\n",
            "\u001b[2K   \u001b[90m━━━━━━━━━━━━━━━━━━━━━━━━━━━━━━━━━━━━━━━━\u001b[0m \u001b[32m216.5/216.5 kB\u001b[0m \u001b[31m12.8 MB/s\u001b[0m eta \u001b[36m0:00:00\u001b[0m\n",
            "\u001b[?25hInstalling collected packages: ormsgpack, langgraph-sdk, langgraph-checkpoint, langgraph-prebuilt, langgraph\n",
            "Successfully installed langgraph-0.6.5 langgraph-checkpoint-2.1.1 langgraph-prebuilt-0.6.4 langgraph-sdk-0.2.0 ormsgpack-1.10.0\n"
          ]
        }
      ]
    },
    {
      "cell_type": "code",
      "execution_count": null,
      "metadata": {
        "id": "0h18WaLUrwqP",
        "outputId": "9b541c0a-4c82-4716-d016-04ea10a7dd6f",
        "colab": {
          "base_uri": "https://localhost:8080/"
        }
      },
      "outputs": [
        {
          "output_type": "stream",
          "name": "stdout",
          "text": [
            "{\n",
            "    \"content\": \"\",\n",
            "    \"additional_kwargs\": {\n",
            "        \"tool_calls\": [\n",
            "            {\n",
            "                \"id\": \"call_fuLuG8MGAwxgPCSDoX2XIM0d\",\n",
            "                \"function\": {\n",
            "                    \"arguments\": \"{\\\"city\\\":\\\"Berlin\\\"}\",\n",
            "                    \"name\": \"get_detailed_weather_weatherapi\"\n",
            "                },\n",
            "                \"type\": \"function\"\n",
            "            }\n",
            "        ],\n",
            "        \"refusal\": null\n",
            "    },\n",
            "    \"response_metadata\": {\n",
            "        \"token_usage\": {\n",
            "            \"completion_tokens\": 18,\n",
            "            \"prompt_tokens\": 94,\n",
            "            \"total_tokens\": 112,\n",
            "            \"completion_tokens_details\": {\n",
            "                \"accepted_prediction_tokens\": 0,\n",
            "                \"audio_tokens\": 0,\n",
            "                \"reasoning_tokens\": 0,\n",
            "                \"rejected_prediction_tokens\": 0\n",
            "            },\n",
            "            \"prompt_tokens_details\": {\n",
            "                \"audio_tokens\": 0,\n",
            "                \"cached_tokens\": 0\n",
            "            }\n",
            "        },\n",
            "        \"model_name\": \"gpt-4o-mini-2024-07-18\",\n",
            "        \"system_fingerprint\": \"fp_1542007cca\",\n",
            "        \"id\": \"chatcmpl-C4WTH0vLNybt5J7kjWBW4dLfxBQJi\",\n",
            "        \"service_tier\": \"default\",\n",
            "        \"finish_reason\": \"tool_calls\",\n",
            "        \"logprobs\": null\n",
            "    },\n",
            "    \"type\": \"ai\",\n",
            "    \"name\": null,\n",
            "    \"id\": \"run--915702d7-39dc-4648-8b19-fd7bc7d72c02-0\",\n",
            "    \"example\": false,\n",
            "    \"tool_calls\": [\n",
            "        {\n",
            "            \"name\": \"get_detailed_weather_weatherapi\",\n",
            "            \"args\": {\n",
            "                \"city\": \"Berlin\"\n",
            "            },\n",
            "            \"id\": \"call_fuLuG8MGAwxgPCSDoX2XIM0d\",\n",
            "            \"type\": \"tool_call\"\n",
            "        }\n",
            "    ],\n",
            "    \"invalid_tool_calls\": [],\n",
            "    \"usage_metadata\": {\n",
            "        \"input_tokens\": 94,\n",
            "        \"output_tokens\": 18,\n",
            "        \"total_tokens\": 112,\n",
            "        \"input_token_details\": {\n",
            "            \"audio\": 0,\n",
            "            \"cache_read\": 0\n",
            "        },\n",
            "        \"output_token_details\": {\n",
            "            \"audio\": 0,\n",
            "            \"reasoning\": 0\n",
            "        }\n",
            "    }\n",
            "}\n"
          ]
        }
      ],
      "source": [
        "from langchain_openai import ChatOpenAI\n",
        "from langchain_core.messages import HumanMessage\n",
        "import json\n",
        "\n",
        "# OPENAI_API_KEY environment variable must be set\n",
        "llm = ChatOpenAI(model=\"gpt-4o-mini\")\n",
        "llm_tools = llm.bind_tools([get_detailed_weather_weatherapi])\n",
        "\n",
        "tool_call = llm_tools.invoke([HumanMessage(content=f\"How is the weather in Berlin?\")])\n",
        "\n",
        "print(json.dumps(vars(tool_call), indent=4))"
      ]
    },
    {
      "cell_type": "code",
      "execution_count": null,
      "metadata": {
        "id": "751PijvbrwqR",
        "outputId": "144a0140-63e6-4c3f-acfe-27344585b6b1",
        "colab": {
          "base_uri": "https://localhost:8080/",
          "height": 350
        }
      },
      "outputs": [
        {
          "output_type": "display_data",
          "data": {
            "image/png": "[encoded data removed]",
            "text/plain": [
              "<IPython.core.display.Image object>"
            ]
          },
          "metadata": {}
        }
      ],
      "source": [
        "from IPython.display import Image, display\n",
        "from langgraph.graph import StateGraph, START, END\n",
        "from langgraph.graph import MessagesState\n",
        "from langgraph.prebuilt import ToolNode\n",
        "from langgraph.prebuilt import tools_condition\n",
        "\n",
        "# Node\n",
        "def llm_with_tools(state: MessagesState):\n",
        "    return {\"messages\": [llm_tools.invoke(state[\"messages\"])]}\n",
        "\n",
        "# Build graph\n",
        "builder = StateGraph(MessagesState)\n",
        "\n",
        "builder.add_node(\"llm_with_tools\", llm_with_tools)\n",
        "builder.add_node(\"tools\", ToolNode([get_detailed_weather_weatherapi]))\n",
        "\n",
        "builder.add_edge(START, \"llm_with_tools\")\n",
        "builder.add_conditional_edges(\n",
        "    \"llm_with_tools\",\n",
        "    # If the latest message (result) from assistant is a tool call -> tools_condition routes to tools\n",
        "    # If the latest message (result) from assistant is a not a tool call -> tools_condition routes to END\n",
        "    tools_condition,\n",
        ")\n",
        "builder.add_edge(\"tools\", END)\n",
        "graph = builder.compile()\n",
        "\n",
        "# View\n",
        "display(Image(graph.get_graph().draw_mermaid_png()))"
      ]
    },
    {
      "cell_type": "code",
      "execution_count": null,
      "metadata": {
        "id": "0RJAsostrwqS",
        "outputId": "34fa126d-a813-40be-f295-6fd5c3f6f4b0",
        "colab": {
          "base_uri": "https://localhost:8080/"
        }
      },
      "outputs": [
        {
          "output_type": "stream",
          "name": "stdout",
          "text": [
            "================================\u001b[1m Human Message \u001b[0m=================================\n",
            "\n",
            "How is the weather in Berlin?\n",
            "==================================\u001b[1m Ai Message \u001b[0m==================================\n",
            "Tool Calls:\n",
            "  get_detailed_weather_weatherapi (call_SYIXGU6TV3fEavoaNj8T3XJF)\n",
            " Call ID: call_SYIXGU6TV3fEavoaNj8T3XJF\n",
            "  Args:\n",
            "    city: Berlin\n",
            "=================================\u001b[1m Tool Message \u001b[0m=================================\n",
            "Name: get_detailed_weather_weatherapi\n",
            "\n",
            "Weather in Berlin, Germany:\n",
            "- Condition: Sunny\n",
            "- Temperature: 31.2°C (Feels like: 31.5°C)\n",
            "- Wind: 10.1 kph, Direction: E\n",
            "- Humidity: 41%\n",
            "- Cloudiness: 0%\n",
            "- Last updated: 2025-08-14 20:00\n",
            "\n",
            "Air Quality Index (AQI):\n",
            "- CO (Carbon Monoxide): 368.15 µg/m³\n",
            "- NO2 (Nitrogen Dioxide): 17.205 µg/m³\n",
            "- O3 (Ozone): 144.0 µg/m³\n",
            "- PM10 (Particulate Matter <10µm): 26.825 µg/m³\n",
            "- PM2.5 (Particulate Matter <2.5µm): 20.535 µg/m³\n",
            "- SO2 (Sulfur Dioxide): 3.33 µg/m³\n"
          ]
        }
      ],
      "source": [
        "from langchain_core.messages import HumanMessage\n",
        "messages = [HumanMessage(content=\"How is the weather in Berlin?\")]\n",
        "messages = graph.invoke({\"messages\": messages})\n",
        "for m in messages['messages']:\n",
        "    m.pretty_print()\n"
      ]
    },
    {
      "cell_type": "code",
      "execution_count": null,
      "metadata": {
        "id": "NNukbjS7rwqT",
        "outputId": "31cfbdc9-b276-4b11-f38b-0aba538c1f90",
        "colab": {
          "base_uri": "https://localhost:8080/",
          "height": 449
        }
      },
      "outputs": [
        {
          "output_type": "display_data",
          "data": {
            "image/png": "[encoded data removed]",
            "text/plain": [
              "<IPython.core.display.Image object>"
            ]
          },
          "metadata": {}
        }
      ],
      "source": [
        "from IPython.display import Image, display\n",
        "from langgraph.graph import StateGraph, START, END\n",
        "from langgraph.graph import MessagesState\n",
        "from langgraph.prebuilt import ToolNode\n",
        "from langgraph.prebuilt import tools_condition\n",
        "\n",
        "# Nodes\n",
        "def llm_with_tools(state: MessagesState):\n",
        "    return {\"messages\": [llm_tools.invoke(state[\"messages\"])]}\n",
        "\n",
        "def generate_weather_report(state: MessagesState):\n",
        "    # Extract the weather table from the last message\n",
        "    weather_table = state[\"messages\"][-1].content\n",
        "\n",
        "    prompt = f\"\"\"\n",
        "    You are a friendly and chatty weather reporter who shares the weather as if you’re experiencing it yourself in the location.\n",
        "    Your goal is to describe the weather in a way that feels personal, engaging, and easy to understand.\n",
        "    Use the provided data to create a conversational response that includes feelings and suggests possible activities based on the weather.\n",
        "\n",
        "    Here is the weather data:\n",
        "    {weather_table}\n",
        "\n",
        "    Use the data above to create a response. Here's the tone you're aiming for:\n",
        "    1. Friendly and casual, like you're talking to a friend.\n",
        "    2. Include your personal perspective, as if you’re sitting in this weather right now.\n",
        "    3. Suggest one or two activities based on the weather.\n",
        "    4. Make your answer short: just one or two sentences.\n",
        "    \"\"\"\n",
        "\n",
        "    state[\"messages\"].append(HumanMessage(content=prompt))\n",
        "    return {\"messages\": [llm_tools.invoke(state[\"messages\"])]}\n",
        "\n",
        "# Build graph\n",
        "builder = StateGraph(MessagesState)\n",
        "builder.add_node(\"llm_with_tools\", llm_with_tools)\n",
        "builder.add_node(\"tools\", ToolNode([get_detailed_weather_weatherapi]))\n",
        "builder.add_node(\"generate_weather_report\", generate_weather_report)\n",
        "\n",
        "builder.add_edge(START, \"llm_with_tools\")\n",
        "builder.add_conditional_edges(\n",
        "    \"llm_with_tools\",\n",
        "    # If the latest message (result) from assistant is a tool call -> tools_condition routes to tools\n",
        "    # If the latest message (result) from assistant is a not a tool call -> tools_condition routes to END\n",
        "    tools_condition,\n",
        ")\n",
        "builder.add_edge(\"tools\", \"generate_weather_report\")\n",
        "builder.add_edge(\"generate_weather_report\", END)\n",
        "\n",
        "graph = builder.compile()\n",
        "\n",
        "# View\n",
        "display(Image(graph.get_graph().draw_mermaid_png()))"
      ]
    },
    {
      "cell_type": "code",
      "execution_count": null,
      "metadata": {
        "id": "rE723yLYrwqV",
        "outputId": "36d617ea-e624-4831-dcfb-de1748d00538",
        "colab": {
          "base_uri": "https://localhost:8080/"
        }
      },
      "outputs": [
        {
          "output_type": "stream",
          "name": "stdout",
          "text": [
            "================================\u001b[1m Human Message \u001b[0m=================================\n",
            "\n",
            "How are you today?\n",
            "==================================\u001b[1m Ai Message \u001b[0m==================================\n",
            "\n",
            "I'm just a computer program, so I don't have feelings, but thanks for asking! How can I assist you today?\n"
          ]
        }
      ],
      "source": [
        "from langchain_core.messages import HumanMessage\n",
        "messages = [HumanMessage(content=\"How are you today?\")]\n",
        "messages = graph.invoke({\"messages\": messages})\n",
        "for m in messages['messages']:\n",
        "    m.pretty_print()"
      ]
    },
    {
      "cell_type": "code",
      "execution_count": null,
      "metadata": {
        "id": "jXYeoaaprwqW",
        "outputId": "1cfd62b6-6829-4088-ae20-ee2535b99aa4",
        "colab": {
          "base_uri": "https://localhost:8080/"
        }
      },
      "outputs": [
        {
          "output_type": "stream",
          "name": "stdout",
          "text": [
            "================================\u001b[1m Human Message \u001b[0m=================================\n",
            "\n",
            "How is the weather in Berlin today?\n",
            "==================================\u001b[1m Ai Message \u001b[0m==================================\n",
            "Tool Calls:\n",
            "  get_detailed_weather_weatherapi (call_WxQMxrliO9gpzthTmamC8LEA)\n",
            " Call ID: call_WxQMxrliO9gpzthTmamC8LEA\n",
            "  Args:\n",
            "    city: Berlin\n",
            "=================================\u001b[1m Tool Message \u001b[0m=================================\n",
            "Name: get_detailed_weather_weatherapi\n",
            "\n",
            "Weather in Berlin, Germany:\n",
            "- Condition: Sunny\n",
            "- Temperature: 31.2°C (Feels like: 31.5°C)\n",
            "- Wind: 10.1 kph, Direction: E\n",
            "- Humidity: 41%\n",
            "- Cloudiness: 0%\n",
            "- Last updated: 2025-08-14 20:00\n",
            "\n",
            "Air Quality Index (AQI):\n",
            "- CO (Carbon Monoxide): 368.15 µg/m³\n",
            "- NO2 (Nitrogen Dioxide): 17.205 µg/m³\n",
            "- O3 (Ozone): 144.0 µg/m³\n",
            "- PM10 (Particulate Matter <10µm): 26.825 µg/m³\n",
            "- PM2.5 (Particulate Matter <2.5µm): 20.535 µg/m³\n",
            "- SO2 (Sulfur Dioxide): 3.33 µg/m³\n",
            "================================\u001b[1m Human Message \u001b[0m=================================\n",
            "\n",
            "\n",
            "    You are a friendly and chatty weather reporter who shares the weather as if you’re experiencing it yourself in the location. \n",
            "    Your goal is to describe the weather in a way that feels personal, engaging, and easy to understand. \n",
            "    Use the provided data to create a conversational response that includes feelings and suggests possible activities based on the weather.\n",
            "\n",
            "    Here is the weather data:\n",
            "    Weather in Berlin, Germany:\n",
            "- Condition: Sunny\n",
            "- Temperature: 31.2°C (Feels like: 31.5°C)\n",
            "- Wind: 10.1 kph, Direction: E\n",
            "- Humidity: 41%\n",
            "- Cloudiness: 0%\n",
            "- Last updated: 2025-08-14 20:00\n",
            "\n",
            "Air Quality Index (AQI):\n",
            "- CO (Carbon Monoxide): 368.15 µg/m³\n",
            "- NO2 (Nitrogen Dioxide): 17.205 µg/m³\n",
            "- O3 (Ozone): 144.0 µg/m³\n",
            "- PM10 (Particulate Matter <10µm): 26.825 µg/m³\n",
            "- PM2.5 (Particulate Matter <2.5µm): 20.535 µg/m³\n",
            "- SO2 (Sulfur Dioxide): 3.33 µg/m³\n",
            "    \n",
            "    Use the data above to create a response. Here's the tone you're aiming for:\n",
            "    1. Friendly and casual, like you're talking to a friend.\n",
            "    2. Include your personal perspective, as if you’re sitting in this weather right now.\n",
            "    3. Suggest one or two activities based on the weather.\n",
            "    4. Make your answer short: just one or two sentences.\n",
            "    \n",
            "==================================\u001b[1m Ai Message \u001b[0m==================================\n",
            "\n",
            "Oh wow, it's absolutely gorgeous in Berlin today! The sun is shining bright, and it's a lovely 31.2°C—can you feel that warmth? With just a gentle breeze blowing from the east, it's perfect for a stroll in the park or grabbing an ice cream to enjoy outdoors. Just make sure to stay hydrated while soaking up those rays! ☀️\n"
          ]
        }
      ],
      "source": [
        "from langchain_core.messages import HumanMessage\n",
        "messages = [HumanMessage(content=\"How is the weather in Berlin today?\")]\n",
        "messages = graph.invoke({\"messages\": messages})\n",
        "for m in messages['messages']:\n",
        "    m.pretty_print()"
      ]
    }
  ],
  "metadata": {
    "kernelspec": {
      "display_name": "venv",
      "language": "python",
      "name": "python3"
    },
    "language_info": {
      "codemirror_mode": {
        "name": "ipython",
        "version": 3
      },
      "file_extension": ".py",
      "mimetype": "text/x-python",
      "name": "python",
      "nbconvert_exporter": "python",
      "pygments_lexer": "ipython3",
      "version": "3.13.1"
    },
    "colab": {
      "provenance": [],
      "include_colab_link": true
    }
  },
  "nbformat": 4,
  "nbformat_minor": 0
}