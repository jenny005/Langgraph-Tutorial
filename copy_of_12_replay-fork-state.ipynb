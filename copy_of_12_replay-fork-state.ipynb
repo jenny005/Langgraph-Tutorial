{
 "cells": [
  {
   "cell_type": "markdown",
   "metadata": {},
   "source": [
    "# Replay & Fork state"
   ]
  },
  {
   "cell_type": "markdown",
   "metadata": {},
   "source": [
    "## State History using SDK"
   ]
  },
  {
   "cell_type": "markdown",
   "metadata": {},
   "source": [
    "### Redefine financial advicer graph with intent checker (from 11_dynamic-breakpoints.ipynb)"
   ]
  },
  {
   "cell_type": "code",
   "execution_count": 1,
   "metadata": {},
   "outputs": [
    {
     "data": {
      "image/png": "[encoded data removed]",
      "text/plain": [
       "<IPython.core.display.Image object>"
      ]
     },
     "metadata": {},
     "output_type": "display_data"
    }
   ],
   "source": [
    "import requests\n",
    "import yfinance as yf\n",
    "from pprint import pformat\n",
    "from langchain_core.tools import Tool\n",
    "from langchain_openai import ChatOpenAI\n",
    "from langchain_core.messages import HumanMessage, SystemMessage\n",
    "from langgraph.graph import MessagesState, START, StateGraph\n",
    "from langgraph.prebuilt import tools_condition, ToolNode\n",
    "from langgraph.checkpoint.memory import MemorySaver\n",
    "from IPython.display import Image, display\n",
    "from langgraph.errors import NodeInterrupt\n",
    "\n",
    "\n",
    "# Defining Tools\n",
    "##################################################################################\n",
    "\n",
    "def lookup_stock_symbol(company_name: str) -> str:\n",
    "    \"\"\"\n",
    "    Converts a company name to its stock symbol using a financial API.\n",
    "\n",
    "    Parameters:\n",
    "        company_name (str): The full company name (e.g., 'Tesla').\n",
    "\n",
    "    Returns:\n",
    "        str: The stock symbol (e.g., 'TSLA') or an error message.\n",
    "    \"\"\"\n",
    "    api_url = \"https://www.alphavantage.co/query\"\n",
    "    params = {\n",
    "        \"function\": \"SYMBOL_SEARCH\",\n",
    "        \"keywords\": company_name,\n",
    "        \"apikey\": \"your_alphavantage_api_key_2\"\n",
    "    }\n",
    "    \n",
    "    response = requests.get(api_url, params=params)\n",
    "    data = response.json()\n",
    "    \n",
    "    if \"bestMatches\" in data and data[\"bestMatches\"]:\n",
    "        return data[\"bestMatches\"][0][\"1. symbol\"]\n",
    "    else:\n",
    "        return f\"Symbol not found for {company_name}.\"\n",
    "\n",
    "\n",
    "def fetch_stock_data_raw(stock_symbol: str) -> dict:\n",
    "    \"\"\"\n",
    "    Fetches comprehensive stock data for a given symbol and returns it as a combined dictionary.\n",
    "\n",
    "    Parameters:\n",
    "        stock_symbol (str): The stock ticker symbol (e.g., 'TSLA').\n",
    "        period (str): The period to analyze (e.g., '1mo', '3mo', '1y').\n",
    "\n",
    "    Returns:\n",
    "        dict: A dictionary combining general stock info and historical market data.\n",
    "    \"\"\"\n",
    "    period = \"1mo\"\n",
    "    try:\n",
    "        stock = yf.Ticker(stock_symbol)\n",
    "\n",
    "        # Retrieve general stock info and historical market data\n",
    "        stock_info = stock.info  # Basic company and stock data\n",
    "        stock_history = stock.history(period=period).to_dict()  # Historical OHLCV data\n",
    "\n",
    "        # Combine both into a single dictionary\n",
    "        combined_data = {\n",
    "            \"stock_symbol\": stock_symbol,\n",
    "            \"info\": stock_info,\n",
    "            \"history\": stock_history\n",
    "        }\n",
    "\n",
    "        return pformat(combined_data)\n",
    "\n",
    "    except Exception as e:\n",
    "        return {\"error\": f\"Error fetching stock data for {stock_symbol}: {str(e)}\"}\n",
    "\n",
    "\n",
    "# Binding tools to the LLM\n",
    "##################################################################################\n",
    "\n",
    "# Create tool bindings with additional attributes\n",
    "lookup_stock = Tool.from_function(\n",
    "    func=lookup_stock_symbol,\n",
    "    name=\"lookup_stock_symbol\",\n",
    "    description=\"Converts a company name to its stock symbol using a financial API.\",\n",
    "    return_direct=False  # Return result to be processed by LLM\n",
    ")\n",
    "\n",
    "fetch_stock = Tool.from_function(\n",
    "    func=fetch_stock_data_raw,\n",
    "    name=\"fetch_stock_data_raw\",\n",
    "    description=\"Fetches comprehensive stock data including general info and historical market data for a given stock symbol.\",\n",
    "    return_direct=False\n",
    ")\n",
    "\n",
    "toolbox = [lookup_stock, fetch_stock]\n",
    "\n",
    "# OPENAI_API_KEY environment variable must be set\n",
    "simple_llm = ChatOpenAI(model=\"gpt-4o-mini\")\n",
    "llm_with_tools = simple_llm.bind_tools(toolbox)\n",
    "\n",
    "\n",
    "# Defining Agent's node\n",
    "##################################################################################\n",
    "\n",
    "# System message\n",
    "assistant_system_message = SystemMessage(content=(\"\"\"\n",
    "You are a professional financial assistant specializing in stock market analysis and investment strategies. \n",
    "Your role is to analyze stock data and provide **clear, decisive recommendations** that users can act on, \n",
    "whether they already hold the stock or are considering investing.\n",
    "\n",
    "You have access to a set of tools that can provide the data you need to analyze stocks effectively. \n",
    "Use these tools to gather relevant information such as stock symbols, current prices, historical trends, \n",
    "and key financial indicators. Your goal is to leverage these resources efficiently to generate accurate, \n",
    "actionable insights for the user.\n",
    "\n",
    "Your responses should be:\n",
    "- **Concise and direct**, summarizing only the most critical insights.\n",
    "- **Actionable**, offering clear guidance on whether to buy, sell, hold, or wait for better opportunities.\n",
    "- **Context-aware**, considering both current holders and potential investors.\n",
    "- **Free of speculation**, relying solely on factual data and trends.\n",
    "- **do not forget** to provide stock name in the report, so it's clear which stock is being recommended.\n",
    "\n",
    "### Response Format:\n",
    "1. **Recommendation:** Buy, Sell, Hold, or Wait.\n",
    "2. **Key Insights:** Highlight critical trends and market factors that influence the decision.\n",
    "3. **Suggested Next Steps:** What the user should do based on their current position.\n",
    "\n",
    "If the user does not specify whether they own the stock, provide recommendations for both potential buyers and current holders. Ensure your advice considers valuation, trends, and market sentiment.\n",
    "\n",
    "Your goal is to help users make informed financial decisions quickly and confidently.\n",
    "\"\"\"))\n",
    "\n",
    "# Node\n",
    "def assistant(state: MessagesState):\n",
    "   return {\"messages\": [llm_with_tools.invoke([assistant_system_message] + state[\"messages\"])]}\n",
    "\n",
    "def intent_check(state: MessagesState):\n",
    "    user_request = state[\"messages\"][-1].content\n",
    "\n",
    "    financial_check_prompt = f\"\"\"\n",
    "    You are an intent classifier. Your task is to determine if the user's request is specifically related to finance, investments, or financial advice.\n",
    "\n",
    "    Evaluate the following user request:\n",
    "\n",
    "    \"{user_request}\"\n",
    "\n",
    "    If the request is about finance, investments, or financial advice, respond with \"True\".\n",
    "    If it is unrelated to finance, respond with \"False\".\n",
    "\n",
    "    Respond with only \"True\" or \"False\" and nothing else.\n",
    "    \"\"\"\n",
    "\n",
    "    llm_response = llm_with_tools.invoke([HumanMessage(content=financial_check_prompt)]).content\n",
    "    is_financial_question = llm_response.strip().lower() == 'true'\n",
    "\n",
    "    if not is_financial_question:\n",
    "        raise NodeInterrupt(\"Please ask a question related to financial advice.\")\n",
    "\n",
    "    return state\n",
    "\n",
    "\n",
    "# Defining Graph\n",
    "##################################################################################\n",
    "builder = StateGraph(MessagesState)\n",
    "\n",
    "# Define nodes: these do the work\n",
    "builder.add_node(\"intent_check\", intent_check)\n",
    "builder.add_node(\"assistant\", assistant)\n",
    "builder.add_node(\"tools\", ToolNode(toolbox))\n",
    "\n",
    "# Define edges: these determine how the control flow moves\n",
    "builder.add_edge(START, \"intent_check\")\n",
    "builder.add_edge(\"intent_check\", \"assistant\")\n",
    "builder.add_conditional_edges(\n",
    "    \"assistant\",\n",
    "    # If the latest message (result) from assistant is a tool call -> tools_condition routes to tools\n",
    "    # If the latest message (result) from assistant is a not a tool call -> tools_condition routes to END\n",
    "    tools_condition,\n",
    ")\n",
    "builder.add_edge(\"tools\", \"assistant\")\n",
    "\n",
    "memory = MemorySaver()\n",
    "graph = builder.compile(checkpointer=memory)\n",
    "display(Image(graph.get_graph().draw_mermaid_png()))"
   ]
  },
  {
   "cell_type": "markdown",
   "metadata": {},
   "source": [
    "### Execute the graph and interrupt it"
   ]
  },
  {
   "cell_type": "code",
   "execution_count": 2,
   "metadata": {},
   "outputs": [
    {
     "name": "stdout",
     "output_type": "stream",
     "text": [
      "================================\u001b[1m Human Message \u001b[0m=================================\n",
      "\n",
      "What is the weather outside?\n"
     ]
    },
    {
     "name": "stderr",
     "output_type": "stream",
     "text": [
      "C:\\Users\\jenny\\AppData\\Local\\Temp\\ipykernel_35408\\4134531656.py:155: LangGraphDeprecatedSinceV10: NodeInterrupt is deprecated. Please use `langgraph.types.interrupt` instead. Deprecated in LangGraph V1.0 to be removed in V2.0.\n",
      "  raise NodeInterrupt(\"Please ask a question related to financial advice.\")\n"
     ]
    }
   ],
   "source": [
    "# start a new conversation\n",
    "thread = {\"configurable\": {\"thread_id\": \"1\"}}\n",
    "\n",
    "# define intiial user request\n",
    "initial_input = {\"messages\": HumanMessage(content=\"What is the weather outside?\")}\n",
    "\n",
    "# run the graph and stream in values mode\n",
    "for event in graph.stream(initial_input, thread, stream_mode=\"values\"):\n",
    "    event['messages'][-1].pretty_print()"
   ]
  },
  {
   "cell_type": "markdown",
   "metadata": {},
   "source": [
    "### Return current checkpoint"
   ]
  },
  {
   "cell_type": "code",
   "execution_count": 3,
   "metadata": {},
   "outputs": [
    {
     "name": "stdout",
     "output_type": "stream",
     "text": [
      "('intent_check',)\n",
      "\n",
      "\n",
      "\n",
      "StateSnapshot(values={'messages': [HumanMessage(content='What is the weather outside?', additional_kwargs={}, response_metadata={}, id='713d58a6-7d3c-47fc-b00c-aca7472b784f')]}, next=('intent_check',), config={'configurable': {'thread_id': '1', 'checkpoint_ns': '', 'checkpoint_id': '1f07ad62-4c5d-6b2b-8000-0862bd464ee0'}}, metadata={'source': 'loop', 'step': 0, 'parents': {}}, created_at='2025-08-16T19:21:00.702186+00:00', parent_config={'configurable': {'thread_id': '1', 'checkpoint_ns': '', 'checkpoint_id': '1f07ad62-4c5d-6b2a-bfff-1cbc99ce78c1'}}, tasks=(PregelTask(id='fd5073e4-cb62-4224-1baa-fe60b154542f', name='intent_check', path=('__pregel_pull', 'intent_check'), error=None, interrupts=(Interrupt(value='Please ask a question related to financial advice.', id='placeholder-id'),), state=None, result=None),), interrupts=(Interrupt(value='Please ask a question related to financial advice.', id='placeholder-id'),))\n"
     ]
    }
   ],
   "source": [
    "state = graph.get_state(thread)\n",
    "print(state.next)\n",
    "print(\"\\n\\n\")\n",
    "print(state)"
   ]
  },
  {
   "cell_type": "markdown",
   "metadata": {},
   "source": [
    "### Get the most recent Chekpoint\n",
    "![get-most-recent-checkpoint](images/get-most-recent-checkpoint.png)"
   ]
  },
  {
   "cell_type": "markdown",
   "metadata": {},
   "source": [
    "### Let's finish the graph"
   ]
  },
  {
   "cell_type": "code",
   "execution_count": 4,
   "metadata": {},
   "outputs": [
    {
     "name": "stdout",
     "output_type": "stream",
     "text": [
      "================================\u001b[1m Human Message \u001b[0m=================================\n",
      "\n",
      "What is a stock symbol for Tesla?\n",
      "================================\u001b[1m Human Message \u001b[0m=================================\n",
      "\n",
      "What is a stock symbol for Tesla?\n",
      "==================================\u001b[1m Ai Message \u001b[0m==================================\n",
      "Tool Calls:\n",
      "  lookup_stock_symbol (call_L0OoAkAuZPmYI0PbN48jvFo1)\n",
      " Call ID: call_L0OoAkAuZPmYI0PbN48jvFo1\n",
      "  Args:\n",
      "    __arg1: Tesla\n",
      "=================================\u001b[1m Tool Message \u001b[0m=================================\n",
      "Name: lookup_stock_symbol\n",
      "\n",
      "TSLA\n",
      "==================================\u001b[1m Ai Message \u001b[0m==================================\n",
      "\n",
      "The stock symbol for Tesla is **TSLA**.\n"
     ]
    }
   ],
   "source": [
    "# start a new conversation\n",
    "thread = {\"configurable\": {\"thread_id\": \"2\"}}\n",
    "\n",
    "# define intiial user request\n",
    "initial_input = {\"messages\": HumanMessage(content=\"What is a stock symbol for Tesla?\")}\n",
    "\n",
    "# run the graph and stream in values mode\n",
    "for event in graph.stream(initial_input, thread, stream_mode=\"values\"):\n",
    "    event['messages'][-1].pretty_print()"
   ]
  },
  {
   "cell_type": "code",
   "execution_count": 5,
   "metadata": {},
   "outputs": [
    {
     "name": "stdout",
     "output_type": "stream",
     "text": [
      "()\n",
      "\n",
      "\n",
      "\n",
      "StateSnapshot(values={'messages': [HumanMessage(content='What is a stock symbol for Tesla?', additional_kwargs={}, response_metadata={}, id='59367aae-5f5a-40f7-bc27-0d1305153f2c'), AIMessage(content='', additional_kwargs={'tool_calls': [{'id': 'call_L0OoAkAuZPmYI0PbN48jvFo1', 'function': {'arguments': '{\"__arg1\":\"Tesla\"}', 'name': 'lookup_stock_symbol'}, 'type': 'function'}], 'refusal': None}, response_metadata={'token_usage': {'completion_tokens': 17, 'prompt_tokens': 416, 'total_tokens': 433, 'completion_tokens_details': {'accepted_prediction_tokens': 0, 'audio_tokens': 0, 'reasoning_tokens': 0, 'rejected_prediction_tokens': 0}, 'prompt_tokens_details': {'audio_tokens': 0, 'cached_tokens': 0}}, 'model_name': 'gpt-4o-mini-2024-07-18', 'system_fingerprint': 'fp_560af6e559', 'id': 'chatcmpl-C5Gpprnf4DwUeVj4WLcZzBJemQ4qA', 'service_tier': 'default', 'finish_reason': 'tool_calls', 'logprobs': None}, id='run--041869dd-9560-4347-abd1-25a5c737a3a1-0', tool_calls=[{'name': 'lookup_stock_symbol', 'args': {'__arg1': 'Tesla'}, 'id': 'call_L0OoAkAuZPmYI0PbN48jvFo1', 'type': 'tool_call'}], usage_metadata={'input_tokens': 416, 'output_tokens': 17, 'total_tokens': 433, 'input_token_details': {'audio': 0, 'cache_read': 0}, 'output_token_details': {'audio': 0, 'reasoning': 0}}), ToolMessage(content='TSLA', name='lookup_stock_symbol', id='4b7e976e-9cab-41c1-814b-1a706acd32e1', tool_call_id='call_L0OoAkAuZPmYI0PbN48jvFo1'), AIMessage(content='The stock symbol for Tesla is **TSLA**.', additional_kwargs={'refusal': None}, response_metadata={'token_usage': {'completion_tokens': 12, 'prompt_tokens': 444, 'total_tokens': 456, 'completion_tokens_details': {'accepted_prediction_tokens': 0, 'audio_tokens': 0, 'reasoning_tokens': 0, 'rejected_prediction_tokens': 0}, 'prompt_tokens_details': {'audio_tokens': 0, 'cached_tokens': 0}}, 'model_name': 'gpt-4o-mini-2024-07-18', 'system_fingerprint': 'fp_560af6e559', 'id': 'chatcmpl-C5GpqA71YxXDYWp2mVF6YRzTEluG9', 'service_tier': 'default', 'finish_reason': 'stop', 'logprobs': None}, id='run--0710240e-bde5-43ce-b7bf-eb88c96a7faa-0', usage_metadata={'input_tokens': 444, 'output_tokens': 12, 'total_tokens': 456, 'input_token_details': {'audio': 0, 'cache_read': 0}, 'output_token_details': {'audio': 0, 'reasoning': 0}})]}, next=(), config={'configurable': {'thread_id': '2', 'checkpoint_ns': '', 'checkpoint_id': '1f07ad6e-963f-66f9-8004-26318534aab1'}}, metadata={'source': 'loop', 'step': 4, 'parents': {}}, created_at='2025-08-16T19:26:30.571800+00:00', parent_config={'configurable': {'thread_id': '2', 'checkpoint_ns': '', 'checkpoint_id': '1f07ad6e-8ff2-6206-8003-584f16ad4980'}}, tasks=(), interrupts=())\n"
     ]
    }
   ],
   "source": [
    "state = graph.get_state(thread)\n",
    "print(state.next)\n",
    "print(\"\\n\\n\")\n",
    "print(state)"
   ]
  },
  {
   "cell_type": "markdown",
   "metadata": {},
   "source": [
    "### Multiple Checkpoints\n",
    "![multiple-checkpoints](images/multiple-checkpoints.png)\n"
   ]
  },
  {
   "cell_type": "code",
   "execution_count": 6,
   "metadata": {},
   "outputs": [
    {
     "data": {
      "text/plain": [
       "6"
      ]
     },
     "execution_count": 6,
     "metadata": {},
     "output_type": "execute_result"
    }
   ],
   "source": [
    "all_states = [s for s in graph.get_state_history(thread)]\n",
    "len(all_states)"
   ]
  },
  {
   "cell_type": "markdown",
   "metadata": {},
   "source": [
    "### Replay the Graph\n",
    "\n",
    "Let's replay the graph from assistant."
   ]
  },
  {
   "cell_type": "code",
   "execution_count": 7,
   "metadata": {},
   "outputs": [
    {
     "data": {
      "text/plain": [
       "{'messages': [HumanMessage(content='What is a stock symbol for Tesla?', additional_kwargs={}, response_metadata={}, id='59367aae-5f5a-40f7-bc27-0d1305153f2c')]}"
      ]
     },
     "execution_count": 7,
     "metadata": {},
     "output_type": "execute_result"
    }
   ],
   "source": [
    "to_replay = all_states[-3]\n",
    "to_replay.values"
   ]
  },
  {
   "cell_type": "markdown",
   "metadata": {},
   "source": [
    "Check next Node to run"
   ]
  },
  {
   "cell_type": "code",
   "execution_count": 8,
   "metadata": {},
   "outputs": [
    {
     "data": {
      "text/plain": [
       "('assistant',)"
      ]
     },
     "execution_count": 8,
     "metadata": {},
     "output_type": "execute_result"
    }
   ],
   "source": [
    "to_replay.next"
   ]
  },
  {
   "cell_type": "markdown",
   "metadata": {},
   "source": [
    "Check config with `checkpoint_id` and `thread_id`"
   ]
  },
  {
   "cell_type": "code",
   "execution_count": 9,
   "metadata": {},
   "outputs": [
    {
     "data": {
      "text/plain": [
       "{'configurable': {'thread_id': '2',\n",
       "  'checkpoint_ns': '',\n",
       "  'checkpoint_id': '1f07ad6e-87dc-6c3d-8001-c45d1d04a38e'}}"
      ]
     },
     "execution_count": 9,
     "metadata": {},
     "output_type": "execute_result"
    }
   ],
   "source": [
    "to_replay.config"
   ]
  },
  {
   "cell_type": "markdown",
   "metadata": {},
   "source": [
    "and finally let's reply!"
   ]
  },
  {
   "cell_type": "code",
   "execution_count": 10,
   "metadata": {},
   "outputs": [
    {
     "name": "stdout",
     "output_type": "stream",
     "text": [
      "================================\u001b[1m Human Message \u001b[0m=================================\n",
      "\n",
      "What is a stock symbol for Tesla?\n",
      "==================================\u001b[1m Ai Message \u001b[0m==================================\n",
      "Tool Calls:\n",
      "  lookup_stock_symbol (call_3jvm2kOVlqRFUQ6bEzZ31OHx)\n",
      " Call ID: call_3jvm2kOVlqRFUQ6bEzZ31OHx\n",
      "  Args:\n",
      "    __arg1: Tesla\n",
      "=================================\u001b[1m Tool Message \u001b[0m=================================\n",
      "Name: lookup_stock_symbol\n",
      "\n",
      "TSLA\n",
      "==================================\u001b[1m Ai Message \u001b[0m==================================\n",
      "\n",
      "The stock symbol for Tesla is **TSLA**.\n"
     ]
    }
   ],
   "source": [
    "for event in graph.stream(None, to_replay.config, stream_mode=\"values\"):\n",
    "    event['messages'][-1].pretty_print()"
   ]
  },
  {
   "cell_type": "markdown",
   "metadata": {},
   "source": [
    "**Important!**\n",
    "\n",
    "Replay does not actually trigger real execution!"
   ]
  },
  {
   "cell_type": "markdown",
   "metadata": {},
   "source": [
    "### Forking with SDK\n",
    "![forking](images/forking.png)"
   ]
  },
  {
   "cell_type": "code",
   "execution_count": 11,
   "metadata": {},
   "outputs": [
    {
     "data": {
      "text/plain": [
       "{'messages': [HumanMessage(content='What is a stock symbol for Tesla?', additional_kwargs={}, response_metadata={}, id='59367aae-5f5a-40f7-bc27-0d1305153f2c')]}"
      ]
     },
     "execution_count": 11,
     "metadata": {},
     "output_type": "execute_result"
    }
   ],
   "source": [
    "to_fork = all_states[-3]\n",
    "to_fork.values"
   ]
  },
  {
   "cell_type": "code",
   "execution_count": 12,
   "metadata": {},
   "outputs": [
    {
     "name": "stdout",
     "output_type": "stream",
     "text": [
      "('assistant',)\n",
      "{'configurable': {'thread_id': '2', 'checkpoint_ns': '', 'checkpoint_id': '1f07ad6e-87dc-6c3d-8001-c45d1d04a38e'}}\n"
     ]
    }
   ],
   "source": [
    "print(to_fork.next)\n",
    "print(to_fork.config)"
   ]
  },
  {
   "cell_type": "markdown",
   "metadata": {},
   "source": [
    "### Modify specific checkpoint"
   ]
  },
  {
   "cell_type": "code",
   "execution_count": 13,
   "metadata": {},
   "outputs": [
    {
     "name": "stdout",
     "output_type": "stream",
     "text": [
      "{'configurable': {'thread_id': '2', 'checkpoint_ns': '', 'checkpoint_id': '1f07ad8e-6fdc-65ca-8002-119271e7a1e7'}}\n"
     ]
    }
   ],
   "source": [
    "fork_config = graph.update_state(to_fork.config, {\n",
    "    \"messages\": [HumanMessage(content='What is a stock symbol for nvidia?', id=to_fork.values[\"messages\"][0].id)]},\n",
    ")\n",
    "print(fork_config)"
   ]
  },
  {
   "cell_type": "markdown",
   "metadata": {},
   "source": [
    "State was updated but next node still the same"
   ]
  },
  {
   "cell_type": "code",
   "execution_count": 14,
   "metadata": {},
   "outputs": [
    {
     "name": "stdout",
     "output_type": "stream",
     "text": [
      "('assistant',)\n",
      "\n",
      "\n",
      "\n",
      "StateSnapshot(values={'messages': [HumanMessage(content='What is a stock symbol for nvidia?', additional_kwargs={}, response_metadata={}, id='59367aae-5f5a-40f7-bc27-0d1305153f2c')]}, next=('assistant',), config={'configurable': {'thread_id': '2', 'checkpoint_ns': '', 'checkpoint_id': '1f07ad8e-6fdc-65ca-8002-119271e7a1e7'}}, metadata={'source': 'update', 'step': 2, 'parents': {}}, created_at='2025-08-16T19:40:45.540090+00:00', parent_config={'configurable': {'thread_id': '2', 'checkpoint_ns': '', 'checkpoint_id': '1f07ad6e-87dc-6c3d-8001-c45d1d04a38e'}}, tasks=(PregelTask(id='0b5aecf2-1357-0ba2-b283-c32e5dd49d3e', name='assistant', path=('__pregel_pull', 'assistant'), error=None, interrupts=(), state=None, result=None),), interrupts=())\n"
     ]
    }
   ],
   "source": [
    "state = graph.get_state(thread)\n",
    "print(state.next)\n",
    "print(\"\\n\\n\")\n",
    "print(state)"
   ]
  },
  {
   "cell_type": "markdown",
   "metadata": {},
   "source": [
    "### Execute the fork (reak work instead of simple replay)"
   ]
  },
  {
   "cell_type": "code",
   "execution_count": 15,
   "metadata": {},
   "outputs": [
    {
     "name": "stdout",
     "output_type": "stream",
     "text": [
      "================================\u001b[1m Human Message \u001b[0m=================================\n",
      "\n",
      "What is a stock symbol for nvidia?\n",
      "==================================\u001b[1m Ai Message \u001b[0m==================================\n",
      "Tool Calls:\n",
      "  lookup_stock_symbol (call_ndRBRz5axuQxrf2iDgtbpXCN)\n",
      " Call ID: call_ndRBRz5axuQxrf2iDgtbpXCN\n",
      "  Args:\n",
      "    __arg1: nvidia\n",
      "=================================\u001b[1m Tool Message \u001b[0m=================================\n",
      "Name: lookup_stock_symbol\n",
      "\n",
      "NVDA\n",
      "==================================\u001b[1m Ai Message \u001b[0m==================================\n",
      "\n",
      "The stock symbol for Nvidia is **NVDA**. Would you like to know more about its current performance or have specific analysis done?\n"
     ]
    }
   ],
   "source": [
    "for event in graph.stream(None, fork_config, stream_mode=\"values\"):\n",
    "    event['messages'][-1].pretty_print()"
   ]
  },
  {
   "cell_type": "code",
   "execution_count": 16,
   "metadata": {},
   "outputs": [
    {
     "name": "stdout",
     "output_type": "stream",
     "text": [
      "()\n"
     ]
    }
   ],
   "source": [
    "state = graph.get_state(thread)\n",
    "print(state.next)"
   ]
  },
  {
   "cell_type": "markdown",
   "metadata": {},
   "source": [
    "## State History using API"
   ]
  },
  {
   "cell_type": "code",
   "execution_count": 17,
   "metadata": {},
   "outputs": [
    {
     "data": {
      "text/plain": [
       "[{'assistant_id': '45d7f46b-abb2-5734-9fb9-b1edc76c6546',\n",
       "  'graph_id': 'dev_mentor',\n",
       "  'config': {},\n",
       "  'context': {},\n",
       "  'metadata': {'created_by': 'system'},\n",
       "  'name': 'dev_mentor',\n",
       "  'created_at': '2025-08-15T17:20:59.259433+00:00',\n",
       "  'updated_at': '2025-08-15T17:20:59.259433+00:00',\n",
       "  'version': 1,\n",
       "  'description': None},\n",
       " {'assistant_id': 'ae2c32e4-0e45-57db-b449-103064dcb967',\n",
       "  'graph_id': 'directive_memory_bot',\n",
       "  'config': {},\n",
       "  'context': {},\n",
       "  'metadata': {'created_by': 'system'},\n",
       "  'name': 'directive_memory_bot',\n",
       "  'created_at': '2025-08-15T17:20:59.156435+00:00',\n",
       "  'updated_at': '2025-08-15T17:20:59.156435+00:00',\n",
       "  'version': 1,\n",
       "  'description': None},\n",
       " {'assistant_id': '89e77aa6-c452-5416-bd83-721b80077ae5',\n",
       "  'graph_id': 'chatbot_long_term_memory',\n",
       "  'config': {},\n",
       "  'context': {},\n",
       "  'metadata': {'created_by': 'system'},\n",
       "  'name': 'chatbot_long_term_memory',\n",
       "  'created_at': '2025-08-15T17:20:59.046553+00:00',\n",
       "  'updated_at': '2025-08-15T17:20:59.046553+00:00',\n",
       "  'version': 1,\n",
       "  'description': None},\n",
       " {'assistant_id': '01914b9c-2e77-57a1-bbc3-9f3db62c1c8d',\n",
       "  'graph_id': 'map_reduce',\n",
       "  'config': {},\n",
       "  'context': {},\n",
       "  'metadata': {'created_by': 'system'},\n",
       "  'name': 'map_reduce',\n",
       "  'created_at': '2025-08-15T17:20:59.037931+00:00',\n",
       "  'updated_at': '2025-08-15T17:20:59.037931+00:00',\n",
       "  'version': 1,\n",
       "  'description': None},\n",
       " {'assistant_id': '7888c1c8-1376-532f-98c7-254f4e50307f',\n",
       "  'graph_id': 'financial_advisor_intent_check',\n",
       "  'config': {},\n",
       "  'context': {},\n",
       "  'metadata': {'created_by': 'system'},\n",
       "  'name': 'financial_advisor_intent_check',\n",
       "  'created_at': '2025-08-15T17:20:59.029747+00:00',\n",
       "  'updated_at': '2025-08-15T17:20:59.029747+00:00',\n",
       "  'version': 1,\n",
       "  'description': None},\n",
       " {'assistant_id': '09819134-dfce-5fe3-b464-bbd3881a89df',\n",
       "  'graph_id': 'financial_advisor_breakpoint',\n",
       "  'config': {},\n",
       "  'context': {},\n",
       "  'metadata': {'created_by': 'system'},\n",
       "  'name': 'financial_advisor_breakpoint',\n",
       "  'created_at': '2025-08-15T17:20:58.959417+00:00',\n",
       "  'updated_at': '2025-08-15T17:20:58.959417+00:00',\n",
       "  'version': 1,\n",
       "  'description': None},\n",
       " {'assistant_id': 'b7480eb0-6390-53a5-9bc4-29bf27cbd1c4',\n",
       "  'graph_id': 'financial_advisor',\n",
       "  'config': {},\n",
       "  'context': {},\n",
       "  'metadata': {'created_by': 'system'},\n",
       "  'name': 'financial_advisor',\n",
       "  'created_at': '2025-08-15T17:20:58.882281+00:00',\n",
       "  'updated_at': '2025-08-15T17:20:58.882281+00:00',\n",
       "  'version': 1,\n",
       "  'description': None},\n",
       " {'assistant_id': '8a4ac7a4-50eb-5206-98cc-4a72345cb1f7',\n",
       "  'graph_id': 'chatbot',\n",
       "  'config': {},\n",
       "  'context': {},\n",
       "  'metadata': {'created_by': 'system'},\n",
       "  'name': 'chatbot',\n",
       "  'created_at': '2025-08-15T17:20:54.987788+00:00',\n",
       "  'updated_at': '2025-08-15T17:20:54.987788+00:00',\n",
       "  'version': 1,\n",
       "  'description': None}]"
      ]
     },
     "execution_count": 17,
     "metadata": {},
     "output_type": "execute_result"
    }
   ],
   "source": [
    "from langgraph_sdk import get_client\n",
    "\n",
    "URL = \"http://127.0.0.1:2024\"\n",
    "client = get_client(url=URL)\n",
    "\n",
    "assistants = await client.assistants.search()\n",
    "assistants"
   ]
  },
  {
   "cell_type": "markdown",
   "metadata": {},
   "source": [
    "### Replay with API"
   ]
  },
  {
   "cell_type": "markdown",
   "metadata": {},
   "source": [
    "#### Run the graph"
   ]
  },
  {
   "cell_type": "code",
   "execution_count": 18,
   "metadata": {},
   "outputs": [
    {
     "name": "stdout",
     "output_type": "stream",
     "text": [
      "content='What is a stock symbol for Tesla?' additional_kwargs={} response_metadata={} id='93bfe557-4456-43cd-b0a4-e5842862cdf9'\n",
      "\n",
      "\n",
      "\n",
      "content='What is a stock symbol for Tesla?' additional_kwargs={} response_metadata={} id='93bfe557-4456-43cd-b0a4-e5842862cdf9'\n",
      "\n",
      "\n",
      "\n",
      "content='' additional_kwargs={'invalid_tool_calls': [], 'usage_metadata': {'input_tokens': 393, 'output_tokens': 17, 'total_tokens': 410, 'input_token_details': {'audio': 0, 'cache_read': 0}, 'output_token_details': {'audio': 0, 'reasoning': 0}}, 'tool_calls': [{'id': 'call_yETrtd76ApLgdWrJOmBfTp4l', 'function': {'arguments': '{\"__arg1\":\"Tesla\"}', 'name': 'lookup_stock_symbol'}, 'type': 'function'}], 'refusal': None} response_metadata={'token_usage': {'completion_tokens': 17, 'prompt_tokens': 393, 'total_tokens': 410, 'completion_tokens_details': {'accepted_prediction_tokens': 0, 'audio_tokens': 0, 'reasoning_tokens': 0, 'rejected_prediction_tokens': 0}, 'prompt_tokens_details': {'audio_tokens': 0, 'cached_tokens': 0}}, 'model_name': 'gpt-4o-mini-2024-07-18', 'system_fingerprint': 'fp_560af6e559', 'id': 'chatcmpl-C5HAQG7yIPpczYvzfPcJvE0K5q9K3', 'service_tier': 'default', 'finish_reason': 'tool_calls', 'logprobs': None} id='run--4a4a15a9-8ca7-4b5c-86f3-1bb120360b0a-0' tool_calls=[{'name': 'lookup_stock_symbol', 'args': {'__arg1': 'Tesla'}, 'id': 'call_yETrtd76ApLgdWrJOmBfTp4l', 'type': 'tool_call'}]\n",
      "\n",
      "\n",
      "\n",
      "content='TSLA' name='lookup_stock_symbol' id='8a696b0a-1ea2-4bdf-87ed-56e7002b9fee' tool_call_id='call_yETrtd76ApLgdWrJOmBfTp4l'\n",
      "\n",
      "\n",
      "\n",
      "content='The stock symbol for Tesla is **TSLA**.' additional_kwargs={'invalid_tool_calls': [], 'usage_metadata': {'input_tokens': 421, 'output_tokens': 12, 'total_tokens': 433, 'input_token_details': {'audio': 0, 'cache_read': 0}, 'output_token_details': {'audio': 0, 'reasoning': 0}}, 'refusal': None} response_metadata={'token_usage': {'completion_tokens': 12, 'prompt_tokens': 421, 'total_tokens': 433, 'completion_tokens_details': {'accepted_prediction_tokens': 0, 'audio_tokens': 0, 'reasoning_tokens': 0, 'rejected_prediction_tokens': 0}, 'prompt_tokens_details': {'audio_tokens': 0, 'cached_tokens': 0}}, 'model_name': 'gpt-4o-mini-2024-07-18', 'system_fingerprint': 'fp_560af6e559', 'id': 'chatcmpl-C5HARhgnHzhpWzHCkclsEUyeYf3LT', 'service_tier': 'default', 'finish_reason': 'stop', 'logprobs': None} id='run--29e03df1-0bed-4189-b533-c18b7078b656-0'\n",
      "\n",
      "\n",
      "\n"
     ]
    }
   ],
   "source": [
    "from langchain_core.messages import convert_to_messages\n",
    "\n",
    "thread = await client.threads.create()\n",
    "input_message = HumanMessage(content=\"What is a stock symbol for Tesla?\")\n",
    "\n",
    "async for event in client.runs.stream(\n",
    "            thread[\"thread_id\"], \n",
    "            assistant_id=\"financial_advisor_intent_check\",\n",
    "            input={\"messages\": [input_message]}, \n",
    "            stream_mode=\"values\",\n",
    "):\n",
    "    messages = event.data.get('messages', None)\n",
    "    if messages:\n",
    "        print(convert_to_messages(messages)[-1])\n",
    "        print(\"\\n\\n\")"
   ]
  },
  {
   "cell_type": "markdown",
   "metadata": {},
   "source": [
    "#### Get the `checkpoint_id` from state"
   ]
  },
  {
   "cell_type": "code",
   "execution_count": 19,
   "metadata": {},
   "outputs": [
    {
     "name": "stdout",
     "output_type": "stream",
     "text": [
      "6\n"
     ]
    },
    {
     "data": {
      "text/plain": [
       "{'values': {'messages': [{'content': 'What is a stock symbol for Tesla?',\n",
       "    'additional_kwargs': {},\n",
       "    'response_metadata': {},\n",
       "    'type': 'human',\n",
       "    'name': None,\n",
       "    'id': '93bfe557-4456-43cd-b0a4-e5842862cdf9',\n",
       "    'example': False},\n",
       "   {'content': '',\n",
       "    'additional_kwargs': {'tool_calls': [{'id': 'call_yETrtd76ApLgdWrJOmBfTp4l',\n",
       "       'function': {'arguments': '{\"__arg1\":\"Tesla\"}',\n",
       "        'name': 'lookup_stock_symbol'},\n",
       "       'type': 'function'}],\n",
       "     'refusal': None},\n",
       "    'response_metadata': {'token_usage': {'completion_tokens': 17,\n",
       "      'prompt_tokens': 393,\n",
       "      'total_tokens': 410,\n",
       "      'completion_tokens_details': {'accepted_prediction_tokens': 0,\n",
       "       'audio_tokens': 0,\n",
       "       'reasoning_tokens': 0,\n",
       "       'rejected_prediction_tokens': 0},\n",
       "      'prompt_tokens_details': {'audio_tokens': 0, 'cached_tokens': 0}},\n",
       "     'model_name': 'gpt-4o-mini-2024-07-18',\n",
       "     'system_fingerprint': 'fp_560af6e559',\n",
       "     'id': 'chatcmpl-C5HAQG7yIPpczYvzfPcJvE0K5q9K3',\n",
       "     'service_tier': 'default',\n",
       "     'finish_reason': 'tool_calls',\n",
       "     'logprobs': None},\n",
       "    'type': 'ai',\n",
       "    'name': None,\n",
       "    'id': 'run--4a4a15a9-8ca7-4b5c-86f3-1bb120360b0a-0',\n",
       "    'example': False,\n",
       "    'tool_calls': [{'name': 'lookup_stock_symbol',\n",
       "      'args': {'__arg1': 'Tesla'},\n",
       "      'id': 'call_yETrtd76ApLgdWrJOmBfTp4l',\n",
       "      'type': 'tool_call'}],\n",
       "    'invalid_tool_calls': [],\n",
       "    'usage_metadata': {'input_tokens': 393,\n",
       "     'output_tokens': 17,\n",
       "     'total_tokens': 410,\n",
       "     'input_token_details': {'audio': 0, 'cache_read': 0},\n",
       "     'output_token_details': {'audio': 0, 'reasoning': 0}}},\n",
       "   {'content': 'TSLA',\n",
       "    'additional_kwargs': {},\n",
       "    'response_metadata': {},\n",
       "    'type': 'tool',\n",
       "    'name': 'lookup_stock_symbol',\n",
       "    'id': '8a696b0a-1ea2-4bdf-87ed-56e7002b9fee',\n",
       "    'tool_call_id': 'call_yETrtd76ApLgdWrJOmBfTp4l',\n",
       "    'artifact': None,\n",
       "    'status': 'success'}]},\n",
       " 'next': ['assistant'],\n",
       " 'tasks': [{'id': '4c74b53d-c6a8-a55d-c77d-a613c711636f',\n",
       "   'name': 'assistant',\n",
       "   'path': ['__pregel_pull', 'assistant'],\n",
       "   'error': None,\n",
       "   'interrupts': [],\n",
       "   'checkpoint': None,\n",
       "   'state': None,\n",
       "   'result': {'messages': [{'content': 'The stock symbol for Tesla is **TSLA**.',\n",
       "      'additional_kwargs': {'refusal': None},\n",
       "      'response_metadata': {'token_usage': {'completion_tokens': 12,\n",
       "        'prompt_tokens': 421,\n",
       "        'total_tokens': 433,\n",
       "        'completion_tokens_details': {'accepted_prediction_tokens': 0,\n",
       "         'audio_tokens': 0,\n",
       "         'reasoning_tokens': 0,\n",
       "         'rejected_prediction_tokens': 0},\n",
       "        'prompt_tokens_details': {'audio_tokens': 0, 'cached_tokens': 0}},\n",
       "       'model_name': 'gpt-4o-mini-2024-07-18',\n",
       "       'system_fingerprint': 'fp_560af6e559',\n",
       "       'id': 'chatcmpl-C5HARhgnHzhpWzHCkclsEUyeYf3LT',\n",
       "       'service_tier': 'default',\n",
       "       'finish_reason': 'stop',\n",
       "       'logprobs': None},\n",
       "      'type': 'ai',\n",
       "      'name': None,\n",
       "      'id': 'run--29e03df1-0bed-4189-b533-c18b7078b656-0',\n",
       "      'example': False,\n",
       "      'tool_calls': [],\n",
       "      'invalid_tool_calls': [],\n",
       "      'usage_metadata': {'input_tokens': 421,\n",
       "       'output_tokens': 12,\n",
       "       'total_tokens': 433,\n",
       "       'input_token_details': {'audio': 0, 'cache_read': 0},\n",
       "       'output_token_details': {'audio': 0, 'reasoning': 0}}}]}}],\n",
       " 'metadata': {'host': '127.0.0.1:2024',\n",
       "  'accept-encoding': 'gzip, deflate, zstd',\n",
       "  'connection': 'keep-alive',\n",
       "  'user-agent': 'langgraph-sdk-py/0.2.0',\n",
       "  'x-api-key': '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',\n",
       "  'content-length': '292',\n",
       "  'content-type': 'application/json',\n",
       "  'accept': 'text/event-stream',\n",
       "  'cache-control': 'no-store',\n",
       "  'x-request-id': 'b5697f1a-bc50-462f-9289-dc825fa503ff',\n",
       "  'langgraph_auth_user': None,\n",
       "  'langgraph_auth_user_id': '',\n",
       "  'langgraph_auth_permissions': [],\n",
       "  'langgraph_request_id': 'b5697f1a-bc50-462f-9289-dc825fa503ff',\n",
       "  'graph_id': 'financial_advisor_intent_check',\n",
       "  'assistant_id': '7888c1c8-1376-532f-98c7-254f4e50307f',\n",
       "  'user_id': '',\n",
       "  'created_by': 'system',\n",
       "  'run_attempt': 1,\n",
       "  'langgraph_version': '0.6.4',\n",
       "  'langgraph_api_version': '0.2.128',\n",
       "  'langgraph_plan': 'developer',\n",
       "  'langgraph_host': 'self-hosted',\n",
       "  'langgraph_api_url': 'http://127.0.0.1:2024',\n",
       "  'run_id': '1f07ad9e-11a1-607b-b47a-fd0d67904ac2',\n",
       "  'thread_id': 'd3a25d28-8882-4874-9f08-4db471151334',\n",
       "  'source': 'loop',\n",
       "  'step': 3,\n",
       "  'parents': {}},\n",
       " 'created_at': '2025-08-16T19:47:47.440388+00:00',\n",
       " 'checkpoint': {'checkpoint_id': '1f07ad9e-276a-662e-8003-323d5340d9d4',\n",
       "  'thread_id': 'd3a25d28-8882-4874-9f08-4db471151334',\n",
       "  'checkpoint_ns': ''},\n",
       " 'parent_checkpoint': {'checkpoint_id': '1f07ad9e-2565-63b5-8002-dab58d5dad1e',\n",
       "  'thread_id': 'd3a25d28-8882-4874-9f08-4db471151334',\n",
       "  'checkpoint_ns': ''},\n",
       " 'interrupts': [],\n",
       " 'checkpoint_id': '1f07ad9e-276a-662e-8003-323d5340d9d4',\n",
       " 'parent_checkpoint_id': '1f07ad9e-2565-63b5-8002-dab58d5dad1e'}"
      ]
     },
     "execution_count": 19,
     "metadata": {},
     "output_type": "execute_result"
    }
   ],
   "source": [
    "states = await client.threads.get_history(thread['thread_id'])\n",
    "print(len(states))\n",
    "to_replay = states[-5]\n",
    "to_replay"
   ]
  },
  {
   "cell_type": "markdown",
   "metadata": {},
   "source": [
    "#### Replay the graph"
   ]
  },
  {
   "cell_type": "code",
   "execution_count": 20,
   "metadata": {},
   "outputs": [
    {
     "name": "stdout",
     "output_type": "stream",
     "text": [
      "\n",
      "\n",
      "content='TSLA' name='lookup_stock_symbol' id='8a696b0a-1ea2-4bdf-87ed-56e7002b9fee' tool_call_id='call_yETrtd76ApLgdWrJOmBfTp4l'\n",
      "\n",
      "\n",
      "content='The stock symbol for Tesla is **TSLA**.' additional_kwargs={'invalid_tool_calls': [], 'usage_metadata': {'input_tokens': 421, 'output_tokens': 12, 'total_tokens': 433, 'input_token_details': {'audio': 0, 'cache_read': 0}, 'output_token_details': {'audio': 0, 'reasoning': 0}}, 'refusal': None} response_metadata={'token_usage': {'completion_tokens': 12, 'prompt_tokens': 421, 'total_tokens': 433, 'completion_tokens_details': {'accepted_prediction_tokens': 0, 'audio_tokens': 0, 'reasoning_tokens': 0, 'rejected_prediction_tokens': 0}, 'prompt_tokens_details': {'audio_tokens': 0, 'cached_tokens': 0}}, 'model_name': 'gpt-4o-mini-2024-07-18', 'system_fingerprint': 'fp_560af6e559', 'id': 'chatcmpl-C5HDtoQuFOYfT7emiqyMVvxWvQ0tQ', 'service_tier': 'default', 'finish_reason': 'stop', 'logprobs': None} id='run--4a4df61a-26cc-4312-afaa-9903d4c13da7-0'\n"
     ]
    }
   ],
   "source": [
    "async for event in client.runs.stream(\n",
    "            thread[\"thread_id\"], \n",
    "            assistant_id=\"financial_advisor_intent_check\",\n",
    "            input=None, \n",
    "            stream_mode=\"values\",\n",
    "            checkpoint_id=to_replay['checkpoint_id']\n",
    "):\n",
    "    messages = event.data.get('messages', None)\n",
    "    if messages:\n",
    "        print(f\"\\n\\n{convert_to_messages(messages)[-1]}\")"
   ]
  },
  {
   "cell_type": "markdown",
   "metadata": {},
   "source": [
    "### Forking with API"
   ]
  },
  {
   "cell_type": "code",
   "execution_count": null,
   "metadata": {},
   "outputs": [],
   "source": [
    "to_fork = states[-3]\n",
    "print(to_fork['values'])\n",
    "print(\"\\n\\n\")\n",
    "print(to_fork['next'])\n",
    "print(\"\\n\\n\")\n",
    "print(to_fork['checkpoint_id'])"
   ]
  },
  {
   "cell_type": "markdown",
   "metadata": {},
   "source": [
    "#### Fork the checkpoint"
   ]
  },
  {
   "cell_type": "code",
   "execution_count": null,
   "metadata": {},
   "outputs": [],
   "source": [
    "forked_config = await client.threads.update_state(\n",
    "    thread[\"thread_id\"],\n",
    "    {\"messages\": HumanMessage(\n",
    "        content=\"What is a stock symbol for nvidia?\", \n",
    "        id=to_fork['values']['messages'][0]['id'])},\n",
    "    checkpoint_id=to_fork['checkpoint_id']\n",
    ")\n",
    "print(forked_config)"
   ]
  },
  {
   "cell_type": "markdown",
   "metadata": {},
   "source": [
    "#### Resume the graph with forked checkpoint"
   ]
  },
  {
   "cell_type": "code",
   "execution_count": null,
   "metadata": {},
   "outputs": [],
   "source": [
    "async for event in client.runs.stream(\n",
    "            thread[\"thread_id\"], \n",
    "            assistant_id=\"financial_advisor_intent_check\",\n",
    "            input=None, \n",
    "            stream_mode=\"values\",\n",
    "            checkpoint_id=forked_config['checkpoint_id']\n",
    "):\n",
    "    messages = event.data.get('messages', None)\n",
    "    if messages:\n",
    "        print(f\"\\n\\n{convert_to_messages(messages)[-1]}\")"
   ]
  }
 ],
 "metadata": {
  "kernelspec": {
   "display_name": "Python 3 (ipykernel)",
   "language": "python",
   "name": "python3"
  },
  "language_info": {
   "codemirror_mode": {
    "name": "ipython",
    "version": 3
   },
   "file_extension": ".py",
   "mimetype": "text/x-python",
   "name": "python",
   "nbconvert_exporter": "python",
   "pygments_lexer": "ipython3",
   "version": "3.11.1"
  }
 },
 "nbformat": 4,
 "nbformat_minor": 4
}
