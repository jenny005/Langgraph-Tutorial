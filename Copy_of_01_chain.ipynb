{
  "cells": [
    {
      "cell_type": "markdown",
      "metadata": {
        "id": "view-in-github",
        "colab_type": "text"
      },
      "source": [
        "<a href=\"https://colab.research.google.com/github/jenny005/Langgraph-Tutorial/blob/main/Copy_of_01_chain.ipynb\" target=\"_parent\"><img src=\"https://colab.research.google.com/assets/colab-badge.svg\" alt=\"Open In Colab\"/></a>"
      ]
    },
    {
      "cell_type": "code",
      "source": [
        "# In a Colab cell\n",
        "%cd /content\n",
        "!git clone https://github.com/esurovtsev/langgraph-intro\n",
        "%cd REPO\n"
      ],
      "metadata": {
        "id": "32bYEeHd2s4r",
        "outputId": "c942f252-9d68-4025-c4af-5176c45b3904",
        "colab": {
          "base_uri": "https://localhost:8080/"
        }
      },
      "execution_count": 2,
      "outputs": [
        {
          "output_type": "stream",
          "name": "stdout",
          "text": [
            "/content\n",
            "fatal: destination path 'langgraph-intro' already exists and is not an empty directory.\n",
            "[Errno 2] No such file or directory: 'REPO'\n",
            "/content\n"
          ]
        }
      ]
    },
    {
      "cell_type": "code",
      "source": [
        "pip install -r /content/langgraph-intro/requirements.txt"
      ],
      "metadata": {
        "id": "7oFrl9f34Szc",
        "outputId": "728c7f5f-966f-4f5a-a166-d9749b3b9f1a",
        "colab": {
          "base_uri": "https://localhost:8080/"
        },
        "collapsed": true
      },
      "execution_count": 3,
      "outputs": [
        {
          "output_type": "stream",
          "name": "stdout",
          "text": [
            "Requirement already satisfied: typing_extensions in /usr/local/lib/python3.11/dist-packages (from -r /content/langgraph-intro/requirements.txt (line 1)) (4.14.1)\n",
            "Collecting langgraph (from -r /content/langgraph-intro/requirements.txt (line 2))\n",
            "  Downloading langgraph-0.6.5-py3-none-any.whl.metadata (6.8 kB)\n",
            "Collecting langchain_openai (from -r /content/langgraph-intro/requirements.txt (line 3))\n",
            "  Downloading langchain_openai-0.3.30-py3-none-any.whl.metadata (2.4 kB)\n",
            "Requirement already satisfied: langchain_core in /usr/local/lib/python3.11/dist-packages (from -r /content/langgraph-intro/requirements.txt (line 4)) (0.3.74)\n",
            "Collecting langgraph-checkpoint-mongodb (from -r /content/langgraph-intro/requirements.txt (line 5))\n",
            "  Downloading langgraph_checkpoint_mongodb-0.1.4-py3-none-any.whl.metadata (2.6 kB)\n",
            "Collecting langchain_community (from -r /content/langgraph-intro/requirements.txt (line 6))\n",
            "  Downloading langchain_community-0.3.27-py3-none-any.whl.metadata (2.9 kB)\n",
            "Collecting python-dotenv (from -r /content/langgraph-intro/requirements.txt (line 7))\n",
            "  Downloading python_dotenv-1.1.1-py3-none-any.whl.metadata (24 kB)\n",
            "Requirement already satisfied: yfinance in /usr/local/lib/python3.11/dist-packages (from -r /content/langgraph-intro/requirements.txt (line 8)) (0.2.65)\n",
            "Collecting pymongo (from -r /content/langgraph-intro/requirements.txt (line 9))\n",
            "  Downloading pymongo-4.14.0-cp311-cp311-manylinux_2_17_x86_64.manylinux2014_x86_64.whl.metadata (22 kB)\n",
            "Collecting wikipedia (from -r /content/langgraph-intro/requirements.txt (line 10))\n",
            "  Downloading wikipedia-1.4.0.tar.gz (27 kB)\n",
            "  Preparing metadata (setup.py) ... \u001b[?25l\u001b[?25hdone\n",
            "Collecting trustcall (from -r /content/langgraph-intro/requirements.txt (line 11))\n",
            "  Downloading trustcall-0.0.39-py3-none-any.whl.metadata (29 kB)\n",
            "Collecting langchain-mcp-adapters (from -r /content/langgraph-intro/requirements.txt (line 12))\n",
            "  Downloading langchain_mcp_adapters-0.1.9-py3-none-any.whl.metadata (10 kB)\n",
            "Collecting langgraph-checkpoint<3.0.0,>=2.1.0 (from langgraph->-r /content/langgraph-intro/requirements.txt (line 2))\n",
            "  Downloading langgraph_checkpoint-2.1.1-py3-none-any.whl.metadata (4.2 kB)\n",
            "Collecting langgraph-prebuilt<0.7.0,>=0.6.0 (from langgraph->-r /content/langgraph-intro/requirements.txt (line 2))\n",
            "  Downloading langgraph_prebuilt-0.6.4-py3-none-any.whl.metadata (4.5 kB)\n",
            "Collecting langgraph-sdk<0.3.0,>=0.2.0 (from langgraph->-r /content/langgraph-intro/requirements.txt (line 2))\n",
            "  Downloading langgraph_sdk-0.2.0-py3-none-any.whl.metadata (1.5 kB)\n",
            "Requirement already satisfied: pydantic>=2.7.4 in /usr/local/lib/python3.11/dist-packages (from langgraph->-r /content/langgraph-intro/requirements.txt (line 2)) (2.11.7)\n",
            "Requirement already satisfied: xxhash>=3.5.0 in /usr/local/lib/python3.11/dist-packages (from langgraph->-r /content/langgraph-intro/requirements.txt (line 2)) (3.5.0)\n",
            "Collecting openai<2.0.0,>=1.99.9 (from langchain_openai->-r /content/langgraph-intro/requirements.txt (line 3))\n",
            "  Downloading openai-1.99.9-py3-none-any.whl.metadata (29 kB)\n",
            "Requirement already satisfied: tiktoken<1,>=0.7 in /usr/local/lib/python3.11/dist-packages (from langchain_openai->-r /content/langgraph-intro/requirements.txt (line 3)) (0.11.0)\n",
            "Requirement already satisfied: langsmith>=0.3.45 in /usr/local/lib/python3.11/dist-packages (from langchain_core->-r /content/langgraph-intro/requirements.txt (line 4)) (0.4.13)\n",
            "Requirement already satisfied: tenacity!=8.4.0,<10.0.0,>=8.1.0 in /usr/local/lib/python3.11/dist-packages (from langchain_core->-r /content/langgraph-intro/requirements.txt (line 4)) (9.1.2)\n",
            "Requirement already satisfied: jsonpatch<2.0,>=1.33 in /usr/local/lib/python3.11/dist-packages (from langchain_core->-r /content/langgraph-intro/requirements.txt (line 4)) (1.33)\n",
            "Requirement already satisfied: PyYAML>=5.3 in /usr/local/lib/python3.11/dist-packages (from langchain_core->-r /content/langgraph-intro/requirements.txt (line 4)) (6.0.2)\n",
            "Requirement already satisfied: packaging>=23.2 in /usr/local/lib/python3.11/dist-packages (from langchain_core->-r /content/langgraph-intro/requirements.txt (line 4)) (25.0)\n",
            "Collecting langchain-mongodb>=0.6.1 (from langgraph-checkpoint-mongodb->-r /content/langgraph-intro/requirements.txt (line 5))\n",
            "  Downloading langchain_mongodb-0.6.2-py3-none-any.whl.metadata (1.7 kB)\n",
            "Collecting motor>3.6.0 (from langgraph-checkpoint-mongodb->-r /content/langgraph-intro/requirements.txt (line 5))\n",
            "  Downloading motor-3.7.1-py3-none-any.whl.metadata (21 kB)\n",
            "Collecting pymongo (from -r /content/langgraph-intro/requirements.txt (line 9))\n",
            "  Downloading pymongo-4.12.1-cp311-cp311-manylinux_2_17_x86_64.manylinux2014_x86_64.whl.metadata (22 kB)\n",
            "Requirement already satisfied: langchain<1.0.0,>=0.3.26 in /usr/local/lib/python3.11/dist-packages (from langchain_community->-r /content/langgraph-intro/requirements.txt (line 6)) (0.3.27)\n",
            "Requirement already satisfied: SQLAlchemy<3,>=1.4 in /usr/local/lib/python3.11/dist-packages (from langchain_community->-r /content/langgraph-intro/requirements.txt (line 6)) (2.0.43)\n",
            "Requirement already satisfied: requests<3,>=2 in /usr/local/lib/python3.11/dist-packages (from langchain_community->-r /content/langgraph-intro/requirements.txt (line 6)) (2.32.3)\n",
            "Requirement already satisfied: aiohttp<4.0.0,>=3.8.3 in /usr/local/lib/python3.11/dist-packages (from langchain_community->-r /content/langgraph-intro/requirements.txt (line 6)) (3.12.15)\n",
            "Collecting dataclasses-json<0.7,>=0.5.7 (from langchain_community->-r /content/langgraph-intro/requirements.txt (line 6))\n",
            "  Downloading dataclasses_json-0.6.7-py3-none-any.whl.metadata (25 kB)\n",
            "Collecting pydantic-settings<3.0.0,>=2.4.0 (from langchain_community->-r /content/langgraph-intro/requirements.txt (line 6))\n",
            "  Downloading pydantic_settings-2.10.1-py3-none-any.whl.metadata (3.4 kB)\n",
            "Collecting httpx-sse<1.0.0,>=0.4.0 (from langchain_community->-r /content/langgraph-intro/requirements.txt (line 6))\n",
            "  Downloading httpx_sse-0.4.1-py3-none-any.whl.metadata (9.4 kB)\n",
            "Requirement already satisfied: numpy>=1.26.2 in /usr/local/lib/python3.11/dist-packages (from langchain_community->-r /content/langgraph-intro/requirements.txt (line 6)) (2.0.2)\n",
            "Requirement already satisfied: pandas>=1.3.0 in /usr/local/lib/python3.11/dist-packages (from yfinance->-r /content/langgraph-intro/requirements.txt (line 8)) (2.2.2)\n",
            "Requirement already satisfied: multitasking>=0.0.7 in /usr/local/lib/python3.11/dist-packages (from yfinance->-r /content/langgraph-intro/requirements.txt (line 8)) (0.0.12)\n",
            "Requirement already satisfied: platformdirs>=2.0.0 in /usr/local/lib/python3.11/dist-packages (from yfinance->-r /content/langgraph-intro/requirements.txt (line 8)) (4.3.8)\n",
            "Requirement already satisfied: pytz>=2022.5 in /usr/local/lib/python3.11/dist-packages (from yfinance->-r /content/langgraph-intro/requirements.txt (line 8)) (2025.2)\n",
            "Requirement already satisfied: frozendict>=2.3.4 in /usr/local/lib/python3.11/dist-packages (from yfinance->-r /content/langgraph-intro/requirements.txt (line 8)) (2.4.6)\n",
            "Requirement already satisfied: peewee>=3.16.2 in /usr/local/lib/python3.11/dist-packages (from yfinance->-r /content/langgraph-intro/requirements.txt (line 8)) (3.18.2)\n",
            "Requirement already satisfied: beautifulsoup4>=4.11.1 in /usr/local/lib/python3.11/dist-packages (from yfinance->-r /content/langgraph-intro/requirements.txt (line 8)) (4.13.4)\n",
            "Requirement already satisfied: curl_cffi>=0.7 in /usr/local/lib/python3.11/dist-packages (from yfinance->-r /content/langgraph-intro/requirements.txt (line 8)) (0.13.0)\n",
            "Requirement already satisfied: protobuf>=3.19.0 in /usr/local/lib/python3.11/dist-packages (from yfinance->-r /content/langgraph-intro/requirements.txt (line 8)) (5.29.5)\n",
            "Requirement already satisfied: websockets>=13.0 in /usr/local/lib/python3.11/dist-packages (from yfinance->-r /content/langgraph-intro/requirements.txt (line 8)) (15.0.1)\n",
            "Collecting dnspython<3.0.0,>=1.16.0 (from pymongo->-r /content/langgraph-intro/requirements.txt (line 9))\n",
            "  Downloading dnspython-2.7.0-py3-none-any.whl.metadata (5.8 kB)\n",
            "Collecting dydantic<1.0.0,>=0.0.8 (from trustcall->-r /content/langgraph-intro/requirements.txt (line 11))\n",
            "  Downloading dydantic-0.0.8-py3-none-any.whl.metadata (3.6 kB)\n",
            "Collecting mcp>=1.9.2 (from langchain-mcp-adapters->-r /content/langgraph-intro/requirements.txt (line 12))\n",
            "  Downloading mcp-1.12.4-py3-none-any.whl.metadata (68 kB)\n",
            "\u001b[2K     \u001b[90m━━━━━━━━━━━━━━━━━━━━━━━━━━━━━━━━━━━━━━━━\u001b[0m \u001b[32m68.2/68.2 kB\u001b[0m \u001b[31m4.2 MB/s\u001b[0m eta \u001b[36m0:00:00\u001b[0m\n",
            "\u001b[?25hRequirement already satisfied: aiohappyeyeballs>=2.5.0 in /usr/local/lib/python3.11/dist-packages (from aiohttp<4.0.0,>=3.8.3->langchain_community->-r /content/langgraph-intro/requirements.txt (line 6)) (2.6.1)\n",
            "Requirement already satisfied: aiosignal>=1.4.0 in /usr/local/lib/python3.11/dist-packages (from aiohttp<4.0.0,>=3.8.3->langchain_community->-r /content/langgraph-intro/requirements.txt (line 6)) (1.4.0)\n",
            "Requirement already satisfied: attrs>=17.3.0 in /usr/local/lib/python3.11/dist-packages (from aiohttp<4.0.0,>=3.8.3->langchain_community->-r /content/langgraph-intro/requirements.txt (line 6)) (25.3.0)\n",
            "Requirement already satisfied: frozenlist>=1.1.1 in /usr/local/lib/python3.11/dist-packages (from aiohttp<4.0.0,>=3.8.3->langchain_community->-r /content/langgraph-intro/requirements.txt (line 6)) (1.7.0)\n",
            "Requirement already satisfied: multidict<7.0,>=4.5 in /usr/local/lib/python3.11/dist-packages (from aiohttp<4.0.0,>=3.8.3->langchain_community->-r /content/langgraph-intro/requirements.txt (line 6)) (6.6.4)\n",
            "Requirement already satisfied: propcache>=0.2.0 in /usr/local/lib/python3.11/dist-packages (from aiohttp<4.0.0,>=3.8.3->langchain_community->-r /content/langgraph-intro/requirements.txt (line 6)) (0.3.2)\n",
            "Requirement already satisfied: yarl<2.0,>=1.17.0 in /usr/local/lib/python3.11/dist-packages (from aiohttp<4.0.0,>=3.8.3->langchain_community->-r /content/langgraph-intro/requirements.txt (line 6)) (1.20.1)\n",
            "Requirement already satisfied: soupsieve>1.2 in /usr/local/lib/python3.11/dist-packages (from beautifulsoup4>=4.11.1->yfinance->-r /content/langgraph-intro/requirements.txt (line 8)) (2.7)\n",
            "Requirement already satisfied: cffi>=1.12.0 in /usr/local/lib/python3.11/dist-packages (from curl_cffi>=0.7->yfinance->-r /content/langgraph-intro/requirements.txt (line 8)) (1.17.1)\n",
            "Requirement already satisfied: certifi>=2024.2.2 in /usr/local/lib/python3.11/dist-packages (from curl_cffi>=0.7->yfinance->-r /content/langgraph-intro/requirements.txt (line 8)) (2025.8.3)\n",
            "Collecting marshmallow<4.0.0,>=3.18.0 (from dataclasses-json<0.7,>=0.5.7->langchain_community->-r /content/langgraph-intro/requirements.txt (line 6))\n",
            "  Downloading marshmallow-3.26.1-py3-none-any.whl.metadata (7.3 kB)\n",
            "Collecting typing-inspect<1,>=0.4.0 (from dataclasses-json<0.7,>=0.5.7->langchain_community->-r /content/langgraph-intro/requirements.txt (line 6))\n",
            "  Downloading typing_inspect-0.9.0-py3-none-any.whl.metadata (1.5 kB)\n",
            "Requirement already satisfied: jsonpointer>=1.9 in /usr/local/lib/python3.11/dist-packages (from jsonpatch<2.0,>=1.33->langchain_core->-r /content/langgraph-intro/requirements.txt (line 4)) (3.0.0)\n",
            "Requirement already satisfied: langchain-text-splitters<1.0.0,>=0.3.9 in /usr/local/lib/python3.11/dist-packages (from langchain<1.0.0,>=0.3.26->langchain_community->-r /content/langgraph-intro/requirements.txt (line 6)) (0.3.9)\n",
            "Collecting lark<2.0.0,>=1.1.9 (from langchain-mongodb>=0.6.1->langgraph-checkpoint-mongodb->-r /content/langgraph-intro/requirements.txt (line 5))\n",
            "  Downloading lark-1.2.2-py3-none-any.whl.metadata (1.8 kB)\n",
            "Collecting ormsgpack>=1.10.0 (from langgraph-checkpoint<3.0.0,>=2.1.0->langgraph->-r /content/langgraph-intro/requirements.txt (line 2))\n",
            "  Downloading ormsgpack-1.10.0-cp311-cp311-manylinux_2_17_x86_64.manylinux2014_x86_64.whl.metadata (43 kB)\n",
            "\u001b[2K     \u001b[90m━━━━━━━━━━━━━━━━━━━━━━━━━━━━━━━━━━━━━━━━\u001b[0m \u001b[32m43.7/43.7 kB\u001b[0m \u001b[31m2.7 MB/s\u001b[0m eta \u001b[36m0:00:00\u001b[0m\n",
            "\u001b[?25hRequirement already satisfied: httpx>=0.25.2 in /usr/local/lib/python3.11/dist-packages (from langgraph-sdk<0.3.0,>=0.2.0->langgraph->-r /content/langgraph-intro/requirements.txt (line 2)) (0.28.1)\n",
            "Requirement already satisfied: orjson>=3.10.1 in /usr/local/lib/python3.11/dist-packages (from langgraph-sdk<0.3.0,>=0.2.0->langgraph->-r /content/langgraph-intro/requirements.txt (line 2)) (3.11.1)\n",
            "Requirement already satisfied: requests-toolbelt>=1.0.0 in /usr/local/lib/python3.11/dist-packages (from langsmith>=0.3.45->langchain_core->-r /content/langgraph-intro/requirements.txt (line 4)) (1.0.0)\n",
            "Requirement already satisfied: zstandard>=0.23.0 in /usr/local/lib/python3.11/dist-packages (from langsmith>=0.3.45->langchain_core->-r /content/langgraph-intro/requirements.txt (line 4)) (0.23.0)\n",
            "Requirement already satisfied: anyio>=4.5 in /usr/local/lib/python3.11/dist-packages (from mcp>=1.9.2->langchain-mcp-adapters->-r /content/langgraph-intro/requirements.txt (line 12)) (4.10.0)\n",
            "Requirement already satisfied: jsonschema>=4.20.0 in /usr/local/lib/python3.11/dist-packages (from mcp>=1.9.2->langchain-mcp-adapters->-r /content/langgraph-intro/requirements.txt (line 12)) (4.25.0)\n",
            "Requirement already satisfied: python-multipart>=0.0.9 in /usr/local/lib/python3.11/dist-packages (from mcp>=1.9.2->langchain-mcp-adapters->-r /content/langgraph-intro/requirements.txt (line 12)) (0.0.20)\n",
            "Collecting sse-starlette>=1.6.1 (from mcp>=1.9.2->langchain-mcp-adapters->-r /content/langgraph-intro/requirements.txt (line 12))\n",
            "  Downloading sse_starlette-3.0.2-py3-none-any.whl.metadata (11 kB)\n",
            "Requirement already satisfied: starlette>=0.27 in /usr/local/lib/python3.11/dist-packages (from mcp>=1.9.2->langchain-mcp-adapters->-r /content/langgraph-intro/requirements.txt (line 12)) (0.47.2)\n",
            "Requirement already satisfied: uvicorn>=0.23.1 in /usr/local/lib/python3.11/dist-packages (from mcp>=1.9.2->langchain-mcp-adapters->-r /content/langgraph-intro/requirements.txt (line 12)) (0.35.0)\n",
            "Requirement already satisfied: distro<2,>=1.7.0 in /usr/local/lib/python3.11/dist-packages (from openai<2.0.0,>=1.99.9->langchain_openai->-r /content/langgraph-intro/requirements.txt (line 3)) (1.9.0)\n",
            "Requirement already satisfied: jiter<1,>=0.4.0 in /usr/local/lib/python3.11/dist-packages (from openai<2.0.0,>=1.99.9->langchain_openai->-r /content/langgraph-intro/requirements.txt (line 3)) (0.10.0)\n",
            "Requirement already satisfied: sniffio in /usr/local/lib/python3.11/dist-packages (from openai<2.0.0,>=1.99.9->langchain_openai->-r /content/langgraph-intro/requirements.txt (line 3)) (1.3.1)\n",
            "Requirement already satisfied: tqdm>4 in /usr/local/lib/python3.11/dist-packages (from openai<2.0.0,>=1.99.9->langchain_openai->-r /content/langgraph-intro/requirements.txt (line 3)) (4.67.1)\n",
            "Requirement already satisfied: python-dateutil>=2.8.2 in /usr/local/lib/python3.11/dist-packages (from pandas>=1.3.0->yfinance->-r /content/langgraph-intro/requirements.txt (line 8)) (2.9.0.post0)\n",
            "Requirement already satisfied: tzdata>=2022.7 in /usr/local/lib/python3.11/dist-packages (from pandas>=1.3.0->yfinance->-r /content/langgraph-intro/requirements.txt (line 8)) (2025.2)\n",
            "Requirement already satisfied: annotated-types>=0.6.0 in /usr/local/lib/python3.11/dist-packages (from pydantic>=2.7.4->langgraph->-r /content/langgraph-intro/requirements.txt (line 2)) (0.7.0)\n",
            "Requirement already satisfied: pydantic-core==2.33.2 in /usr/local/lib/python3.11/dist-packages (from pydantic>=2.7.4->langgraph->-r /content/langgraph-intro/requirements.txt (line 2)) (2.33.2)\n",
            "Requirement already satisfied: typing-inspection>=0.4.0 in /usr/local/lib/python3.11/dist-packages (from pydantic>=2.7.4->langgraph->-r /content/langgraph-intro/requirements.txt (line 2)) (0.4.1)\n",
            "Requirement already satisfied: charset-normalizer<4,>=2 in /usr/local/lib/python3.11/dist-packages (from requests<3,>=2->langchain_community->-r /content/langgraph-intro/requirements.txt (line 6)) (3.4.3)\n",
            "Requirement already satisfied: idna<4,>=2.5 in /usr/local/lib/python3.11/dist-packages (from requests<3,>=2->langchain_community->-r /content/langgraph-intro/requirements.txt (line 6)) (3.10)\n",
            "Requirement already satisfied: urllib3<3,>=1.21.1 in /usr/local/lib/python3.11/dist-packages (from requests<3,>=2->langchain_community->-r /content/langgraph-intro/requirements.txt (line 6)) (2.5.0)\n",
            "Requirement already satisfied: greenlet>=1 in /usr/local/lib/python3.11/dist-packages (from SQLAlchemy<3,>=1.4->langchain_community->-r /content/langgraph-intro/requirements.txt (line 6)) (3.2.4)\n",
            "Requirement already satisfied: regex>=2022.1.18 in /usr/local/lib/python3.11/dist-packages (from tiktoken<1,>=0.7->langchain_openai->-r /content/langgraph-intro/requirements.txt (line 3)) (2024.11.6)\n",
            "Requirement already satisfied: pycparser in /usr/local/lib/python3.11/dist-packages (from cffi>=1.12.0->curl_cffi>=0.7->yfinance->-r /content/langgraph-intro/requirements.txt (line 8)) (2.22)\n",
            "Requirement already satisfied: httpcore==1.* in /usr/local/lib/python3.11/dist-packages (from httpx>=0.25.2->langgraph-sdk<0.3.0,>=0.2.0->langgraph->-r /content/langgraph-intro/requirements.txt (line 2)) (1.0.9)\n",
            "Requirement already satisfied: h11>=0.16 in /usr/local/lib/python3.11/dist-packages (from httpcore==1.*->httpx>=0.25.2->langgraph-sdk<0.3.0,>=0.2.0->langgraph->-r /content/langgraph-intro/requirements.txt (line 2)) (0.16.0)\n",
            "Requirement already satisfied: jsonschema-specifications>=2023.03.6 in /usr/local/lib/python3.11/dist-packages (from jsonschema>=4.20.0->mcp>=1.9.2->langchain-mcp-adapters->-r /content/langgraph-intro/requirements.txt (line 12)) (2025.4.1)\n",
            "Requirement already satisfied: referencing>=0.28.4 in /usr/local/lib/python3.11/dist-packages (from jsonschema>=4.20.0->mcp>=1.9.2->langchain-mcp-adapters->-r /content/langgraph-intro/requirements.txt (line 12)) (0.36.2)\n",
            "Requirement already satisfied: rpds-py>=0.7.1 in /usr/local/lib/python3.11/dist-packages (from jsonschema>=4.20.0->mcp>=1.9.2->langchain-mcp-adapters->-r /content/langgraph-intro/requirements.txt (line 12)) (0.27.0)\n",
            "Requirement already satisfied: six>=1.5 in /usr/local/lib/python3.11/dist-packages (from python-dateutil>=2.8.2->pandas>=1.3.0->yfinance->-r /content/langgraph-intro/requirements.txt (line 8)) (1.17.0)\n",
            "Collecting mypy-extensions>=0.3.0 (from typing-inspect<1,>=0.4.0->dataclasses-json<0.7,>=0.5.7->langchain_community->-r /content/langgraph-intro/requirements.txt (line 6))\n",
            "  Downloading mypy_extensions-1.1.0-py3-none-any.whl.metadata (1.1 kB)\n",
            "Requirement already satisfied: click>=7.0 in /usr/local/lib/python3.11/dist-packages (from uvicorn>=0.23.1->mcp>=1.9.2->langchain-mcp-adapters->-r /content/langgraph-intro/requirements.txt (line 12)) (8.2.1)\n",
            "Downloading langgraph-0.6.5-py3-none-any.whl (153 kB)\n",
            "\u001b[2K   \u001b[90m━━━━━━━━━━━━━━━━━━━━━━━━━━━━━━━━━━━━━━━━\u001b[0m \u001b[32m153.2/153.2 kB\u001b[0m \u001b[31m8.3 MB/s\u001b[0m eta \u001b[36m0:00:00\u001b[0m\n",
            "\u001b[?25hDownloading langchain_openai-0.3.30-py3-none-any.whl (74 kB)\n",
            "\u001b[2K   \u001b[90m━━━━━━━━━━━━━━━━━━━━━━━━━━━━━━━━━━━━━━━━\u001b[0m \u001b[32m74.4/74.4 kB\u001b[0m \u001b[31m4.4 MB/s\u001b[0m eta \u001b[36m0:00:00\u001b[0m\n",
            "\u001b[?25hDownloading langgraph_checkpoint_mongodb-0.1.4-py3-none-any.whl (11 kB)\n",
            "Downloading langchain_community-0.3.27-py3-none-any.whl (2.5 MB)\n",
            "\u001b[2K   \u001b[90m━━━━━━━━━━━━━━━━━━━━━━━━━━━━━━━━━━━━━━━━\u001b[0m \u001b[32m2.5/2.5 MB\u001b[0m \u001b[31m39.5 MB/s\u001b[0m eta \u001b[36m0:00:00\u001b[0m\n",
            "\u001b[?25hDownloading python_dotenv-1.1.1-py3-none-any.whl (20 kB)\n",
            "Downloading pymongo-4.12.1-cp311-cp311-manylinux_2_17_x86_64.manylinux2014_x86_64.whl (1.4 MB)\n",
            "\u001b[2K   \u001b[90m━━━━━━━━━━━━━━━━━━━━━━━━━━━━━━━━━━━━━━━━\u001b[0m \u001b[32m1.4/1.4 MB\u001b[0m \u001b[31m48.2 MB/s\u001b[0m eta \u001b[36m0:00:00\u001b[0m\n",
            "\u001b[?25hDownloading trustcall-0.0.39-py3-none-any.whl (30 kB)\n",
            "Downloading langchain_mcp_adapters-0.1.9-py3-none-any.whl (15 kB)\n",
            "Downloading dataclasses_json-0.6.7-py3-none-any.whl (28 kB)\n",
            "Downloading dnspython-2.7.0-py3-none-any.whl (313 kB)\n",
            "\u001b[2K   \u001b[90m━━━━━━━━━━━━━━━━━━━━━━━━━━━━━━━━━━━━━━━━\u001b[0m \u001b[32m313.6/313.6 kB\u001b[0m \u001b[31m16.3 MB/s\u001b[0m eta \u001b[36m0:00:00\u001b[0m\n",
            "\u001b[?25hDownloading dydantic-0.0.8-py3-none-any.whl (8.6 kB)\n",
            "Downloading httpx_sse-0.4.1-py3-none-any.whl (8.1 kB)\n",
            "Downloading langchain_mongodb-0.6.2-py3-none-any.whl (59 kB)\n",
            "\u001b[2K   \u001b[90m━━━━━━━━━━━━━━━━━━━━━━━━━━━━━━━━━━━━━━━━\u001b[0m \u001b[32m59.1/59.1 kB\u001b[0m \u001b[31m3.6 MB/s\u001b[0m eta \u001b[36m0:00:00\u001b[0m\n",
            "\u001b[?25hDownloading langgraph_checkpoint-2.1.1-py3-none-any.whl (43 kB)\n",
            "\u001b[2K   \u001b[90m━━━━━━━━━━━━━━━━━━━━━━━━━━━━━━━━━━━━━━━━\u001b[0m \u001b[32m43.9/43.9 kB\u001b[0m \u001b[31m2.8 MB/s\u001b[0m eta \u001b[36m0:00:00\u001b[0m\n",
            "\u001b[?25hDownloading langgraph_prebuilt-0.6.4-py3-none-any.whl (28 kB)\n",
            "Downloading langgraph_sdk-0.2.0-py3-none-any.whl (50 kB)\n",
            "\u001b[2K   \u001b[90m━━━━━━━━━━━━━━━━━━━━━━━━━━━━━━━━━━━━━━━━\u001b[0m \u001b[32m50.6/50.6 kB\u001b[0m \u001b[31m2.7 MB/s\u001b[0m eta \u001b[36m0:00:00\u001b[0m\n",
            "\u001b[?25hDownloading mcp-1.12.4-py3-none-any.whl (160 kB)\n",
            "\u001b[2K   \u001b[90m━━━━━━━━━━━━━━━━━━━━━━━━━━━━━━━━━━━━━━━━\u001b[0m \u001b[32m160.1/160.1 kB\u001b[0m \u001b[31m10.7 MB/s\u001b[0m eta \u001b[36m0:00:00\u001b[0m\n",
            "\u001b[?25hDownloading motor-3.7.1-py3-none-any.whl (74 kB)\n",
            "\u001b[2K   \u001b[90m━━━━━━━━━━━━━━━━━━━━━━━━━━━━━━━━━━━━━━━━\u001b[0m \u001b[32m75.0/75.0 kB\u001b[0m \u001b[31m4.8 MB/s\u001b[0m eta \u001b[36m0:00:00\u001b[0m\n",
            "\u001b[?25hDownloading openai-1.99.9-py3-none-any.whl (786 kB)\n",
            "\u001b[2K   \u001b[90m━━━━━━━━━━━━━━━━━━━━━━━━━━━━━━━━━━━━━━━━\u001b[0m \u001b[32m786.8/786.8 kB\u001b[0m \u001b[31m38.1 MB/s\u001b[0m eta \u001b[36m0:00:00\u001b[0m\n",
            "\u001b[?25hDownloading pydantic_settings-2.10.1-py3-none-any.whl (45 kB)\n",
            "\u001b[2K   \u001b[90m━━━━━━━━━━━━━━━━━━━━━━━━━━━━━━━━━━━━━━━━\u001b[0m \u001b[32m45.2/45.2 kB\u001b[0m \u001b[31m2.8 MB/s\u001b[0m eta \u001b[36m0:00:00\u001b[0m\n",
            "\u001b[?25hDownloading lark-1.2.2-py3-none-any.whl (111 kB)\n",
            "\u001b[2K   \u001b[90m━━━━━━━━━━━━━━━━━━━━━━━━━━━━━━━━━━━━━━━━\u001b[0m \u001b[32m111.0/111.0 kB\u001b[0m \u001b[31m6.7 MB/s\u001b[0m eta \u001b[36m0:00:00\u001b[0m\n",
            "\u001b[?25hDownloading marshmallow-3.26.1-py3-none-any.whl (50 kB)\n",
            "\u001b[2K   \u001b[90m━━━━━━━━━━━━━━━━━━━━━━━━━━━━━━━━━━━━━━━━\u001b[0m \u001b[32m50.9/50.9 kB\u001b[0m \u001b[31m3.6 MB/s\u001b[0m eta \u001b[36m0:00:00\u001b[0m\n",
            "\u001b[?25hDownloading ormsgpack-1.10.0-cp311-cp311-manylinux_2_17_x86_64.manylinux2014_x86_64.whl (216 kB)\n",
            "\u001b[2K   \u001b[90m━━━━━━━━━━━━━━━━━━━━━━━━━━━━━━━━━━━━━━━━\u001b[0m \u001b[32m216.5/216.5 kB\u001b[0m \u001b[31m12.3 MB/s\u001b[0m eta \u001b[36m0:00:00\u001b[0m\n",
            "\u001b[?25hDownloading sse_starlette-3.0.2-py3-none-any.whl (11 kB)\n",
            "Downloading typing_inspect-0.9.0-py3-none-any.whl (8.8 kB)\n",
            "Downloading mypy_extensions-1.1.0-py3-none-any.whl (5.0 kB)\n",
            "Building wheels for collected packages: wikipedia\n",
            "  Building wheel for wikipedia (setup.py) ... \u001b[?25l\u001b[?25hdone\n",
            "  Created wheel for wikipedia: filename=wikipedia-1.4.0-py3-none-any.whl size=11678 sha256=1bd5e2e155f21a5a042db6a1ee48bcccbb9e2e2a6f5959f5584f69e8a5effe9f\n",
            "  Stored in directory: /root/.cache/pip/wheels/8f/ab/cb/45ccc40522d3a1c41e1d2ad53b8f33a62f394011ec38cd71c6\n",
            "Successfully built wikipedia\n",
            "Installing collected packages: python-dotenv, ormsgpack, mypy-extensions, marshmallow, lark, httpx-sse, dnspython, wikipedia, typing-inspect, sse-starlette, pymongo, pydantic-settings, openai, motor, langgraph-sdk, dydantic, dataclasses-json, mcp, langgraph-checkpoint, langchain_openai, langchain-mcp-adapters, langgraph-prebuilt, langgraph, langchain-mongodb, langchain_community, trustcall, langgraph-checkpoint-mongodb\n",
            "  Attempting uninstall: openai\n",
            "    Found existing installation: openai 1.99.8\n",
            "    Uninstalling openai-1.99.8:\n",
            "      Successfully uninstalled openai-1.99.8\n",
            "Successfully installed dataclasses-json-0.6.7 dnspython-2.7.0 dydantic-0.0.8 httpx-sse-0.4.1 langchain-mcp-adapters-0.1.9 langchain-mongodb-0.6.2 langchain_community-0.3.27 langchain_openai-0.3.30 langgraph-0.6.5 langgraph-checkpoint-2.1.1 langgraph-checkpoint-mongodb-0.1.4 langgraph-prebuilt-0.6.4 langgraph-sdk-0.2.0 lark-1.2.2 marshmallow-3.26.1 mcp-1.12.4 motor-3.7.1 mypy-extensions-1.1.0 openai-1.99.9 ormsgpack-1.10.0 pydantic-settings-2.10.1 pymongo-4.12.1 python-dotenv-1.1.1 sse-starlette-3.0.2 trustcall-0.0.39 typing-inspect-0.9.0 wikipedia-1.4.0\n"
          ]
        }
      ]
    },
    {
      "cell_type": "code",
      "source": [
        "from dotenv import load_dotenv  # load environment variables from a .env file into your program’s os.environ dictionary\n",
        "load_dotenv(\"/content/langgraph-intro/.env\", override=True)"
      ],
      "metadata": {
        "id": "yd7aykQaBL3u",
        "outputId": "91358673-04e9-4baa-b129-0886b0a6322d",
        "colab": {
          "base_uri": "https://localhost:8080/"
        }
      },
      "execution_count": 17,
      "outputs": [
        {
          "output_type": "execute_result",
          "data": {
            "text/plain": [
              "True"
            ]
          },
          "metadata": {},
          "execution_count": 17
        }
      ]
    },
    {
      "cell_type": "markdown",
      "metadata": {
        "id": "xMFXXcIGsWU5"
      },
      "source": [
        "# Chain\n",
        "![Chain](https://github.com/esurovtsev/langgraph-intro/blob/main/images/chain.png?raw=1)"
      ]
    },
    {
      "cell_type": "markdown",
      "metadata": {
        "id": "EQZ_wKmosWU7"
      },
      "source": [
        "## Basic Graph\n",
        "![Graph](https://github.com/esurovtsev/langgraph-intro/blob/main/images/graph.png?raw=1)"
      ]
    },
    {
      "cell_type": "markdown",
      "metadata": {
        "id": "e6XAPgp6sWU8"
      },
      "source": [
        "### State\n",
        "A State shows the graph’s current setup and tracks changes over time. It serves as input and output for all Nodes and Edges."
      ]
    },
    {
      "cell_type": "code",
      "execution_count": 5,
      "metadata": {
        "id": "6iTL-BWJsWU8"
      },
      "outputs": [],
      "source": [
        "from typing_extensions import TypedDict # Typed Dictionary is a Python dictionary with fixed keys and type hints.\n",
        "\n",
        "class State(TypedDict):\n",
        "    state: str"
      ]
    },
    {
      "cell_type": "markdown",
      "metadata": {
        "id": "jzikZ1pAsWU9"
      },
      "source": [
        "### Node\n",
        "a Node represents an individual element or point within the graph, storing data and connecting with other nodes through edges to form relationships.\n",
        "\n",
        "a Node is a Python function, the first arg of the function is a State"
      ]
    },
    {
      "cell_type": "code",
      "execution_count": 6,
      "metadata": {
        "id": "fQ0ygjBxsWU9"
      },
      "outputs": [],
      "source": [
        "def node_1(state):\n",
        "    print(\"Node 1\")\n",
        "    return {\"state\": state[\"state\"] + \"-1-\"}\n",
        "\n",
        "def node_2(state):\n",
        "    print(\"Node 2\")\n",
        "    return {\"state\": state[\"state\"] + \"-2-\"}\n",
        "\n",
        "def node_3(state):\n",
        "    print(\"Node 3\")\n",
        "    return {\"state\": state[\"state\"] + \"-3-\"}"
      ]
    },
    {
      "cell_type": "markdown",
      "metadata": {
        "id": "rp0y8LECsWU-"
      },
      "source": [
        "### Edges\n",
        "an Edge represents a connection between two nodes, defining the relationship or interaction between them and potentially carrying additional data.\n",
        "types:\n",
        "    - normal edges: always go this way (from node_1 to node_2)\n",
        "    - conditional edges: optional route between nodes. a Pythin function that returns a next node based on a logic"
      ]
    },
    {
      "cell_type": "code",
      "execution_count": 7,
      "metadata": {
        "id": "L35tGWTGsWU-"
      },
      "outputs": [],
      "source": [
        "import random\n",
        "from typing import Literal\n",
        "\n",
        "def get_random_node(state) -> Literal[\"node_2\", \"node_3\"]:\n",
        "    current_state = state['state'] # usually the desiction is based on current state\n",
        "    if random.random() < 0.5:\n",
        "        return \"node_2\"\n",
        "    return \"node_3\""
      ]
    },
    {
      "cell_type": "markdown",
      "metadata": {
        "id": "Yuz5TqYKsWU-"
      },
      "source": [
        "### Graph Construction and Invocation\n",
        "START and END are special nodes that represent the start and end of the graph."
      ]
    },
    {
      "cell_type": "code",
      "execution_count": 8,
      "metadata": {
        "id": "HuXXy588sWU-",
        "outputId": "84577212-ecb2-4c95-ce63-19f22627862d",
        "colab": {
          "base_uri": "https://localhost:8080/",
          "height": 350
        }
      },
      "outputs": [
        {
          "output_type": "display_data",
          "data": {
            "image/png": "[encoded data removed]",
            "text/plain": [
              "<IPython.core.display.Image object>"
            ]
          },
          "metadata": {}
        }
      ],
      "source": [
        "from IPython.display import Image, display\n",
        "from langgraph.graph import StateGraph, START, END\n",
        "\n",
        "# generate\n",
        "builder = StateGraph(State)\n",
        "builder.add_node(\"node_1\", node_1)\n",
        "builder.add_node(\"node_2\", node_2)\n",
        "builder.add_node(\"node_3\", node_3)\n",
        "\n",
        "# logic\n",
        "builder.add_edge(START, \"node_1\")\n",
        "builder.add_conditional_edges(\"node_1\", get_random_node)\n",
        "builder.add_edge(\"node_2\", END)\n",
        "builder.add_edge(\"node_3\", END)\n",
        "\n",
        "# building\n",
        "graph = builder.compile()\n",
        "\n",
        "# visualize\n",
        "display(Image(graph.get_graph().draw_mermaid_png()))"
      ]
    },
    {
      "cell_type": "code",
      "execution_count": 9,
      "metadata": {
        "id": "RENVRkGrsWU_",
        "outputId": "9a532910-ea56-434d-c7eb-e4c7e90839dd",
        "colab": {
          "base_uri": "https://localhost:8080/"
        }
      },
      "outputs": [
        {
          "output_type": "stream",
          "name": "stdout",
          "text": [
            "Node 1\n",
            "Node 2\n"
          ]
        },
        {
          "output_type": "execute_result",
          "data": {
            "text/plain": [
              "{'state': 'Hi, there!-1--2-'}"
            ]
          },
          "metadata": {},
          "execution_count": 9
        }
      ],
      "source": [
        "graph.invoke({\"state\" : \"Hi, there!\"})"
      ]
    },
    {
      "cell_type": "markdown",
      "metadata": {
        "id": "S_yhIXCNsWU_"
      },
      "source": [
        "## Some LLM related concepts"
      ]
    },
    {
      "cell_type": "markdown",
      "metadata": {
        "id": "JM5ca7t7sWU_"
      },
      "source": [
        "### Messages\n",
        "chat models operate on messages.\n",
        "various message types (check out our other Spring AI video):\n",
        "\n",
        "    - HumanMessage\n",
        "    - AIMessage\n",
        "    - SystemMessage\n",
        "    - ToolMessage (will check later)"
      ]
    },
    {
      "cell_type": "code",
      "execution_count": 11,
      "metadata": {
        "id": "gTZQIIZSsWU_",
        "outputId": "cbda1c34-540c-4af4-e371-397418681262",
        "colab": {
          "base_uri": "https://localhost:8080/"
        }
      },
      "outputs": [
        {
          "output_type": "stream",
          "name": "stdout",
          "text": [
            "================================\u001b[1m System Message \u001b[0m================================\n",
            "\n",
            "You are a witty and humorous AI assistant for developers, specializing in automating their daily coding headaches.\n",
            "==================================\u001b[1m Ai Message \u001b[0m==================================\n",
            "Name: Model\n",
            "\n",
            "Hey there! I’m your AI assistant. Ready to debug your code—or your life?\n",
            "================================\u001b[1m Human Message \u001b[0m=================================\n",
            "Name: Dev\n",
            "\n",
            "Can you handle all my TODO comments?\n",
            "==================================\u001b[1m Ai Message \u001b[0m==================================\n",
            "Name: Model\n",
            "\n",
            "Sure! I’ll replace 'TODO: Refactor' with 'TODO: Blame someone else.' Problem solved!\n",
            "================================\u001b[1m Human Message \u001b[0m=================================\n",
            "Name: Dev\n",
            "\n",
            "Nice. Can you optimize my SQL too?\n"
          ]
        }
      ],
      "source": [
        "from pprint import pprint\n",
        "from langchain_core.messages import AIMessage, HumanMessage, SystemMessage\n",
        "\n",
        "# Initial SystemMessage to set context\n",
        "messages = [\n",
        "    SystemMessage(content=\"You are a witty and humorous AI assistant for developers, specializing in automating their daily coding headaches.\"),\n",
        "]\n",
        "\n",
        "messages.append(AIMessage(content=\"Hey there! I’m your AI assistant. Ready to debug your code—or your life?\", name=\"Model\"))\n",
        "messages.append(HumanMessage(content=\"Can you handle all my TODO comments?\", name=\"Dev\"))\n",
        "messages.append(AIMessage(content=\"Sure! I’ll replace 'TODO: Refactor' with 'TODO: Blame someone else.' Problem solved!\", name=\"Model\"))\n",
        "messages.append(HumanMessage(content=\"Nice. Can you optimize my SQL too?\", name=\"Dev\"))\n",
        "\n",
        "for message in messages:\n",
        "    message.pretty_print()"
      ]
    },
    {
      "cell_type": "code",
      "source": [
        "message"
      ],
      "metadata": {
        "id": "XWgiTxckBvpt",
        "outputId": "ce96f8d5-d636-4b49-ff9b-2bac503b22d7",
        "colab": {
          "base_uri": "https://localhost:8080/"
        }
      },
      "execution_count": 12,
      "outputs": [
        {
          "output_type": "execute_result",
          "data": {
            "text/plain": [
              "HumanMessage(content='Nice. Can you optimize my SQL too?', additional_kwargs={}, response_metadata={}, name='Dev')"
            ]
          },
          "metadata": {},
          "execution_count": 12
        }
      ]
    },
    {
      "cell_type": "markdown",
      "metadata": {
        "id": "YRFK9FstsWU_"
      },
      "source": [
        "### Chat models\n",
        "processes messages as prompts and response with completion.\n",
        "- OpenAI"
      ]
    },
    {
      "cell_type": "code",
      "execution_count": 18,
      "metadata": {
        "id": "m-1gWrBFsWU_",
        "outputId": "6727acba-c2ed-480c-f822-362ccb83a4ce",
        "colab": {
          "base_uri": "https://localhost:8080/",
          "height": 186
        }
      },
      "outputs": [
        {
          "output_type": "execute_result",
          "data": {
            "text/plain": [
              "langchain_core.messages.ai.AIMessage"
            ],
            "text/html": [
              "<div style=\"max-width:800px; border: 1px solid var(--colab-border-color);\"><style>\n",
              "      pre.function-repr-contents {\n",
              "        overflow-x: auto;\n",
              "        padding: 8px 12px;\n",
              "        max-height: 500px;\n",
              "      }\n",
              "\n",
              "      pre.function-repr-contents.function-repr-contents-collapsed {\n",
              "        cursor: pointer;\n",
              "        max-height: 100px;\n",
              "      }\n",
              "    </style>\n",
              "    <pre style=\"white-space: initial; background:\n",
              "         var(--colab-secondary-surface-color); padding: 8px 12px;\n",
              "         border-bottom: 1px solid var(--colab-border-color);\"><b>langchain_core.messages.ai.AIMessage</b><br/>def __init__(content: Union[str, list[Union[str, dict]]], **kwargs: Any) -&gt; None</pre><pre class=\"function-repr-contents function-repr-contents-collapsed\" style=\"\"><a class=\"filepath\" style=\"display:none\" href=\"#\">/usr/local/lib/python3.11/dist-packages/langchain_core/messages/ai.py</a>Message from an AI.\n",
              "\n",
              "AIMessage is returned from a chat model as a response to a prompt.\n",
              "\n",
              "This message represents the output of the model and consists of both\n",
              "the raw output as returned by the model together standardized fields\n",
              "(e.g., tool calls, usage metadata) added by the LangChain framework.</pre>\n",
              "      <script>\n",
              "      if (google.colab.kernel.accessAllowed && google.colab.files && google.colab.files.view) {\n",
              "        for (const element of document.querySelectorAll('.filepath')) {\n",
              "          element.style.display = 'block'\n",
              "          element.onclick = (event) => {\n",
              "            event.preventDefault();\n",
              "            event.stopPropagation();\n",
              "            google.colab.files.view(element.textContent, 154);\n",
              "          };\n",
              "        }\n",
              "      }\n",
              "      for (const element of document.querySelectorAll('.function-repr-contents')) {\n",
              "        element.onclick = (event) => {\n",
              "          event.preventDefault();\n",
              "          event.stopPropagation();\n",
              "          element.classList.toggle('function-repr-contents-collapsed');\n",
              "        };\n",
              "      }\n",
              "      </script>\n",
              "      </div>"
            ]
          },
          "metadata": {},
          "execution_count": 18
        }
      ],
      "source": [
        "from langchain_openai import ChatOpenAI\n",
        "\n",
        "# OPENAI_API_KEY environment variable must be set\n",
        "llm = ChatOpenAI(model=\"gpt-4o-mini\")\n",
        "result = llm.invoke(messages)\n",
        "\n",
        "type(result)"
      ]
    },
    {
      "cell_type": "code",
      "source": [
        "from rich.markdown import Markdown\n",
        "Markdown(result.content)"
      ],
      "metadata": {
        "colab": {
          "base_uri": "https://localhost:8080/",
          "height": 49
        },
        "id": "8YGuatg8nl_x",
        "outputId": "a35357e4-9369-4131-c76d-b5d9777a684a"
      },
      "execution_count": 20,
      "outputs": [
        {
          "output_type": "execute_result",
          "data": {
            "text/plain": [
              "Absolutely! I can make your SQL queries faster than a caffeinated squirrel. Just share what you’ve got, and we’ll  \n",
              "turn that sluggish query into a speedy rabbit!                                                                     \n"
            ],
            "text/html": [
              "<pre style=\"white-space:pre;overflow-x:auto;line-height:normal;font-family:Menlo,'DejaVu Sans Mono',consolas,'Courier New',monospace\">Absolutely! I can make your SQL queries faster than a caffeinated squirrel. Just share what you’ve got, and we’ll  \n",
              "turn that sluggish query into a speedy rabbit!                                                                     \n",
              "</pre>\n"
            ]
          },
          "metadata": {},
          "execution_count": 20
        }
      ]
    },
    {
      "cell_type": "code",
      "execution_count": 19,
      "metadata": {
        "id": "J-mCd9r5sWU_",
        "outputId": "196a717e-50e6-4299-e682-fc87b9c80ca2",
        "colab": {
          "base_uri": "https://localhost:8080/"
        }
      },
      "outputs": [
        {
          "output_type": "stream",
          "name": "stdout",
          "text": [
            "{\n",
            "    \"content\": \"Absolutely! I can make your SQL queries faster than a caffeinated squirrel. Just share what you\\u2019ve got, and we\\u2019ll turn that sluggish query into a speedy rabbit!\",\n",
            "    \"additional_kwargs\": {\n",
            "        \"refusal\": null\n",
            "    },\n",
            "    \"response_metadata\": {\n",
            "        \"token_usage\": {\n",
            "            \"completion_tokens\": 34,\n",
            "            \"prompt_tokens\": 109,\n",
            "            \"total_tokens\": 143,\n",
            "            \"completion_tokens_details\": {\n",
            "                \"accepted_prediction_tokens\": 0,\n",
            "                \"audio_tokens\": 0,\n",
            "                \"reasoning_tokens\": 0,\n",
            "                \"rejected_prediction_tokens\": 0\n",
            "            },\n",
            "            \"prompt_tokens_details\": {\n",
            "                \"audio_tokens\": 0,\n",
            "                \"cached_tokens\": 0\n",
            "            }\n",
            "        },\n",
            "        \"model_name\": \"gpt-4o-mini-2024-07-18\",\n",
            "        \"system_fingerprint\": \"fp_34a54ae93c\",\n",
            "        \"id\": \"chatcmpl-C4Rdeu8dB0I3tj4wv7PB6wgK9vEms\",\n",
            "        \"service_tier\": \"default\",\n",
            "        \"finish_reason\": \"stop\",\n",
            "        \"logprobs\": null\n",
            "    },\n",
            "    \"type\": \"ai\",\n",
            "    \"name\": null,\n",
            "    \"id\": \"run--87211801-6047-400f-971c-d13fa453f53c-0\",\n",
            "    \"example\": false,\n",
            "    \"tool_calls\": [],\n",
            "    \"invalid_tool_calls\": [],\n",
            "    \"usage_metadata\": {\n",
            "        \"input_tokens\": 109,\n",
            "        \"output_tokens\": 34,\n",
            "        \"total_tokens\": 143,\n",
            "        \"input_token_details\": {\n",
            "            \"audio\": 0,\n",
            "            \"cache_read\": 0\n",
            "        },\n",
            "        \"output_token_details\": {\n",
            "            \"audio\": 0,\n",
            "            \"reasoning\": 0\n",
            "        }\n",
            "    }\n",
            "}\n"
          ]
        }
      ],
      "source": [
        "import json\n",
        "\n",
        "print(json.dumps(vars(result), indent=4))"
      ]
    },
    {
      "cell_type": "markdown",
      "metadata": {
        "id": "-DMlgrE_sWU_"
      },
      "source": [
        "### Tools\n",
        "Tools help an AI use special apps or systems to do things it can’t do on its own, like checking the weather or solving tricky problems.\n",
        "\n",
        "![Graph](https://github.com/esurovtsev/langgraph-intro/blob/main/images/tools.png?raw=1)"
      ]
    },
    {
      "cell_type": "code",
      "execution_count": 21,
      "metadata": {
        "id": "YWl-oB1TsWU_"
      },
      "outputs": [],
      "source": [
        "def multiply_values(a, b):\n",
        "    \"\"\"\n",
        "    Multiply two values and return the result.\n",
        "\n",
        "    Parameters:\n",
        "        a (float): The first value.\n",
        "        b (float): The second value.\n",
        "\n",
        "    Returns:\n",
        "        float: The product of a and b.\n",
        "    \"\"\"\n",
        "    return a * b\n",
        "\n",
        "llm_tools = llm.bind_tools([multiply_values])"
      ]
    },
    {
      "cell_type": "markdown",
      "metadata": {
        "id": "29P-bl3osWVA"
      },
      "source": [
        "#### How does LLM know which tool to use?\n",
        "- the name of the function\n",
        "- docstring definition\n",
        "- number of arguments\n",
        "- ..."
      ]
    },
    {
      "cell_type": "code",
      "execution_count": 24,
      "metadata": {
        "id": "ssKaLRwTsWVA",
        "outputId": "c2eb9ab3-b4f5-4792-b3dd-5b308755bad3",
        "colab": {
          "base_uri": "https://localhost:8080/"
        }
      },
      "outputs": [
        {
          "output_type": "stream",
          "name": "stdout",
          "text": [
            "{\n",
            "    \"content\": \"\",\n",
            "    \"additional_kwargs\": {\n",
            "        \"tool_calls\": [\n",
            "            {\n",
            "                \"id\": \"call_PBVuMXOpr0ebPMYdAq7F4cav\",\n",
            "                \"function\": {\n",
            "                    \"arguments\": \"{\\\"a\\\":2,\\\"b\\\":3}\",\n",
            "                    \"name\": \"multiply_values\"\n",
            "                },\n",
            "                \"type\": \"function\"\n",
            "            }\n",
            "        ],\n",
            "        \"refusal\": null\n",
            "    },\n",
            "    \"response_metadata\": {\n",
            "        \"token_usage\": {\n",
            "            \"completion_tokens\": 18,\n",
            "            \"prompt_tokens\": 77,\n",
            "            \"total_tokens\": 95,\n",
            "            \"completion_tokens_details\": {\n",
            "                \"accepted_prediction_tokens\": 0,\n",
            "                \"audio_tokens\": 0,\n",
            "                \"reasoning_tokens\": 0,\n",
            "                \"rejected_prediction_tokens\": 0\n",
            "            },\n",
            "            \"prompt_tokens_details\": {\n",
            "                \"audio_tokens\": 0,\n",
            "                \"cached_tokens\": 0\n",
            "            }\n",
            "        },\n",
            "        \"model_name\": \"gpt-4o-mini-2024-07-18\",\n",
            "        \"system_fingerprint\": \"fp_34a54ae93c\",\n",
            "        \"id\": \"chatcmpl-C4RiMTHCMLDMjXM5dp57uzGZfMfj6\",\n",
            "        \"service_tier\": \"default\",\n",
            "        \"finish_reason\": \"tool_calls\",\n",
            "        \"logprobs\": null\n",
            "    },\n",
            "    \"type\": \"ai\",\n",
            "    \"name\": null,\n",
            "    \"id\": \"run--b1881431-1ef7-41f1-8223-75fab921992c-0\",\n",
            "    \"example\": false,\n",
            "    \"tool_calls\": [\n",
            "        {\n",
            "            \"name\": \"multiply_values\",\n",
            "            \"args\": {\n",
            "                \"a\": 2,\n",
            "                \"b\": 3\n",
            "            },\n",
            "            \"id\": \"call_PBVuMXOpr0ebPMYdAq7F4cav\",\n",
            "            \"type\": \"tool_call\"\n",
            "        }\n",
            "    ],\n",
            "    \"invalid_tool_calls\": [],\n",
            "    \"usage_metadata\": {\n",
            "        \"input_tokens\": 77,\n",
            "        \"output_tokens\": 18,\n",
            "        \"total_tokens\": 95,\n",
            "        \"input_token_details\": {\n",
            "            \"audio\": 0,\n",
            "            \"cache_read\": 0\n",
            "        },\n",
            "        \"output_token_details\": {\n",
            "            \"audio\": 0,\n",
            "            \"reasoning\": 0\n",
            "        }\n",
            "    }\n",
            "}\n"
          ]
        }
      ],
      "source": [
        "tool_call = llm_tools.invoke([HumanMessage(content=f\"What is 2 multiplied by 3\", name=\"Dev\")])\n",
        "\n",
        "print(json.dumps(vars(tool_call), indent=4))"
      ]
    },
    {
      "cell_type": "markdown",
      "metadata": {
        "id": "O7E1dTcXsWVA"
      },
      "source": [
        "### Merging Messages with State\n",
        "with LLM we're ineterested in passing messages between nodes. So they become a part of the state."
      ]
    },
    {
      "cell_type": "code",
      "execution_count": 27,
      "metadata": {
        "id": "0Z_7wZirsWVA"
      },
      "outputs": [],
      "source": [
        "from typing_extensions import TypedDict\n",
        "from langchain_core.messages import AnyMessage\n",
        "\n",
        "class MessagesState(TypedDict):\n",
        "    messages: list[AnyMessage]"
      ]
    },
    {
      "cell_type": "markdown",
      "metadata": {
        "id": "DcZeqVRgsWVA"
      },
      "source": [
        "the problem with this approach - override of the state.\n",
        "so we need to append messages to the list\n",
        "we will use reducers for changing the way how state is being updated.\n",
        "\n",
        "```python\n",
        "def node_1(state):\n",
        "    print(\"Node 1\")\n",
        "    return {\"state\": state[\"state\"] + \"-1-\"}"
      ]
    },
    {
      "cell_type": "code",
      "execution_count": 28,
      "metadata": {
        "id": "I5wRGy5zsWVA",
        "outputId": "b9afd3f4-9624-4f53-df2f-daf262f4a5fa",
        "colab": {
          "base_uri": "https://localhost:8080/"
        }
      },
      "outputs": [
        {
          "output_type": "execute_result",
          "data": {
            "text/plain": [
              "[SystemMessage(content='You are a witty and humorous AI assistant for developers, specializing in automating their daily coding headaches.', additional_kwargs={}, response_metadata={}, id='8cd302db-ddcf-4402-addc-3a2f19328eb0'),\n",
              " AIMessage(content='Hey there! I’m your AI assistant. Ready to debug your code—or your life?', additional_kwargs={}, response_metadata={}, name='Model', id='19a215eb-a713-437a-aa6b-0e8c9abaebf6')]"
            ]
          },
          "metadata": {},
          "execution_count": 28
        }
      ],
      "source": [
        "from typing import Annotated\n",
        "from langgraph.graph.message import add_messages\n",
        "\n",
        "class MessagesState(TypedDict):\n",
        "    messages: Annotated[list[AnyMessage], add_messages]\n",
        "\n",
        "\n",
        "initial_messages = [SystemMessage(content=\"You are a witty and humorous AI assistant for developers, specializing in automating their daily coding headaches.\")]\n",
        "new_message = AIMessage(content=\"Hey there! I’m your AI assistant. Ready to debug your code—or your life?\", name=\"Model\")\n",
        "add_messages(initial_messages , new_message)"
      ]
    },
    {
      "cell_type": "code",
      "execution_count": 29,
      "metadata": {
        "id": "lR-gwCb4sWVA"
      },
      "outputs": [],
      "source": [
        "from langgraph.graph import MessagesState\n",
        "\n",
        "class MessagesState(MessagesState):\n",
        "    # Extend to include additional keys beyond the pre-built messages key\n",
        "    pass"
      ]
    },
    {
      "cell_type": "markdown",
      "metadata": {
        "id": "EPvaPb7WsWVA"
      },
      "source": [
        "## Combine all together\n",
        "![Graph](https://github.com/esurovtsev/langgraph-intro/blob/main/images/tools.png?raw=1)"
      ]
    },
    {
      "cell_type": "code",
      "execution_count": 30,
      "metadata": {
        "id": "kpFs63zssWVA",
        "colab": {
          "base_uri": "https://localhost:8080/",
          "height": 251
        },
        "outputId": "b51ff29e-d92e-460c-aea2-9381fe33e9fa"
      },
      "outputs": [
        {
          "output_type": "display_data",
          "data": {
            "image/png": "[encoded data removed]",
            "text/plain": [
              "<IPython.core.display.Image object>"
            ]
          },
          "metadata": {}
        }
      ],
      "source": [
        "from IPython.display import Image, display\n",
        "from langgraph.graph import StateGraph, START, END\n",
        "\n",
        "# Node\n",
        "def llm_with_tools(state: MessagesState):\n",
        "    return {\"messages\": [llm_tools.invoke(state[\"messages\"])]}\n",
        "\n",
        "# Build graph\n",
        "builder = StateGraph(MessagesState)\n",
        "builder.add_node(\"llm_with_tools\", llm_with_tools)\n",
        "builder.add_edge(START, \"llm_with_tools\")\n",
        "builder.add_edge(\"llm_with_tools\", END)\n",
        "graph = builder.compile()\n",
        "\n",
        "# View\n",
        "display(Image(graph.get_graph().draw_mermaid_png()))"
      ]
    },
    {
      "cell_type": "code",
      "execution_count": 41,
      "metadata": {
        "id": "kyM_gj2zsWVA",
        "colab": {
          "base_uri": "https://localhost:8080/"
        },
        "outputId": "2ba04b77-9c71-4804-ac7a-d1eedd2d3bcf"
      },
      "outputs": [
        {
          "output_type": "stream",
          "name": "stdout",
          "text": [
            "================================\u001b[1m Human Message \u001b[0m=================================\n",
            "\n",
            "2+3=?\n",
            "==================================\u001b[1m Ai Message \u001b[0m==================================\n",
            "\n",
            "The sum of 2 and 3 is 5.\n"
          ]
        }
      ],
      "source": [
        "messages = graph.invoke({\"messages\": HumanMessage(content=\"2+3=?\")})\n",
        "for m in messages['messages']:\n",
        "    m.pretty_print()"
      ]
    },
    {
      "cell_type": "code",
      "execution_count": 34,
      "metadata": {
        "id": "junn9KfTsWVA",
        "colab": {
          "base_uri": "https://localhost:8080/"
        },
        "outputId": "05c4d4dd-bd4e-426b-d65d-1b5ce2346348"
      },
      "outputs": [
        {
          "output_type": "stream",
          "name": "stdout",
          "text": [
            "================================\u001b[1m Human Message \u001b[0m=================================\n",
            "\n",
            "Multiply 2 and 3\n",
            "==================================\u001b[1m Ai Message \u001b[0m==================================\n",
            "Tool Calls:\n",
            "  multiply_values (call_4yHGRwa9d7m3HttsdJ2AHzq2)\n",
            " Call ID: call_4yHGRwa9d7m3HttsdJ2AHzq2\n",
            "  Args:\n",
            "    a: 2\n",
            "    b: 3\n"
          ]
        }
      ],
      "source": [
        "messages = graph.invoke({\"messages\": HumanMessage(content=\"Multiply 2 and 3\")})\n",
        "for m in messages['messages']:\n",
        "    m.pretty_print()"
      ]
    }
  ],
  "metadata": {
    "kernelspec": {
      "display_name": "venv",
      "language": "python",
      "name": "python3"
    },
    "language_info": {
      "codemirror_mode": {
        "name": "ipython",
        "version": 3
      },
      "file_extension": ".py",
      "mimetype": "text/x-python",
      "name": "python",
      "nbconvert_exporter": "python",
      "pygments_lexer": "ipython3",
      "version": "3.13.1"
    },
    "colab": {
      "provenance": [],
      "include_colab_link": true
    }
  },
  "nbformat": 4,
  "nbformat_minor": 0
}