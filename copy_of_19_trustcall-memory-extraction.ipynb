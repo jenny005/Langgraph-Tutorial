{
 "cells": [
  {
   "cell_type": "markdown",
   "id": "7918c0c5",
   "metadata": {},
   "source": [
    "# Structured outputs"
   ]
  },
  {
   "cell_type": "markdown",
   "id": "6983408b",
   "metadata": {},
   "source": [
    "## with_structured_output"
   ]
  },
  {
   "cell_type": "code",
   "execution_count": 1,
   "id": "1358e622",
   "metadata": {},
   "outputs": [],
   "source": [
    "from typing import List, Optional\n",
    "from pydantic import BaseModel, Field\n",
    "\n",
    "class UserProfile(BaseModel):\n",
    "    name: str = Field(\n",
    "        description=\"The user's preferred name.\",\n",
    "    )\n",
    "    profession: str = Field(\n",
    "        description=\"The user's profession or job title.\",\n",
    "    )\n",
    "    seniority: Optional[str] = Field(\n",
    "        description=\"The user's seniority level, e.g., 'mid-level', 'senior', etc. If unknown, guess it based on profession description\",\n",
    "    )\n",
    "    languages: List[str] = Field(\n",
    "        description=\"A list of programming languages the user is proficient in.\",\n",
    "    )\n",
    "    frameworks: List[str] = Field(\n",
    "        description=\"A list of frameworks or major technologies the user uses.\",\n",
    "    )\n",
    "    current_project: Optional[str] = Field(\n",
    "        description=\"The user's current main project.\",\n",
    "    )\n",
    "    skills: List[str] = Field(\n",
    "        description=\"A list of the user's technical or professional skills.\",\n",
    "    )\n",
    "    current_interest: Optional[str] = Field(\n",
    "        description=\"The user's current main interest or focus, e.g., a topic or technology they are actively exploring or asking about.\",\n",
    "    )"
   ]
  },
  {
   "cell_type": "code",
   "execution_count": 2,
   "id": "236774bb",
   "metadata": {},
   "outputs": [
    {
     "name": "stdout",
     "output_type": "stream",
     "text": [
      "{\n",
      "    \"name\": \"Evgeny\",\n",
      "    \"profession\": \"Software Engineer\",\n",
      "    \"seniority\": \"mid-level\",\n",
      "    \"languages\": [\n",
      "        \"Java\"\n",
      "    ],\n",
      "    \"frameworks\": [\n",
      "        \"Spring Boot\"\n",
      "    ],\n",
      "    \"current_project\": \"TaskManager Application\",\n",
      "    \"skills\": [\n",
      "        \"Java Development\",\n",
      "        \"Spring Framework\",\n",
      "        \"RESTful APIs\"\n",
      "    ],\n",
      "    \"current_interest\": \"Configuring security in Java Spring Boot applications\"\n",
      "}\n"
     ]
    }
   ],
   "source": [
    "from langchain_openai import ChatOpenAI\n",
    "from langchain_core.messages import HumanMessage\n",
    "\n",
    "model = ChatOpenAI(model=\"gpt-4o-mini\")\n",
    "structured_model = model.with_structured_output(UserProfile)\n",
    "\n",
    "profile = structured_model.invoke([HumanMessage(content=\"\"\"\n",
    "Hey, how are you? I am Evgeny, I am a software engineer and I need your help with \n",
    "my project. This is a TaskManager Java Spring Boot application. I do not get how\n",
    "to configure security there!\n",
    "\"\"\")])\n",
    "print(profile.model_dump_json(indent=4))"
   ]
  },
  {
   "cell_type": "markdown",
   "id": "c7486fa0",
   "metadata": {},
   "source": [
    "{\n",
    "  \"$schema\": \"https://json-schema.org/draft/2020-12/schema\",\n",
    "  \"type\": \"object\",\n",
    "  \"properties\": {\n",
    "    \"name\": {\n",
    "      \"type\": \"string\",\n",
    "      \"description\": \"The user's preferred name.\"\n",
    "    },\n",
    "    \"profession\": {\n",
    "      \"type\": \"string\",\n",
    "      \"description\": \"The user's profession or job title.\"\n",
    "    },\n",
    "    \"seniority\": {\n",
    "      \"type\": [\"string\", \"null\"],\n",
    "      \"description\": \"The user's seniority level, e.g., 'mid-level', 'senior', etc. \n",
    "                         If unknown, guess it based on profession description\"\n",
    "    },\n",
    "    ...\n",
    "  },\n",
    "  \"required\": [\"name\", \"profession\", \"languages\", \"frameworks\", \"skills\"],\n",
    "  \"additionalProperties\": false\n",
    "}\n",
    "\n",
    "Hey, how are you? I am Evgeny, I am a software engineer and I need your help with \n",
    "my project. This is a TaskManager Java Spring Boot application. I do not get how\n",
    "to configure security there!"
   ]
  },
  {
   "cell_type": "markdown",
   "id": "abf26a2e",
   "metadata": {},
   "source": [
    "### Why Classical Prompt-Based Structured Output Is Problematic\n",
    "\n",
    "1. No Structural Guarantees\n",
    "\n",
    "The LLM still generates raw text. Parsing is a best-effort guess — not a guarantee. What can go wrong:\n",
    "\n",
    "- Missing fields\n",
    "- Wrong types (\"25\" instead of 25)\n",
    "- Extra fields added\n",
    "- Malformed JSON\n",
    "- Incomplete output\n",
    "\n",
    "2. Full Regeneration on Every Prompt\n",
    "\n",
    "LLMs rebuild the entire structure every time. It can’t update just one field.\n",
    "\n",
    "Why it’s a problem:\n",
    "\n",
    "- You can’t merge or incrementally fill data\n",
    "- Schema updates break old extractions\n",
    "- You risk data loss on every re-generation\n",
    "- Price and Time - you are paying for every token that was repeated, bigger prompts tak more time to process\n",
    "\n",
    "\n",
    "3. Parsing Is Still Fragile\n",
    "\n",
    "Libraries help, but they can’t prevent:\n",
    "\n",
    "- Markdown fences (```json) around JSON\n",
    "- Trailing commas, weird spacing\n",
    "- Fields outside the expected structure"
   ]
  },
  {
   "cell_type": "markdown",
   "id": "c14a243d",
   "metadata": {},
   "source": [
    "## Tool calling"
   ]
  },
  {
   "cell_type": "code",
   "execution_count": 3,
   "id": "9b6880d7",
   "metadata": {},
   "outputs": [
    {
     "name": "stdout",
     "output_type": "stream",
     "text": [
      "{\n",
      "    \"content\": \"\",\n",
      "    \"additional_kwargs\": {\n",
      "        \"tool_calls\": [\n",
      "            {\n",
      "                \"id\": \"call_ITARPAkJsl9sZSrMZBkhZJU3\",\n",
      "                \"function\": {\n",
      "                    \"arguments\": \"{\\\"name\\\":\\\"Evgeny\\\",\\\"profession\\\":\\\"Software Engineer\\\",\\\"seniority\\\":null,\\\"languages\\\":[\\\"Java\\\"],\\\"frameworks\\\":[\\\"Spring Boot\\\"],\\\"current_project\\\":\\\"TaskManager Java Spring Boot application\\\",\\\"skills\\\":[],\\\"current_interest\\\":\\\"Configuring security in Spring Boot\\\"}\",\n",
      "                    \"name\": \"UserProfile\"\n",
      "                },\n",
      "                \"type\": \"function\"\n",
      "            }\n",
      "        ],\n",
      "        \"refusal\": null\n",
      "    },\n",
      "    \"response_metadata\": {\n",
      "        \"token_usage\": {\n",
      "            \"completion_tokens\": 61,\n",
      "            \"prompt_tokens\": 230,\n",
      "            \"total_tokens\": 291,\n",
      "            \"completion_tokens_details\": {\n",
      "                \"accepted_prediction_tokens\": 0,\n",
      "                \"audio_tokens\": 0,\n",
      "                \"reasoning_tokens\": 0,\n",
      "                \"rejected_prediction_tokens\": 0\n",
      "            },\n",
      "            \"prompt_tokens_details\": {\n",
      "                \"audio_tokens\": 0,\n",
      "                \"cached_tokens\": 0\n",
      "            }\n",
      "        },\n",
      "        \"model_name\": \"gpt-4o-mini-2024-07-18\",\n",
      "        \"system_fingerprint\": \"fp_560af6e559\",\n",
      "        \"id\": \"chatcmpl-C5uYvefmecysdv1Bq6P0y6VtbmAhL\",\n",
      "        \"service_tier\": \"default\",\n",
      "        \"finish_reason\": \"tool_calls\",\n",
      "        \"logprobs\": null\n",
      "    },\n",
      "    \"type\": \"ai\",\n",
      "    \"name\": null,\n",
      "    \"id\": \"run--3dcf11ee-8e55-419e-b881-a84ae2b9bd01-0\",\n",
      "    \"example\": false,\n",
      "    \"tool_calls\": [\n",
      "        {\n",
      "            \"name\": \"UserProfile\",\n",
      "            \"args\": {\n",
      "                \"name\": \"Evgeny\",\n",
      "                \"profession\": \"Software Engineer\",\n",
      "                \"seniority\": null,\n",
      "                \"languages\": [\n",
      "                    \"Java\"\n",
      "                ],\n",
      "                \"frameworks\": [\n",
      "                    \"Spring Boot\"\n",
      "                ],\n",
      "                \"current_project\": \"TaskManager Java Spring Boot application\",\n",
      "                \"skills\": [],\n",
      "                \"current_interest\": \"Configuring security in Spring Boot\"\n",
      "            },\n",
      "            \"id\": \"call_ITARPAkJsl9sZSrMZBkhZJU3\",\n",
      "            \"type\": \"tool_call\"\n",
      "        }\n",
      "    ],\n",
      "    \"invalid_tool_calls\": [],\n",
      "    \"usage_metadata\": {\n",
      "        \"input_tokens\": 230,\n",
      "        \"output_tokens\": 61,\n",
      "        \"total_tokens\": 291,\n",
      "        \"input_token_details\": {\n",
      "            \"audio\": 0,\n",
      "            \"cache_read\": 0\n",
      "        },\n",
      "        \"output_token_details\": {\n",
      "            \"audio\": 0,\n",
      "            \"reasoning\": 0\n",
      "        }\n",
      "    }\n",
      "}\n"
     ]
    }
   ],
   "source": [
    "from langchain_core.messages import HumanMessage\n",
    "\n",
    "model_with_tools = model.bind_tools(\n",
    "    [UserProfile], \n",
    "    strict=True\n",
    ")\n",
    "\n",
    "response = model_with_tools.invoke([HumanMessage(content=\"\"\"\n",
    "Hey, how are you? I am Evgeny, I am a software engineer and I need your help with \n",
    "my project. This is a TaskManager Java Spring Boot application. I do not get how\n",
    "to configure security there!\n",
    "\"\"\")])\n",
    "print(response.model_dump_json(indent=4))"
   ]
  },
  {
   "cell_type": "code",
   "execution_count": 10,
   "id": "01292680",
   "metadata": {},
   "outputs": [
    {
     "data": {
      "text/plain": [
       "'{\"name\":\"Evgeny\",\"profession\":\"Software Engineer\",\"seniority\":null,\"languages\":[\"Java\"],\"frameworks\":[\"Spring Boot\"],\"current_project\":\"TaskManager Java Spring Boot application\",\"skills\":[],\"current_interest\":\"Configuring security in Spring Boot\"}'"
      ]
     },
     "execution_count": 10,
     "metadata": {},
     "output_type": "execute_result"
    }
   ],
   "source": [
    "response.additional_kwargs[\"tool_calls\"][0][\"function\"][\"arguments\"]"
   ]
  },
  {
   "cell_type": "code",
   "execution_count": 11,
   "id": "3b703d01",
   "metadata": {},
   "outputs": [
    {
     "name": "stdout",
     "output_type": "stream",
     "text": [
      "{\n",
      "    \"name\": \"Evgeny\",\n",
      "    \"profession\": \"Software Engineer\",\n",
      "    \"seniority\": null,\n",
      "    \"languages\": [\n",
      "        \"Java\"\n",
      "    ],\n",
      "    \"frameworks\": [\n",
      "        \"Spring Boot\"\n",
      "    ],\n",
      "    \"current_project\": \"TaskManager Java Spring Boot application\",\n",
      "    \"skills\": [],\n",
      "    \"current_interest\": \"Configuring security in Spring Boot\"\n",
      "}\n"
     ]
    }
   ],
   "source": [
    "import json\n",
    "\n",
    "tool_call_data_raw = response.additional_kwargs[\"tool_calls\"][0][\"function\"][\"arguments\"]\n",
    "tool_call_data = json.loads(tool_call_data_raw)\n",
    "\n",
    "profile = UserProfile(**tool_call_data)\n",
    "\n",
    "print(profile.model_dump_json(indent=4))"
   ]
  },
  {
   "cell_type": "markdown",
   "id": "b026517b",
   "metadata": {},
   "source": [
    "### What about Tooling ?\n",
    "\n",
    "1. No Structural Guarantees → Improved\n",
    "\n",
    "- Tool calling enforces a valid schema: arguments must match expected structure.\n",
    "- Eliminates issues like malformed JSON, markdown wrappers, and invalid formatting.\n",
    "\n",
    "2. Parsing Is Still Fragile → Improved\n",
    "\n",
    "- Tool calling returns clean structured data.\n",
    "- No need for manual parsing, cleanup, or error-prone regex hacks.\n",
    "\n",
    "3. Full Regeneration on Every Prompt - Still a Problem\n",
    "\n",
    "- The model still regenerates the full object each time.\n",
    "- Partial updates and field-level diffs are not supported.\n",
    "- You still pay for repeated content and risk data loss if the model forgets a field."
   ]
  },
  {
   "cell_type": "markdown",
   "id": "a5d49929",
   "metadata": {},
   "source": [
    "## update profile"
   ]
  },
  {
   "cell_type": "code",
   "execution_count": 4,
   "id": "649848a8",
   "metadata": {},
   "outputs": [
    {
     "data": {
      "text/plain": [
       "{'messages': [AIMessage(content='', additional_kwargs={'tool_calls': [{'id': 'call_C06fypvYfnCYTVzCNIjEHqH0', 'function': {'arguments': '{\"name\":\"Evgeny\",\"profession\":\"Software Engineer\",\"seniority\":null,\"languages\":[\"Java\"],\"frameworks\":[\"Spring Boot\"],\"current_project\":\"TaskManager Java Spring Boot application\",\"skills\":[],\"current_interest\":\"Configuring security in Spring Boot application\"}', 'name': 'UserProfile'}, 'type': 'function'}], 'refusal': None}, response_metadata={'token_usage': {'completion_tokens': 62, 'prompt_tokens': 262, 'total_tokens': 324, 'completion_tokens_details': {'accepted_prediction_tokens': 0, 'audio_tokens': 0, 'reasoning_tokens': 0, 'rejected_prediction_tokens': 0}, 'prompt_tokens_details': {'audio_tokens': 0, 'cached_tokens': 0}}, 'model_name': 'gpt-4o-mini-2024-07-18', 'system_fingerprint': 'fp_560af6e559', 'id': 'chatcmpl-C5uZ13d8ZneX6f4R4Ohlw7OY7GQ9x', 'service_tier': 'default', 'finish_reason': 'tool_calls', 'logprobs': None}, id='run--c306805c-c676-45c7-9acf-457c16571931-0', tool_calls=[{'name': 'UserProfile', 'args': {'name': 'Evgeny', 'profession': 'Software Engineer', 'seniority': None, 'languages': ['Java'], 'frameworks': ['Spring Boot'], 'current_project': 'TaskManager Java Spring Boot application', 'skills': [], 'current_interest': 'Configuring security in Spring Boot application'}, 'id': 'call_C06fypvYfnCYTVzCNIjEHqH0', 'type': 'tool_call'}], usage_metadata={'input_tokens': 262, 'output_tokens': 62, 'total_tokens': 324, 'input_token_details': {'audio': 0, 'cache_read': 0}, 'output_token_details': {'audio': 0, 'reasoning': 0}})],\n",
       " 'responses': [UserProfile(name='Evgeny', profession='Software Engineer', seniority=None, languages=['Java'], frameworks=['Spring Boot'], current_project='TaskManager Java Spring Boot application', skills=[], current_interest='Configuring security in Spring Boot application')],\n",
       " 'response_metadata': [{'id': 'call_C06fypvYfnCYTVzCNIjEHqH0'}],\n",
       " 'attempts': 1}"
      ]
     },
     "execution_count": 4,
     "metadata": {},
     "output_type": "execute_result"
    }
   ],
   "source": [
    "from trustcall import create_extractor\n",
    "from langchain_core.messages import HumanMessage\n",
    "from langchain_openai import ChatOpenAI\n",
    "\n",
    "model = ChatOpenAI(model=\"gpt-4o-mini\")\n",
    "trustcall_extractor = create_extractor(model, tools=[UserProfile])\n",
    "\n",
    "\n",
    "# Invoke the extractor\n",
    "result = trustcall_extractor.invoke([HumanMessage(content=\"\"\"\n",
    "Hey, how are you? I am Evgeny, I am a software engineer and I need your help with \n",
    "my project. This is a TaskManager Java Spring Boot application. I do not get how\n",
    "to configure security there!\n",
    "\"\"\")])\n",
    "\n",
    "result"
   ]
  },
  {
   "cell_type": "code",
   "execution_count": 5,
   "id": "a920a45e",
   "metadata": {},
   "outputs": [
    {
     "data": {
      "text/plain": [
       "[UserProfile(name='Evgeny', profession='Software Engineer', seniority=None, languages=['Java'], frameworks=['Spring Boot'], current_project='TaskManager Java Spring Boot application', skills=[], current_interest='Configuring security in Spring Boot application')]"
      ]
     },
     "execution_count": 5,
     "metadata": {},
     "output_type": "execute_result"
    }
   ],
   "source": [
    "schema = result[\"responses\"]\n",
    "schema"
   ]
  },
  {
   "cell_type": "code",
   "execution_count": 6,
   "id": "3c344c73",
   "metadata": {},
   "outputs": [
    {
     "data": {
      "text/plain": [
       "{'name': 'Evgeny',\n",
       " 'profession': 'Software Engineer',\n",
       " 'seniority': None,\n",
       " 'languages': ['Java'],\n",
       " 'frameworks': ['Spring Boot'],\n",
       " 'current_project': 'TaskManager Java Spring Boot application',\n",
       " 'skills': [],\n",
       " 'current_interest': 'Configuring security in Spring Boot application'}"
      ]
     },
     "execution_count": 6,
     "metadata": {},
     "output_type": "execute_result"
    }
   ],
   "source": [
    "profile = schema[0].model_dump()\n",
    "profile"
   ]
  },
  {
   "cell_type": "code",
   "execution_count": 7,
   "id": "5f4f60e6",
   "metadata": {},
   "outputs": [
    {
     "data": {
      "text/plain": [
       "{'name': 'Evgeny',\n",
       " 'profession': 'Software Engineer',\n",
       " 'seniority': None,\n",
       " 'languages': ['Java', 'Kotlin'],\n",
       " 'frameworks': ['Spring Boot', 'ReactJS'],\n",
       " 'current_project': 'TaskManager Java Spring Boot application',\n",
       " 'skills': [],\n",
       " 'current_interest': 'Configuring security in Spring Boot application'}"
      ]
     },
     "execution_count": 7,
     "metadata": {},
     "output_type": "execute_result"
    }
   ],
   "source": [
    "message = \"\"\"\n",
    "Update the memory (JSON doc) to incorporate new information from the following conversation:\n",
    "<conversation>\n",
    "I also can develop in Kotlin and ReactJS\n",
    "</conversation>\n",
    "\"\"\"\n",
    "\n",
    "result = trustcall_extractor.invoke(\n",
    "    {\n",
    "        \"messages\": [HumanMessage(content=message)], \n",
    "        \"existing\": {\"UserProfile\": profile}\n",
    "    }\n",
    ")  \n",
    "\n",
    "profile_after_update = result[\"responses\"][0].model_dump()\n",
    "profile_after_update"
   ]
  },
  {
   "cell_type": "markdown",
   "id": "fed36969",
   "metadata": {},
   "source": [
    "## Chat bot with profile updates"
   ]
  },
  {
   "cell_type": "code",
   "execution_count": 8,
   "id": "f34f1da0",
   "metadata": {},
   "outputs": [
    {
     "data": {
      "image/png": "[encoded data removed]",
      "text/plain": [
       "<IPython.core.display.Image object>"
      ]
     },
     "metadata": {},
     "output_type": "display_data"
    }
   ],
   "source": [
    "from IPython.display import Image, display\n",
    "from langchain_openai import ChatOpenAI\n",
    "\n",
    "from langgraph.checkpoint.memory import MemorySaver\n",
    "from langgraph.graph import StateGraph, MessagesState, START, END\n",
    "from langchain_core.runnables.config import RunnableConfig\n",
    "from langgraph.store.base import BaseStore\n",
    "from langchain_core.messages import SystemMessage\n",
    "from langgraph.store.memory import InMemoryStore\n",
    "\n",
    "long_term_memory = InMemoryStore()\n",
    "\n",
    "user_id = \"1\"\n",
    "namespace = (user_id, \"memory\")\n",
    "key = \"profile\"\n",
    "\n",
    "profile = None\n",
    "\n",
    "long_term_memory.put(namespace, key, profile)\n",
    "\n",
    "\n",
    "\n",
    "model = ChatOpenAI(model=\"gpt-4o-mini\")\n",
    "\n",
    "### Nodes\n",
    "\n",
    "def chat(state: MessagesState, config: RunnableConfig, store: BaseStore):\n",
    "    user_id = config[\"configurable\"][\"user_id\"]\n",
    "\n",
    "    # Retrieve memory from the store\n",
    "    profile = store.get((user_id, \"memory\"), \"profile\")\n",
    "\n",
    "    # Extract the actual memory content if it exists and add a prefix\n",
    "    if profile:\n",
    "        profile_content = profile.value\n",
    "    else:\n",
    "        profile_content = None\n",
    "\n",
    "    # Format the memory in the system prompt\n",
    "    system_msg = f\"\"\"\n",
    "    You are a helpful assistant with memory capabilities.\n",
    "    If user-specific memory is available, use it to personalize \n",
    "    your responses based on what you know about the user.\n",
    "    \n",
    "    Your goal is to provide relevant, friendly, and tailored \n",
    "    assistance that reflects the user’s preferences, context, and past interactions.\n",
    "\n",
    "    If the user’s name or relevant personal context is available, always personalize your responses by:\n",
    "        – Addressing the user by name (e.g., \"Sure, Bob...\") when appropriate\n",
    "        – Referencing known projects, tools, or preferences (e.g., \"your MCP  server typescript based project\")\n",
    "        – Adjusting the tone to feel friendly, natural, and directly aimed at the user\n",
    "\n",
    "    Avoid generic phrasing when personalization is possible. For example, instead of \"In TypeScript apps...\" say \"Since your project is built with TypeScript...\"\n",
    "\n",
    "    Use personalization especially in:\n",
    "        – Greetings and transitions\n",
    "        – Help or guidance tailored to tools and frameworks the user uses\n",
    "        – Follow-up messages that continue from past context\n",
    "\n",
    "    Always ensure that personalization is based only on known user details and not assumed.\n",
    "    Tailor your answers to level of seniority of the user if it's known.\n",
    "    \n",
    "    The user’s profile (which may be empty) is provided as JSON (extract all data and use it): {profile_content}\n",
    "    \"\"\"\n",
    "\n",
    "    response = model.invoke([SystemMessage(content=system_msg)] + state[\"messages\"])\n",
    "\n",
    "    return {\"messages\": response}\n",
    "\n",
    "\n",
    "def update_memory(state: MessagesState, config: RunnableConfig, store: BaseStore):\n",
    "    user_id = config[\"configurable\"][\"user_id\"]\n",
    "    namespace = (user_id, \"memory\")\n",
    "    key = \"profile\"\n",
    "    profile = store.get(namespace, key)\n",
    "        \n",
    "\n",
    "    if profile:\n",
    "        profile_content = profile.value\n",
    "    else:\n",
    "        profile_content = None\n",
    "\n",
    "\n",
    "    # Format the memory in the system prompt\n",
    "    system_msg = f\"\"\"\n",
    "    Update the user profile using the user's chat history.\n",
    "    Save this for future reference. If a profile already exists, just update it.\n",
    "    \"\"\"\n",
    "\n",
    "    if not profile_content:\n",
    "        print(\"Create profile\")\n",
    "        updated_profile = trustcall_extractor.invoke(state['messages'])\n",
    "    else:\n",
    "        print(\"Update profile\")\n",
    "        updated_profile = trustcall_extractor.invoke(\n",
    "            {\n",
    "                \"messages\": [SystemMessage(content=system_msg)] + state['messages'], \n",
    "                \"existing\": {\"UserProfile\": profile_content}\n",
    "            }\n",
    "        )\n",
    "\n",
    "    store.put(namespace, key, updated_profile[\"responses\"][0].model_dump())\n",
    "\n",
    "\n",
    "# Define the graph\n",
    "builder = StateGraph(MessagesState)\n",
    "builder.add_node(\"chat\", chat)\n",
    "builder.add_node(\"update_memory\", update_memory)\n",
    "builder.add_edge(START, \"chat\")\n",
    "builder.add_edge(\"chat\", \"update_memory\")\n",
    "builder.add_edge(\"update_memory\", END)\n",
    "\n",
    "short_term_memory = MemorySaver()\n",
    "\n",
    "graph = builder.compile(checkpointer=short_term_memory, store=long_term_memory)\n",
    "\n",
    "display(Image(graph.get_graph(xray=1).draw_mermaid_png()))"
   ]
  },
  {
   "cell_type": "code",
   "execution_count": 9,
   "id": "60697258",
   "metadata": {},
   "outputs": [
    {
     "name": "stdout",
     "output_type": "stream",
     "text": [
      "================================\u001b[1m Human Message \u001b[0m=================================\n",
      "\n",
      "\n",
      "Hey, I am Evgeny, a junior software engineer and I need your help with my project. \n",
      "This is a TaskManager Java Spring Boot application.\n",
      "\n",
      "==================================\u001b[1m Ai Message \u001b[0m==================================\n",
      "\n",
      "Hi Evgeny! It’s great to hear from you. I'd be happy to help with your TaskManager Java Spring Boot application. What specific challenges are you facing, or what help do you need with the project?\n",
      "Create profile\n"
     ]
    }
   ],
   "source": [
    "# start a new conversation\n",
    "thread = {\"configurable\": {\"thread_id\": \"1\", \"user_id\": \"1\"}}\n",
    "\n",
    "# define intiial user request\n",
    "initial_input = {\"messages\": HumanMessage(content=\"\"\"\n",
    "Hey, I am Evgeny, a junior software engineer and I need your help with my project. \n",
    "This is a TaskManager Java Spring Boot application.\n",
    "\"\"\")}\n",
    "\n",
    "# run the graph and stream in values mode\n",
    "for event in graph.stream(initial_input, thread, stream_mode=\"values\"):\n",
    "    event['messages'][-1].pretty_print()"
   ]
  },
  {
   "cell_type": "code",
   "execution_count": 12,
   "id": "839ae929",
   "metadata": {},
   "outputs": [
    {
     "data": {
      "text/plain": [
       "{'namespace': ['1', 'memory'],\n",
       " 'key': 'profile',\n",
       " 'value': {'name': 'Evgeny',\n",
       "  'profession': 'Software Engineer',\n",
       "  'seniority': 'junior',\n",
       "  'languages': ['Java'],\n",
       "  'frameworks': ['Spring Boot'],\n",
       "  'current_project': 'TaskManager application',\n",
       "  'skills': [],\n",
       "  'current_interest': None},\n",
       " 'created_at': '2025-08-18T13:52:41.801216+00:00',\n",
       " 'updated_at': '2025-08-18T13:52:41.801216+00:00'}"
      ]
     },
     "execution_count": 12,
     "metadata": {},
     "output_type": "execute_result"
    }
   ],
   "source": [
    "user_id = thread[\"configurable\"][\"user_id\"]\n",
    "namespace = (user_id, \"memory\")\n",
    "key = \"profile\"\n",
    "profile = long_term_memory.get(namespace, key)\n",
    "profile.dict()"
   ]
  },
  {
   "cell_type": "code",
   "execution_count": 13,
   "id": "7df72908",
   "metadata": {},
   "outputs": [
    {
     "name": "stdout",
     "output_type": "stream",
     "text": [
      "================================\u001b[1m Human Message \u001b[0m=================================\n",
      "\n",
      "\n",
      "I also use Kotlin and I do not get how to set up security configuration in my project!\n",
      "\n",
      "==================================\u001b[1m Ai Message \u001b[0m==================================\n",
      "\n",
      "Hi Evgeny! Since you’re working on a TaskManager application, setting up security in a Spring Boot project with Kotlin can be quite straightforward. Here's a basic outline to help you get started with security configuration.\n",
      "\n",
      "1. **Add Dependencies**: Make sure you have the Spring Security dependency in your `build.gradle.kts` file:\n",
      "\n",
      "   ```kotlin\n",
      "   dependencies {\n",
      "       implementation(\"org.springframework.boot:spring-boot-starter-security\")\n",
      "       // other dependencies\n",
      "   }\n",
      "   ```\n",
      "\n",
      "2. **Create a Security Configuration Class**: You can create a class annotated with `@Configuration` and `@EnableWebSecurity`. Here’s a simple setup to start with:\n",
      "\n",
      "   ```kotlin\n",
      "   import org.springframework.context.annotation.Bean\n",
      "   import org.springframework.context.annotation.Configuration\n",
      "   import org.springframework.security.config.annotation.web.builders.HttpSecurity\n",
      "   import org.springframework.security.config.annotation.web.configuration.EnableWebSecurity\n",
      "   import org.springframework.security.config.annotation.web.configuration.WebSecurityConfigurerAdapter\n",
      "\n",
      "   @Configuration\n",
      "   @EnableWebSecurity\n",
      "   class SecurityConfig : WebSecurityConfigurerAdapter() {\n",
      "       override fun configure(http: HttpSecurity) {\n",
      "           http\n",
      "               .authorizeRequests()\n",
      "                   .antMatchers(\"/public/**\").permitAll()  // Public endpoints\n",
      "                   .anyRequest().authenticated()            // Secured endpoints\n",
      "                   .and()\n",
      "               .formLogin()                                // Enable form-based login\n",
      "                   .permitAll()\n",
      "                   .and()\n",
      "               .logout()\n",
      "                   .permitAll()\n",
      "       }\n",
      "   }\n",
      "   ```\n",
      "\n",
      "3. **Customize User Authentication**: You may want to configure in-memory users or use a custom UserDetailsService for adding your application-specific users.\n",
      "\n",
      "   ```kotlin\n",
      "   @Bean\n",
      "   fun userDetailsService(): UserDetailsService {\n",
      "       return InMemoryUserDetailsManager(\n",
      "           User.withUsername(\"user\")\n",
      "               .password(passwordEncoder().encode(\"password\"))\n",
      "               .roles(\"USER\")\n",
      "               .build()\n",
      "       )\n",
      "   }\n",
      "\n",
      "   @Bean\n",
      "   fun passwordEncoder(): PasswordEncoder {\n",
      "       return PasswordEncoderFactories.createDelegatingPasswordEncoder()\n",
      "   }\n",
      "   ```\n",
      "\n",
      "4. **Secure Application Properties**: Finally, you might want to keep your credentials safe using Spring's application properties configuration.\n",
      "\n",
      "Make sure to tailor the configurations to fit your TaskManager app's requirements! If you're looking for something specific, let me know, and I can provide more targeted help!\n",
      "Update profile\n"
     ]
    }
   ],
   "source": [
    "# start a new conversation\n",
    "thread = {\"configurable\": {\"thread_id\": \"2\", \"user_id\": \"1\"}}\n",
    "\n",
    "# define intiial user request\n",
    "initial_input = {\"messages\": HumanMessage(content=\"\"\"\n",
    "I also use Kotlin and I do not get how to set up security configuration in my project!\n",
    "\"\"\")}\n",
    "\n",
    "# run the graph and stream in values mode\n",
    "for event in graph.stream(initial_input, thread, stream_mode=\"values\"):\n",
    "    event['messages'][-1].pretty_print()"
   ]
  },
  {
   "cell_type": "code",
   "execution_count": 14,
   "id": "c1618b00",
   "metadata": {},
   "outputs": [
    {
     "data": {
      "text/plain": [
       "{'namespace': ['1', 'memory'],\n",
       " 'key': 'profile',\n",
       " 'value': {'name': 'Evgeny',\n",
       "  'profession': 'Software Engineer',\n",
       "  'seniority': 'junior',\n",
       "  'languages': ['Java', 'Kotlin'],\n",
       "  'frameworks': ['Spring Boot'],\n",
       "  'current_project': 'TaskManager application',\n",
       "  'skills': [],\n",
       "  'current_interest': 'Setting up security configuration in projects.'},\n",
       " 'created_at': '2025-08-18T14:02:37.449871+00:00',\n",
       " 'updated_at': '2025-08-18T14:02:37.449871+00:00'}"
      ]
     },
     "execution_count": 14,
     "metadata": {},
     "output_type": "execute_result"
    }
   ],
   "source": [
    "user_id = thread[\"configurable\"][\"user_id\"]\n",
    "namespace = (user_id, \"memory\")\n",
    "key = \"profile\"\n",
    "profile = long_term_memory.get(namespace, key)\n",
    "profile.dict()"
   ]
  },
  {
   "cell_type": "code",
   "execution_count": null,
   "id": "37849a93-9a2f-451b-af09-2878c54c724e",
   "metadata": {},
   "outputs": [],
   "source": []
  }
 ],
 "metadata": {
  "kernelspec": {
   "display_name": "Python 3 (ipykernel)",
   "language": "python",
   "name": "python3"
  },
  "language_info": {
   "codemirror_mode": {
    "name": "ipython",
    "version": 3
   },
   "file_extension": ".py",
   "mimetype": "text/x-python",
   "name": "python",
   "nbconvert_exporter": "python",
   "pygments_lexer": "ipython3",
   "version": "3.11.1"
  }
 },
 "nbformat": 4,
 "nbformat_minor": 5
}
